{
 "cells": [
  {
   "cell_type": "markdown",
   "id": "dc036317",
   "metadata": {},
   "source": [
    "# _Main Notebook_"
   ]
  },
  {
   "cell_type": "markdown",
   "id": "19483fa0",
   "metadata": {},
   "source": [
    "## Table of Contents:\n",
    "\n",
    "- [EDA](#eda)\n",
    "  - [Data Loading](#eda_data)\n",
    "  - [Preliminary checks](#eda_checks)\n",
    "  - [Voting results analysis](#eda_results)\n",
    "  - [Number of votes analysis](#eda_analysis)\n",
    "- [Communities analysis](#communities)\n",
    "  - [Setup](#communities_setup)\n",
    "  - [Interaction Graph](#communites_interaction)\n",
    "  - [Communities](#communities_communities)\n",
    "  - [Vote Analysis](#communities_vote)\n",
    "- [Content of edits analysis](#edits)\n",
    "  - [Setup](#edits_setup)\n",
    "  - [Statistics](#edits_statistics)\n",
    "  - [Investigation of most edited pages](#edits_investigation)"
   ]
  },
  {
   "cell_type": "code",
   "execution_count": null,
   "id": "5b85674f",
   "metadata": {},
   "outputs": [],
   "source": [
    "# Imports\n",
    "import pandas as pd\n",
    "import sys\n",
    "sys.path.append('../')\n",
    "from ada2023.utils import *\n",
    "import matplotlib.pyplot as plt\n",
    "import numpy as np\n",
    "import seaborn as sns\n",
    "import gzip\n",
    "from itertools import combinations \n",
    "from scipy.stats import pearsonr\n",
    "from statsmodels.stats import diagnostic\n",
    "from scipy import stats\n",
    "import statsmodels.formula.api as smf\n",
    "import plotly.graph_objects as go\n",
    "import plotly.express as px"
   ]
  },
  {
   "cell_type": "markdown",
   "id": "75c2535d",
   "metadata": {},
   "source": [
    "# Exploratory Data Analysis <a class=\"anchor\" id=\"eda\"></a>"
   ]
  },
  {
   "cell_type": "markdown",
   "id": "8c00002b",
   "metadata": {},
   "source": [
    "### Data Loading <a class=\"anchor\" id=\"eda_data\"></a>"
   ]
  },
  {
   "cell_type": "code",
   "execution_count": null,
   "id": "338f13c5",
   "metadata": {},
   "outputs": [],
   "source": [
    "with gzip.open('../data/wiki-RfA.txt.gz', 'rt', encoding='utf-8') as f:\n",
    "    blocks = f.read().strip().split('\\n\\n')  # Assuming each record is separated by a blank line\n",
    "\n",
    "data = []\n",
    "\n",
    "# Parse each block of text into a dictionary\n",
    "for block in blocks:\n",
    "    record = {}\n",
    "    for line in block.split('\\n'):\n",
    "        if line:\n",
    "            key, value = line.split(':', 1)  # Split on the first colon only\n",
    "            record[key.strip()] = value.strip()\n",
    "    data.append(record)\n",
    "\n",
    "# Create a DataFrame from the list of dictionaries\n",
    "df = pd.DataFrame(data)\n",
    "\n",
    "#Rename the columns\n",
    "df.columns = ['source', 'target', 'vote', 'result', 'year_election', 'date_vote', 'comment']"
   ]
  },
  {
   "cell_type": "code",
   "execution_count": null,
   "id": "7dfa9967",
   "metadata": {},
   "outputs": [],
   "source": [
    "df"
   ]
  },
  {
   "cell_type": "code",
   "execution_count": null,
   "id": "90a1ea44",
   "metadata": {},
   "outputs": [],
   "source": [
    "# Suppose these are your column names and their descriptions\n",
    "data_description = {\n",
    "    'Column Name': ['source', 'target', 'vote', 'result', 'year_election', 'date_vote', 'comment'],\n",
    "    'Description': [\n",
    "        'Voter for the election, identfied by username',\n",
    "        'Candidate for the election, identfied by username',\n",
    "        'Value of the Vote, 0 : neutral, 1 : support, -1 : oppose',\n",
    "        'Result of the election for which vote was cast, 0 : not promoted, 1 : promoted',\n",
    "        'Year of the election',\n",
    "        'Date when the vote was cast',\n",
    "        'Comment associated with the vote'\n",
    "    ]\n",
    "}\n",
    "\n",
    "# Convert to DataFrame\n",
    "data_description_df = pd.DataFrame(data_description)\n",
    "\n",
    "# Create a table figure\n",
    "fig = go.Figure(data=[go.Table(\n",
    "    header=dict(values=list(data_description_df.columns),\n",
    "                fill_color='paleturquoise',\n",
    "                align='left'),\n",
    "    cells=dict(values=[data_description_df['Column Name'], data_description_df['Description']],\n",
    "               fill_color='lavender',\n",
    "               align='left'))\n",
    "])\n",
    "\n",
    "# Update the figure to adjust its size and reduce white space\n",
    "fig.update_layout(\n",
    "    width=500,  # Set the width to your preference\n",
    "    height=350,  # Set the height to your preference\n",
    "    margin=dict(l=10, r=10, t=10, b=40)  # Reduce margins to reduce white space\n",
    ")\n",
    "\n",
    "# Show figure\n",
    "fig.show()\n",
    "\n",
    "#get the html code for the table\n",
    "fig.write_html(\"table.html\")"
   ]
  },
  {
   "cell_type": "markdown",
   "id": "1a2e1ce2",
   "metadata": {},
   "source": [
    "### Preliminary checks <a class=\"anchor\" id=\"eda_checks\"></a>"
   ]
  },
  {
   "cell_type": "code",
   "execution_count": null,
   "id": "be4463bd",
   "metadata": {},
   "outputs": [],
   "source": [
    "#Create a new dataframe before cleaning the data\n",
    "new_df = df.copy(deep=True)"
   ]
  },
  {
   "cell_type": "markdown",
   "id": "98fa6d81",
   "metadata": {},
   "source": [
    "##### 1 - Dive into user name source"
   ]
  },
  {
   "cell_type": "code",
   "execution_count": null,
   "id": "dcc2f5f5",
   "metadata": {},
   "outputs": [],
   "source": [
    "#Transform the source column to string\n",
    "source_cleaned_data = new_df.copy(deep=True)\n",
    "source_cleaned_data['source'] = source_cleaned_data['source'].astype(str)"
   ]
  },
  {
   "cell_type": "code",
   "execution_count": null,
   "id": "94b3c8a2",
   "metadata": {},
   "outputs": [],
   "source": [
    "#Look at the distribution of the length of the source tags with a box plot\n",
    "ax = source_cleaned_data['source'].str.len().plot(kind='box', patch_artist=True, \n",
    "                                                  boxprops=dict(facecolor='skyblue'))\n",
    "ax.set_title('Distribution of Length of Source Tags', fontsize=14)\n",
    "ax.set_ylabel('Length of Source Tags', fontsize=14)\n",
    "\n",
    "plt.grid(axis='y', linestyle='--', alpha=0.7)\n",
    "\n",
    "plt.show()"
   ]
  },
  {
   "cell_type": "code",
   "execution_count": null,
   "id": "b85577b0",
   "metadata": {},
   "outputs": [],
   "source": [
    "#Look at the number of unique source users\n",
    "unique_voters = source_cleaned_data['source'].nunique()\n",
    "print(f'The number of unique voters is {unique_voters}')\n",
    "\n",
    "#Look at the number of null values for the source\n",
    "nan_source = source_cleaned_data[source_cleaned_data.source == '']['source'].count()\n",
    "print(f'The number of voters without tags is {nan_source}')"
   ]
  },
  {
   "cell_type": "markdown",
   "id": "6f333a1f",
   "metadata": {},
   "source": [
    "While examining the outliers in relation to their source tags:\n",
    "\n",
    "It's observed that outliers possessing source tags longer than 25 characters typically do not present specific issues.\n",
    "A significant portion of these outliers are identified to have empty source tag lengths. Consequently, we've opted to exclude votes linked with empty source tags. This decision aligns with our objective to utilize the data for community building and to track user interactions. Allowing votes from empty source tags might skew our community analysis, potentially leading to an imbalance where certain users' votes are disproportionately influential compared to others."
   ]
  },
  {
   "cell_type": "code",
   "execution_count": null,
   "id": "8e9fbb59",
   "metadata": {},
   "outputs": [],
   "source": [
    "#Remove the rows with votes associated to empty source \n",
    "source_cleaned_data = source_cleaned_data[source_cleaned_data.source != '']"
   ]
  },
  {
   "cell_type": "code",
   "execution_count": null,
   "id": "71b79ddc",
   "metadata": {},
   "outputs": [],
   "source": [
    "#Now we look at the other outliers, votes with user tags of length greater than 200\n",
    "source_cleaned_data[source_cleaned_data.source.str.len() > 20].source.unique()"
   ]
  },
  {
   "cell_type": "markdown",
   "id": "d58f0838",
   "metadata": {},
   "source": [
    "Usernames appear accurate and suitable for user tags, and thus do not require removal.\n"
   ]
  },
  {
   "cell_type": "markdown",
   "id": "052208fa",
   "metadata": {},
   "source": [
    "##### 2 - Dive into target user name"
   ]
  },
  {
   "cell_type": "code",
   "execution_count": null,
   "id": "2120da28",
   "metadata": {},
   "outputs": [],
   "source": [
    "#Make deep copy before cleaning for target\n",
    "target_cleaned_data = source_cleaned_data.copy(deep=True)"
   ]
  },
  {
   "cell_type": "code",
   "execution_count": null,
   "id": "31f0d643",
   "metadata": {},
   "outputs": [],
   "source": [
    "#Look at the distribution of the length of the target tags with a box plot\n",
    "ax = target_cleaned_data['target'].str.len().plot(kind='box', patch_artist=True, \n",
    "                                                  boxprops=dict(facecolor='skyblue'))\n",
    "ax.set_title('Distribution of Length of Target Tags', fontsize=14)\n",
    "ax.set_ylabel('Length of Source Tags', fontsize=14)\n",
    "\n",
    "plt.grid(axis='y', linestyle='--', alpha=0.7)\n",
    "\n",
    "plt.show()"
   ]
  },
  {
   "cell_type": "code",
   "execution_count": null,
   "id": "6a286dcd",
   "metadata": {},
   "outputs": [],
   "source": [
    "#Look at the number of unique target users\n",
    "unique_electives = target_cleaned_data['target'].nunique()\n",
    "print(f'The number of unique users running for election is {unique_electives}')\n",
    "\n",
    "#Look at the number of null values for the source\n",
    "nan_target = target_cleaned_data[target_cleaned_data.target == '']['target'].count()\n",
    "print(f'The number of nan values for the target is {nan_target}')"
   ]
  },
  {
   "cell_type": "code",
   "execution_count": null,
   "id": "1a22a8f4",
   "metadata": {},
   "outputs": [],
   "source": [
    "new_df[new_df.target.str.len() > 20].target.unique()"
   ]
  },
  {
   "cell_type": "markdown",
   "id": "188e66cf",
   "metadata": {},
   "source": [
    "Usernames appear accurate and suitable for user tags, and thus do not require removal."
   ]
  },
  {
   "cell_type": "markdown",
   "id": "3ed528dd",
   "metadata": {},
   "source": [
    "##### 3 - Check the date and time of votes :"
   ]
  },
  {
   "cell_type": "code",
   "execution_count": null,
   "id": "eeb3c2bf",
   "metadata": {},
   "outputs": [],
   "source": [
    "date_cleaned_data = target_cleaned_data.copy(deep=True)"
   ]
  },
  {
   "cell_type": "code",
   "execution_count": null,
   "id": "aaf22702",
   "metadata": {},
   "outputs": [],
   "source": [
    "# Define a function to extract date components\n",
    "def extract_date_components(date_str):\n",
    "    try:\n",
    "        # Split the date string by the comma and space to separate time and date parts\n",
    "        time_part, date_part = date_str.split(', ')\n",
    "        # Split the time part by the colon to separate hours and minutes\n",
    "        hour, minute = time_part.split(':')\n",
    "        # Split the date part by space to separate day, month, and year\n",
    "        day, month, year = date_part.split(' ')\n",
    "        \n",
    "        return pd.Series({\n",
    "            \"hour\": hour,\n",
    "            \"minute\": minute,\n",
    "            \"day\": day,\n",
    "            \"month\": month,\n",
    "            \"year_vote\": year\n",
    "        })\n",
    "    except ValueError:\n",
    "        # If there is a ValueError, return None for each component\n",
    "        return pd.Series({\n",
    "            \"hour\": None,\n",
    "            \"minute\": None,\n",
    "            \"day\": None,\n",
    "            \"month\": None,\n",
    "            \"year_vote\": None\n",
    "        })\n",
    "\n",
    "# Apply the function to each row in the 'date' column\n",
    "date_components = date_cleaned_data['date_vote'].apply(extract_date_components)\n",
    "\n",
    "# Concatenate the new DataFrame with the original one (if needed)\n",
    "date_cleaned_data = pd.concat([date_cleaned_data, date_components], axis=1)\n",
    "\n",
    "date_cleaned_data"
   ]
  },
  {
   "cell_type": "code",
   "execution_count": null,
   "id": "8064eb11",
   "metadata": {},
   "outputs": [],
   "source": [
    "#Look at the proportion of rows with missing date_vote\n",
    "non_date_votes = date_cleaned_data[date_cleaned_data.date_vote == ''].date_vote.count()\n",
    "total_count = date_cleaned_data.date_vote.count()\n",
    "print(f'The number of votes for which the date is missing or incorrect is {non_date_votes}')\n",
    "print(f'This represents {(non_date_votes/total_count)*100:.2f}% of the data.')"
   ]
  },
  {
   "cell_type": "code",
   "execution_count": null,
   "id": "f8e4eb8a",
   "metadata": {},
   "outputs": [],
   "source": [
    "#Remove the rows with missing date_vote\n",
    "date_cleaned_data = date_cleaned_data[date_cleaned_data.date_vote != '']"
   ]
  },
  {
   "cell_type": "code",
   "execution_count": null,
   "id": "26edafc4",
   "metadata": {},
   "outputs": [],
   "source": [
    "#Look at the distribution for the values of the hour with histogram\n",
    "date_cleaned_data['hour'].value_counts().sort_index().plot(kind='bar' , color = 'teal' ,  edgecolor='black')\n",
    "plt.xlabel('Hour the vote was cast')\n",
    "plt.ylabel('Number of votes cast')\n",
    "# Set a grid for easier reference to the quantities\n",
    "plt.grid(axis='y', linestyle='--', alpha=0.7)\n",
    "plt.title('Distribution of votes by hour of day')\n",
    "plt.show()"
   ]
  },
  {
   "cell_type": "code",
   "execution_count": null,
   "id": "6d5e1baa",
   "metadata": {},
   "outputs": [],
   "source": [
    "#Proportion of rows with the hour value as 31\n",
    "ratio_of_31 = date_cleaned_data[date_cleaned_data.hour == \"31\"][\"hour\"].count()/date_cleaned_data[\"hour\"].count()\n",
    "print(f'The proportion of rows with the hour value as 31 is {ratio_of_31}')"
   ]
  },
  {
   "cell_type": "markdown",
   "id": "a9b6b544",
   "metadata": {},
   "source": [
    "In this dataset, there are a small fraction of votes occurring at the 31st hour, which is not a valid time. Given that the number of occurrences is negligible, we have chosen to exclude this data point from the dataframe. This removal is unlikely to affect the overall analysis of the dataset due to its minimal incidence."
   ]
  },
  {
   "cell_type": "code",
   "execution_count": null,
   "id": "eacf1628",
   "metadata": {},
   "outputs": [],
   "source": [
    "#Remove from the dataframe the rows with the value of the hour as 31\n",
    "date_cleaned_data = date_cleaned_data[date_cleaned_data['hour'] != '31']"
   ]
  },
  {
   "cell_type": "code",
   "execution_count": null,
   "id": "22e84e1a",
   "metadata": {},
   "outputs": [],
   "source": [
    "# Set the figure size for better visibility\n",
    "plt.figure(figsize=(15, 10))\n",
    "\n",
    "ax = date_cleaned_data['minute'].value_counts().sort_index().plot(kind='bar', color='teal', edgecolor='black')\n",
    "\n",
    "ax.set_xlabel('Minute of the hour', fontsize=14)\n",
    "ax.set_ylabel('Number of occurrences', fontsize=14)\n",
    "ax.set_title('Distribution of values for the minutes', fontsize=16)\n",
    "\n",
    "plt.grid(axis='y', linestyle='--', alpha=0.7)\n",
    "\n",
    "plt.show()"
   ]
  },
  {
   "cell_type": "markdown",
   "id": "89831b35",
   "metadata": {},
   "source": [
    "The minute values appear to be in order, and their distribution is evenly spread, which aligns with expectations.\n",
    "\n"
   ]
  },
  {
   "cell_type": "code",
   "execution_count": null,
   "id": "a9c08453",
   "metadata": {},
   "outputs": [],
   "source": [
    "#Look at the distribution of the values for the days with histogram and order the values\n",
    "\n",
    "ax = date_cleaned_data['day'].value_counts().sort_index().plot(kind='bar' ,  color='teal', edgecolor='black')\n",
    "plt.grid(axis='y', linestyle='--', alpha=0.7)\n",
    "\n",
    "ax.set_xlabel('Day the vote was cast', fontsize=14)\n",
    "ax.set_ylabel('Number of occurrences', fontsize=14)\n",
    "ax.set_title('Distribution of values for the days', fontsize=16)\n",
    "\n",
    "plt.show()"
   ]
  },
  {
   "cell_type": "markdown",
   "id": "d8659464",
   "metadata": {},
   "source": [
    "The values for the day also seem to be correct.\n",
    "\n"
   ]
  },
  {
   "cell_type": "code",
   "execution_count": null,
   "id": "d7b6f587",
   "metadata": {},
   "outputs": [],
   "source": [
    "#Look at the distribution of the values for the months with histogram and order the values\n",
    "ax = date_cleaned_data['month'].value_counts().sort_index().plot(kind='bar' , color='teal', edgecolor='black')\n",
    "plt.grid(axis='y', linestyle='--', alpha=0.7)\n",
    "\n",
    "ax.set_xlabel('Month the vote was cast', fontsize=14)\n",
    "ax.set_ylabel('Number of occurrences', fontsize=14)\n",
    "ax.set_title('Distribution of values for the months', fontsize=16)\n",
    "\n",
    "plt.show()"
   ]
  },
  {
   "cell_type": "markdown",
   "id": "7b794248",
   "metadata": {},
   "source": [
    "The dataset displays variations in the representation of specific months. For instance, the month of July is listed as 'Jul,' 'Julu,' and 'July'; similarly, October is noted as 'Oct' and 'October.'"
   ]
  },
  {
   "cell_type": "code",
   "execution_count": null,
   "id": "af1ad0e1",
   "metadata": {},
   "outputs": [],
   "source": [
    "#Map the values of the months to the full name of the month\n",
    "month_map = { \n",
    "    \"Apr\" : \"April\",\n",
    "    \"April\" : \"April\",\n",
    "    \"Aug\" : \"August\",\n",
    "    \"August\" : \"August\",\n",
    "    \"Dec\" : \"December\",\n",
    "    \"December\" : \"December\",\n",
    "    \"Feb\" : \"February\",\n",
    "    \"February\" : \"February\",\n",
    "    \"Jan\" : \"January\",\n",
    "    \"Janry\" : \"January\",\n",
    "    \"January\" : \"January\",\n",
    "    \"Jul\" : \"July\",\n",
    "    \"Julu\" : \"July\",\n",
    "    \"July\" : \"July\",\n",
    "    \"Jun\" : \"June\",\n",
    "    \"June\" : \"June\",\n",
    "    \"Mar\" : \"March\",\n",
    "    \"March\" : \"March\",\n",
    "    \"May\" : \"May\",\n",
    "    \"Mya\" : \"May\",\n",
    "    \"Nov\" : \"November\",\n",
    "    \"November\" : \"November\",\n",
    "    \"Oct\" : \"October\",\n",
    "    \"October\" : \"October\",\n",
    "    \"Sep\" : \"September\",\n",
    "    \"September\" : \"September\"\n",
    "}\n",
    "\n",
    "def correction_month (month) : \n",
    "    return month_map.get(month, month)\n",
    "\n",
    "date_cleaned_data['month'] = date_cleaned_data['month'].apply(correction_month)\n",
    "date_cleaned_data"
   ]
  },
  {
   "cell_type": "markdown",
   "id": "c3063ff5",
   "metadata": {},
   "source": [
    "The values for the years seems also to be ok.\n",
    "\n"
   ]
  },
  {
   "cell_type": "code",
   "execution_count": null,
   "id": "e88c3132",
   "metadata": {},
   "outputs": [],
   "source": [
    "date_cleaned_data['date_vote'] = pd.to_datetime(date_cleaned_data['day'].astype(str) + ' ' +\n",
    "                            date_cleaned_data['month'].astype(str) + ' ' +\n",
    "                            date_cleaned_data['year_vote'].astype(str) + ' ' +\n",
    "                            date_cleaned_data['hour'].astype(str) + ':' +\n",
    "                            date_cleaned_data['minute'].astype(str),\n",
    "                            format='%d %B %Y %H:%M' , errors = 'coerce')\n",
    "\n",
    "date_cleaned_data.drop(['hour', 'minute', 'day', 'month', 'year_vote'], axis=1, inplace=True)\n",
    "date_cleaned_data"
   ]
  },
  {
   "cell_type": "markdown",
   "id": "dd2d716c",
   "metadata": {},
   "source": [
    "##### 4 - Dive into the year_election values"
   ]
  },
  {
   "cell_type": "code",
   "execution_count": null,
   "id": "9a70706a",
   "metadata": {},
   "outputs": [],
   "source": [
    "year_elections_cleaned_data = date_cleaned_data.copy(deep=True)"
   ]
  },
  {
   "cell_type": "code",
   "execution_count": null,
   "id": "4d96faeb",
   "metadata": {},
   "outputs": [],
   "source": [
    "#Look at the distribution of the values for year_election\n",
    "year_elections_cleaned_data['year_election'] = year_elections_cleaned_data['year_election'].astype(int)\n",
    "\n",
    "\n",
    "ax = year_elections_cleaned_data['year_election'].value_counts().sort_index().plot(kind='bar' , color='teal', \n",
    "                                                                                   edgecolor='black')\n",
    "plt.grid(axis='y', linestyle='--', alpha=0.7)\n",
    "\n",
    "ax.set_xlabel('Year the election took place', fontsize=14)\n",
    "ax.set_ylabel('Number of occurrences', fontsize=14)\n",
    "ax.set_title('Distribution of the values for year_election', fontsize=16)\n",
    "\n",
    "plt.show()"
   ]
  },
  {
   "cell_type": "code",
   "execution_count": null,
   "id": "cb38dc33",
   "metadata": {
    "lines_to_next_cell": 2
   },
   "outputs": [],
   "source": [
    "import pandas as pd\n",
    "import plotly.express as px\n",
    "\n",
    "# Ensure the 'year_election' column is of type integer\n",
    "year_elections_cleaned_data['year_election'] = year_elections_cleaned_data['year_election'].astype(str)\n",
    "\n",
    "# Calculate the value counts and sort by index (year)\n",
    "year_election_counts = year_elections_cleaned_data['year_election'].value_counts().sort_index()\n",
    "\n",
    "# Create the bar chart using Plotly\n",
    "fig = px.bar(x=year_election_counts.index, y=year_election_counts.values,\n",
    "             labels={'x': 'Year', 'y': 'Number of votes'},\n",
    "             title='Votes per year')\n",
    "fig.update_layout(xaxis_title='Year the election took place',\n",
    "                  yaxis_title='Number of occurrences',\n",
    "                  yaxis=dict(gridcolor='LightPink', gridwidth=0.5),\n",
    "                 title_x=0.5)\n",
    "\n",
    "# Show the figure\n",
    "fig.show()"
   ]
  },
  {
   "cell_type": "code",
   "execution_count": null,
   "id": "962172ce",
   "metadata": {},
   "outputs": [],
   "source": [
    "fig.write_html(\"year_votes.html\")"
   ]
  },
  {
   "cell_type": "code",
   "execution_count": null,
   "id": "3504e4cd",
   "metadata": {
    "lines_to_next_cell": 2
   },
   "outputs": [],
   "source": [
    "#Compute for each year the proportion of elections in that year over the total number of elections\n",
    "year_elections_cleaned_data['year_election'].value_counts(normalize=True).sort_index()"
   ]
  },
  {
   "cell_type": "markdown",
   "id": "150409e8",
   "metadata": {},
   "source": [
    "##### 5 - Dive into the vote and results values\n"
   ]
  },
  {
   "cell_type": "code",
   "execution_count": null,
   "id": "439fb4f9",
   "metadata": {},
   "outputs": [],
   "source": [
    "vote_results_data_cleaned = year_elections_cleaned_data.copy(deep=True)"
   ]
  },
  {
   "cell_type": "code",
   "execution_count": null,
   "id": "1f2244a3",
   "metadata": {},
   "outputs": [],
   "source": [
    "#Look at the distribution of the values for the vote\n",
    "vote_results_data_cleaned['vote'] = vote_results_data_cleaned['vote'].astype(int)\n",
    "vote_results_data_cleaned['result'] = vote_results_data_cleaned['result'].astype(int)\n",
    "\n",
    "print(vote_results_data_cleaned['vote'].describe())\n",
    "ax = vote_results_data_cleaned['vote'].value_counts().sort_index().plot(kind='bar' , color='teal', \n",
    "                                                                        edgecolor='black')\n",
    "plt.grid(axis='y', linestyle='--', alpha=0.7)\n",
    "\n",
    "ax.set_xlabel('Vote', fontsize=14)\n",
    "ax.set_ylabel('Number of occurrences', fontsize=14)\n",
    "ax.set_title('Distribution of the values for the votes', fontsize=16)\n",
    "\n",
    "plt.show()"
   ]
  },
  {
   "cell_type": "code",
   "execution_count": null,
   "id": "77b064cb",
   "metadata": {},
   "outputs": [],
   "source": [
    "# Calculate the percentage of each vote value\n",
    "vote_counts = vote_results_data_cleaned['vote'].value_counts(normalize=True) * 100\n",
    "vote_counts = vote_counts.reset_index()\n",
    "vote_counts.columns = ['Vote', 'Percentage']\n",
    "\n",
    "# Now, create the bar chart using Plotly\n",
    "fig = px.bar(vote_counts, x='Vote', y='Percentage',\n",
    "             labels={'Percentage': 'Percentage (%)', 'Vote': 'Vote'},\n",
    "             title='Distribution of vote values')\n",
    "\n",
    "# Update layout\n",
    "fig.update_layout(showlegend=False,\n",
    "                  xaxis_title=\"Vote\",\n",
    "                  yaxis_title=\"Percentage (%)\",\n",
    "                  yaxis=dict(tickformat=\".2f\"),\n",
    "                  xaxis=dict(tickvals=[-1,0,1],ticktext=[\"Against\", \"Neutral\", \"For\"]),\n",
    "                 title_x=0.5)  # Format for two decimal places\n",
    "\n",
    "# To display the plot\n",
    "fig.show()"
   ]
  },
  {
   "cell_type": "code",
   "execution_count": null,
   "id": "6e7d6f7a",
   "metadata": {},
   "outputs": [],
   "source": [
    "fig.write_html(\"vote_distrib.html\")"
   ]
  },
  {
   "cell_type": "code",
   "execution_count": null,
   "id": "998d25e5",
   "metadata": {},
   "outputs": [],
   "source": [
    "value_perc_vote = vote_results_data_cleaned['vote'].value_counts(normalize=True) * 100\n",
    "\n",
    "# Print the percentages\n",
    "print(\"Percentage of Each Unique Value in vote:\")\n",
    "print(value_perc_vote)"
   ]
  },
  {
   "cell_type": "code",
   "execution_count": null,
   "id": "7b4cc8ee",
   "metadata": {},
   "outputs": [],
   "source": [
    "#Look at the distribution of the values for the result\n",
    "print(vote_results_data_cleaned['result'].describe())\n",
    "ax = vote_results_data_cleaned['result'].value_counts().sort_index().plot(kind='bar' , color='teal', \n",
    "                                                                          edgecolor='black')\n",
    "\n",
    "plt.grid(axis='y', linestyle='--', alpha=0.7)\n",
    "\n",
    "ax.set_xlabel('Election result', fontsize=14)\n",
    "ax.set_ylabel('Number of occurrences', fontsize=14)\n",
    "ax.set_title('Distribution of the values for the results of the elections', fontsize=16)\n",
    "\n",
    "plt.show()\n",
    "plt.show()"
   ]
  },
  {
   "cell_type": "code",
   "execution_count": null,
   "id": "36fb6672",
   "metadata": {},
   "outputs": [],
   "source": [
    "value_perc_result = vote_results_data_cleaned['result'].value_counts(normalize=True) * 100\n",
    "\n",
    "# Print the percentages\n",
    "print(\"Percentage of Each Unique Value in result:\")\n",
    "print(value_perc_result)"
   ]
  },
  {
   "cell_type": "code",
   "execution_count": null,
   "id": "88df05ce",
   "metadata": {},
   "outputs": [],
   "source": [
    "results = vote_results_data_cleaned['result'].value_counts().sort_index()\n",
    "percentage = [\"{:.2f}%\".format(x) for x in value_perc_result.sort_index().values]\n",
    "fig = px.bar(x=results.index, y=results.values,\n",
    "            labels={'x':'Election outcome', 'y':'Number of occurences'},\n",
    "            title=\"Election outcomes\",\n",
    "            hover_data={\"Percentage\":percentage})\n",
    "fig.update_layout(xaxis_title=\"Election outcome\",\n",
    "                  yaxis_title=\"Number of occurences\",\n",
    "                  title_x=0.5,\n",
    "                   xaxis=dict(tickvals=[-1,1],ticktext=[\"Rejected\", \"Elected\"])\n",
    "                 )\n",
    "fig.write_html(\"election_outcome.html\")\n",
    "fig.show()"
   ]
  },
  {
   "cell_type": "code",
   "execution_count": null,
   "id": "399bd792",
   "metadata": {},
   "outputs": [],
   "source": []
  },
  {
   "cell_type": "markdown",
   "id": "e33f3cce",
   "metadata": {},
   "source": [
    "##### 6 - Dive into comments"
   ]
  },
  {
   "cell_type": "code",
   "execution_count": null,
   "id": "372ccc0c",
   "metadata": {},
   "outputs": [],
   "source": [
    "#Look at the proportion of empty comments\n",
    "nb_empty_com = vote_results_data_cleaned[vote_results_data_cleaned.comment == \"\"][\"comment\"].count()\n",
    "ratio_empty_com = nb_empty_com/vote_results_data_cleaned[\"comment\"].count()\n",
    "print(f'The percentage of empty comments is {ratio_empty_com:.2%}%')\n",
    "\n",
    "#Look at the disribution of the length of the comments\n",
    "ax = vote_results_data_cleaned['comment'].str.len().plot(kind='box', patch_artist=True, \n",
    "                                                         boxprops=dict(facecolor='skyblue'))\n",
    "ax.set_title('Distribution of Length of Comments', fontsize=14)\n",
    "ax.set_ylabel('Length of Comments', fontsize=14)\n",
    "\n",
    "plt.grid(axis='y', linestyle='--', alpha=0.7)\n",
    "\n",
    "plt.show()"
   ]
  },
  {
   "cell_type": "code",
   "execution_count": null,
   "id": "56a2aa60",
   "metadata": {},
   "outputs": [],
   "source": [
    "cleaned_df = vote_results_data_cleaned.copy(deep=True)\n",
    "\n",
    "#Store the cleaned dataframe in a csv file\n",
    "cleaned_df.to_csv('../data/wiki-RfA-cleaned.csv', index=False)"
   ]
  },
  {
   "cell_type": "markdown",
   "id": "fa6da031",
   "metadata": {},
   "source": [
    "### Voting results analysis <a class=\"anchor\" id=\"eda_results\"></a>"
   ]
  },
  {
   "cell_type": "code",
   "execution_count": null,
   "id": "8ef681ef",
   "metadata": {},
   "outputs": [],
   "source": [
    "#Import the cleaned dataframe\n",
    "analysis_df = pd.read_csv('../data/wiki-RfA-cleaned.csv')"
   ]
  },
  {
   "cell_type": "code",
   "execution_count": null,
   "id": "94f0a9fb",
   "metadata": {},
   "outputs": [],
   "source": [
    "analysis_df['date_vote'] = pd.to_datetime(analysis_df['date_vote'])"
   ]
  },
  {
   "cell_type": "markdown",
   "id": "478f2ff3",
   "metadata": {},
   "source": [
    "##### 1 - User behavior"
   ]
  },
  {
   "cell_type": "code",
   "execution_count": null,
   "id": "a4d5db3e",
   "metadata": {},
   "outputs": [],
   "source": [
    "#First we plot the distribution of the number of votes per user\n",
    "grouped_per_user = analysis_df.groupby('source').apply(lambda x : pd.Series({\n",
    "    'number_of_votes' : len(x['target'])})).reset_index()\n",
    "\n",
    "plt.figure(figsize=(12, 6))\n",
    "\n",
    "ax = sns.histplot(grouped_per_user['number_of_votes'], color='teal', log=True, bins=1000, edgecolor='black')\n",
    "\n",
    "ax.set_title('Distribution of Number of Votes', fontsize=16)  \n",
    "ax.set_xlabel('Number of Votes', fontsize=14)  \n",
    "ax.set_ylabel('Frequency (Log Scale)', fontsize=14) \n",
    "ax.grid(True) \n",
    "plt.xticks(rotation=45)  \n",
    "plt.tight_layout()  \n",
    "plt.show()"
   ]
  },
  {
   "cell_type": "code",
   "execution_count": null,
   "id": "4c9f6cf6",
   "metadata": {},
   "outputs": [],
   "source": [
    "hist = grouped_per_user['number_of_votes'].value_counts()\n",
    "fig = px.histogram(x=hist.index, y=hist.values,\n",
    "                   log_y=True, nbins=1000,\n",
    "                  title=\"Distribution of number of votes\",\n",
    "                  labels={'y':\"Nb of users\", 'x':\" of votes\"})\n",
    "fig.update_layout(title_x=0.5,\n",
    "                  yaxis_title=' (Log Scale)',\n",
    "                  xaxis_title='Number of Votes',\n",
    "                 )\n",
    "fig.write_html(\"election_distribution.html\")\n",
    "fig.show()"
   ]
  },
  {
   "cell_type": "code",
   "execution_count": null,
   "id": "c1249a9b",
   "metadata": {},
   "outputs": [],
   "source": [
    "grouped_per_user['number_of_votes'].value_counts()"
   ]
  },
  {
   "cell_type": "markdown",
   "id": "d3935480",
   "metadata": {},
   "source": [
    "We can see a classic long-tail distribution of voter activity, indicative of a pattern where a small number of individuals account for a disproportionately large number of votes, while the vast majority participate minimally. The steep decline and subsequent long tail to the right suggest that the community has a few highly engaged users, a common trait in voluntary, community-driven platforms. This could imply that engagement initiatives might focus on the more active users to leverage their influence, or conversely, on the less active majority to increase overall participation."
   ]
  },
  {
   "cell_type": "code",
   "execution_count": null,
   "id": "9508a2d2",
   "metadata": {},
   "outputs": [],
   "source": [
    "date_analysis = analysis_df.groupby('source').apply(lambda x : pd.Series({\n",
    "    'sequence_of_votes' : x['date_vote'].values})).reset_index()\n",
    "\n",
    "def calculation_duration (dates) : \n",
    "     \n",
    "    sorted_dates = sorted(dates)\n",
    "    return (sorted_dates[-1] - sorted_dates[0])\n",
    "\n",
    "date_analysis['duration'] = date_analysis['sequence_of_votes'].apply(calculation_duration)\n",
    "\n",
    "#Look into the distribution of the duration of the sequence of votes\n",
    "plt.figure(figsize=(12, 6))\n",
    "\n",
    "ax = sns.histplot(date_analysis['duration'].dt.days, color='teal', log =True,bins = 1000,  edgecolor='black')\n",
    "\n",
    "ax.set_title('Distribution of User Voting Duration', fontsize=15, pad=20)\n",
    "ax.set_xlabel('Duration in Days', fontsize=12)\n",
    "ax.set_ylabel('Frequency (Log Scale)', fontsize=12)\n",
    "ax.grid(True, which=\"both\", ls=\"--\", linewidth=0.5)\n",
    "\n",
    "plt.show()"
   ]
  },
  {
   "cell_type": "markdown",
   "id": "562a6796",
   "metadata": {},
   "source": [
    "The histogram depicting the duration between users' first and last votes confirms the conclusion form the previous plot : most users engage in a short burst of activity, casting votes for a brief period before becoming inactive, as shown by the numerous tall bars at the plot's start. This trend aligns with the initial surge of participation seen in the previous plot, where many users voted only a few times. Conversely, the long tail in both plots points to a subset of dedicated users who not only vote more frequently but also stay active over long stretches, suggesting a core group's persistent engagement shapes the platform's voting landscape. Together, these insights reveal a pattern of engagement where a small cohort of users provides ponctual votes and others who have a really important impact."
   ]
  },
  {
   "cell_type": "code",
   "execution_count": null,
   "id": "b2565d72",
   "metadata": {},
   "outputs": [],
   "source": [
    "#Now to get an inuition about the average number of election that a user runs for\n",
    "#As we know that an RfA is on average 7 days, we will set this specific time lapse as the duration of an election\n",
    "\n",
    "def estimate_number_of_elections(group):\n",
    "    # Ensure the dates are sorted\n",
    "    sorted_dates = group.sort_values()\n",
    "    \n",
    "    # Initialize the count of elections and set the first election start date\n",
    "    elections_count = 1\n",
    "    election_start = sorted_dates.iloc[0]\n",
    "\n",
    "    for date in sorted_dates[1:]:\n",
    "        # If the current vote is more than a week after the election start, count a new election\n",
    "        if (date - election_start).days > 7:\n",
    "            elections_count += 1\n",
    "            election_start = date\n",
    "\n",
    "    return elections_count\n",
    "\n",
    "estimated_number_elections_per_user = (analysis_df.groupby('target')['date_vote']\n",
    "                                                  .apply(estimate_number_of_elections)\n",
    "                                                  .reset_index()\n",
    "                                                  .rename(columns={'date_vote': 'estimated_number_elections'}))\n",
    "\n",
    "#We look at the distribution of values for the estimated number of elections\n",
    "print(estimated_number_elections_per_user.describe())\n",
    "\n",
    "#We look at the distribution of values for the estimated number of elections\n",
    "sns.histplot(estimated_number_elections_per_user.estimated_number_elections, bins=30, kde=False, \n",
    "             color='skyblue', log = True)\n",
    "plt.title('Distribution of Estimated Number of Elections Per Target')\n",
    "plt.xlabel('Estimated Number of Elections')\n",
    "plt.ylabel('Count')\n",
    "plt.show()"
   ]
  },
  {
   "cell_type": "markdown",
   "id": "b1301a46",
   "metadata": {},
   "source": [
    "The histogram and descriptive statistics indicate that the majority of targets in the dataset are estimated to have run for just one election, which is consistent with the data's mean and mode both being close to 1. The significant drop-off after one election suggests that it is much less common for targets to run multiple times. With over 75% of the targets estimated to have participated in only one election, there's a clear indication that repeated runs for election are rare. This aligns with the earlier plots showing that while there are a few highly active and engaged individuals, the vast majority have lower levels of activity. In this context, the repeated candidacies could be attributed to a similarly small group of individuals who are highly involved in the community, repeatedly seeking election, reflecting a pattern of engagement where a core group of users is significantly more active than the rest."
   ]
  },
  {
   "cell_type": "code",
   "execution_count": null,
   "id": "985ad8b1",
   "metadata": {},
   "outputs": [],
   "source": [
    "# Get the users who ran for election only once\n",
    "ran_once = (estimated_number_elections_per_user[estimated_number_elections_per_user\n",
    "                                                .estimated_number_elections == 1])\n",
    "\n",
    "# Get the users who ran for election only once and did not get elected\n",
    "not_elected_once = ran_once[~ran_once.target.isin(analysis_df[analysis_df.result == 1].target)]\n",
    "\n",
    "number_unique_people_running = analysis_df.target.nunique()\n",
    "ratio_give_up_after_one = len(not_elected_once)/number_unique_people_running\n",
    "print(f'The proportion of users that give up after one election is {ratio_give_up_after_one:.2%}%')"
   ]
  },
  {
   "cell_type": "markdown",
   "id": "bb40053c",
   "metadata": {},
   "source": [
    "The statistic that 39% of voters do not participate in subsequent elections if they don't succeed in their first attempt is indicative of a high dropout rate, potentially reflecting various underlying factors. This rate suggests a significant level of voter apathy or disillusionment, possibly arising from a perception that their vote lacks impact or from a general lack of sustained motivation. This statistic also poses questions about the evolving nature of voter engagement and the effectiveness of current electoral systems in sustaining voter interest and belief in the electoral process."
   ]
  },
  {
   "cell_type": "markdown",
   "id": "1b51be81",
   "metadata": {},
   "source": [
    "##### 2 - Election dynamics"
   ]
  },
  {
   "cell_type": "code",
   "execution_count": null,
   "id": "757e3ac6",
   "metadata": {},
   "outputs": [],
   "source": [
    "elect_dynamics_df = analysis_df.copy(deep=True)"
   ]
  },
  {
   "cell_type": "code",
   "execution_count": null,
   "id": "d2758fa9",
   "metadata": {},
   "outputs": [],
   "source": [
    "# We set an id fo each of the election following the method used before in order to compute \n",
    "# further statistics regarding the elections\n",
    "\n",
    "# Sort the dataframe by 'target' and 'date_vote'\n",
    "elect_dynamics_df.sort_values(by=['target', 'date_vote'], inplace=True)\n",
    "\n",
    "# Initialize a counter for the global election ID\n",
    "global_election_id = 0\n",
    "# Initialize the last seen election date for each target\n",
    "last_election_date = elect_dynamics_df.groupby('target')['date_vote'].first() - pd.Timedelta(days=8)\n",
    "\n",
    "# Function to assign election ids\n",
    "def assign_election_ids(row):\n",
    "    global global_election_id\n",
    "    # If the current vote date is more than 7 days after the last election date for this target\n",
    "    if (row['date_vote'] - last_election_date[row['target']]).days > 7:\n",
    "        global_election_id += 1\n",
    "        last_election_date[row['target']] = row['date_vote']\n",
    "    return global_election_id\n",
    "\n",
    "# Apply the function to each row\n",
    "elect_dynamics_df['global_election_id'] = elect_dynamics_df.apply(assign_election_ids, axis=1)"
   ]
  },
  {
   "cell_type": "code",
   "execution_count": null,
   "id": "5117a1bc",
   "metadata": {},
   "outputs": [],
   "source": [
    "#Add a column corresponding the the index of the vote in the election\n",
    "elect_dynamics_df['vote_index_in_election'] = elect_dynamics_df.groupby(['target', 'global_election_id']).cumcount() + 1"
   ]
  },
  {
   "cell_type": "code",
   "execution_count": null,
   "id": "f56509b4",
   "metadata": {},
   "outputs": [],
   "source": [
    "elect_dynamics_df"
   ]
  },
  {
   "cell_type": "code",
   "execution_count": null,
   "id": "d7ca0280",
   "metadata": {},
   "outputs": [],
   "source": [
    "#We compute here different statistics\n",
    "elect_features_df = elect_dynamics_df.groupby(['global_election_id']).apply(lambda x : pd.Series({\n",
    "    'number_of_votes' : len(x['source']), \n",
    "    'ratio_positive_votes' : x[x.vote == 1]['vote'].sum() / len(x.source), \n",
    "    'ratio_neutral_votes' : x[x.vote == 0]['vote'].sum() / len(x.source),\n",
    "    'average_comment_length' : x['comment'].str.len().mean(),\n",
    "    'date_last_vote' : x['date_vote'].max(),\n",
    "    'result' : x['result'].max(),\n",
    "    'year_election' : x['year_election'].max(),\n",
    "    'target' : x['target'].unique(),\n",
    "    'list_of_voters_index_vote ' : x['source'].unique(),\n",
    "    \n",
    "})).reset_index()\n",
    "\n",
    "elect_features_df"
   ]
  },
  {
   "cell_type": "code",
   "execution_count": null,
   "id": "9c6c5478",
   "metadata": {
    "lines_to_next_cell": 2
   },
   "outputs": [],
   "source": [
    "plt.figure(figsize=(15, 10)) \n",
    "\n",
    "custom_palette = {1: \"green\", -1: \"red\"}\n",
    "\n",
    "sns.scatterplot(x='date_last_vote',\n",
    "             y='ratio_positive_votes', \n",
    "             hue='result', \n",
    "             style='result', \n",
    "             data=elect_features_df,\n",
    "             palette= custom_palette,\n",
    "             alpha = 0.7) \n",
    "\n",
    "plt.title('Trends in Ratio of Positive Votes by Election Outcome Over Time', fontsize=18)\n",
    "plt.xlabel('Date of Vote', fontsize=16)\n",
    "plt.ylabel('Ratio of Positive Votes', fontsize=16)\n",
    "plt.xticks(rotation=45, fontsize=14)  \n",
    "plt.yticks(fontsize=14)\n",
    "plt.legend(title='Election Outcome', fontsize=14, title_fontsize=16)\n",
    "plt.grid(True, which=\"both\", ls=\"--\", linewidth=0.5)\n",
    "\n",
    "plt.show()"
   ]
  },
  {
   "cell_type": "markdown",
   "id": "3a556a0a",
   "metadata": {},
   "source": [
    "The scatter plot illustrates a correlation between the ratio of positive votes and election outcomes, with a dense cluster of green dots at higher ratios indicating wins and red dots at lower ratios indicating losses. As the number of votes increases, there seems to be a trend toward more wins, shown by the prevalence of green dots in areas with a greater number of votes. Elections with a moderate ratio of positive votes show a mix of outcomes, reflecting the competitive nature of those elections. Overall, the plot suggests that while a higher number of votes is generally favorable, the ratio of positive votes is a strong indicator of success in elections, as most wins are concentrated in the region with higher positive vote ratios\n",
    "\n",
    "Seems like there is a specific threshold for the percentage of positive votes for an election to be successfull."
   ]
  },
  {
   "cell_type": "code",
   "execution_count": null,
   "id": "2c664982",
   "metadata": {},
   "outputs": [],
   "source": [
    "plt.figure(figsize=(15, 10))  \n",
    "\n",
    "sns.scatterplot(x='date_last_vote',\n",
    "             y='number_of_votes', \n",
    "             hue='result', \n",
    "             style='result', \n",
    "             data=elect_features_df,\n",
    "             palette= custom_palette, \n",
    "             alpha = 0.6) \n",
    "\n",
    "plt.title('Trends in Ratio of Number of votes by Election Outcome Over Time', fontsize=18)\n",
    "plt.xlabel('Date of Vote', fontsize=16)\n",
    "plt.ylabel('Number of votes', fontsize=16)\n",
    "plt.xticks(rotation=45, fontsize=14)  \n",
    "plt.yticks(fontsize=14)\n",
    "plt.legend(title='Election Outcome', fontsize=14, title_fontsize=16)\n",
    "plt.grid(True, which=\"both\", ls=\"--\", linewidth=0.5)\n",
    "\n",
    "plt.show()"
   ]
  },
  {
   "cell_type": "markdown",
   "id": "6862b7bb",
   "metadata": {},
   "source": [
    "The plot suggests that the -1 outcome is commonly associated with a lower number of votes, while the 1 outcome shows greater variability with several outliers indicating exceptionally high vote counts. Despite the presence of both outcomes throughout the time range, there's no apparent temporal trend in voting patterns. We will further analyse this below by loooking at each year and try to detect wether we have further insights. \n",
    "\n",
    "We will use below statistical measure to determine the real relation between the different variables."
   ]
  },
  {
   "cell_type": "code",
   "execution_count": null,
   "id": "e99a3791",
   "metadata": {},
   "outputs": [],
   "source": [
    "#We compute the correlation between the ratio of positive votes and the outcome of the election\n",
    "stats.pearsonr(elect_features_df['ratio_positive_votes'], elect_features_df['result'])"
   ]
  },
  {
   "cell_type": "code",
   "execution_count": null,
   "id": "a03c7886",
   "metadata": {},
   "outputs": [],
   "source": [
    "#We compute the correlation between the number of votes and the outcome of the election\n",
    "stats.pearsonr(elect_features_df['number_of_votes'], elect_features_df['result'])"
   ]
  },
  {
   "cell_type": "code",
   "execution_count": null,
   "id": "0e57b01f",
   "metadata": {},
   "outputs": [],
   "source": [
    "regression_df = elect_features_df.copy(deep=True)\n",
    "regression_df['result'] = regression_df['result'].replace({-1 : 0})\n",
    "mod = smf.logit(formula='result ~  (year_election) + number_of_votes + ratio_positive_votes + \\\n",
    "                          + ratio_positive_votes + average_comment_length' , data=regression_df)\n",
    "res = mod.fit()\n",
    "print(res.summary())"
   ]
  },
  {
   "cell_type": "markdown",
   "id": "09c8697b",
   "metadata": {},
   "source": [
    "Model Fit: The R-squared value is 0.8318, which is high, suggesting that the model fits the data well.\n",
    "\n",
    "Significance: The LLR (likelihood ratio test) p-value is less than 0.05, indicating that the model as a whole is statistically significant compared to the null model.\n",
    "\n",
    "Regarding the different coefficients :\n",
    "\n",
    "The ratio_positive_votes coefficient is significant (p < 0.05) and positive, indicating that as the ratio of positive votes increases, the log-odds of winning the election (result=1) significantly increase.\n",
    "The year_election, number_of_votes, and average_comment_length coefficients are not statistically significant (p > 0.05), implying that these variables do not have a significant impact on the log-odds of the election outcome in the presence of other variables.\n",
    "Intercept: The intercept is also not significant, which is not typically a concern as it simply sets the baseline log-odds of the outcome when all predictors are at zero.\n",
    "\n",
    "In summary, the model strongly suggests that the ratio of positive votes is a key predictor of election outcomes, while other variables like the year of the election, the number of votes, and the average comment length do not show a significant relationship in this logistic regression model. The presence of quasi-separation suggests that while the model fits the current data well, it might not generalize well to new data."
   ]
  },
  {
   "cell_type": "markdown",
   "id": "f18088e8",
   "metadata": {},
   "source": [
    "### Number of votes analysis <a class=\"anchor\" id=\"eda_analysis\"></a>"
   ]
  },
  {
   "cell_type": "code",
   "execution_count": null,
   "id": "f5adce94",
   "metadata": {},
   "outputs": [],
   "source": [
    "elect_features_df['year_election'].unique().sort()"
   ]
  },
  {
   "cell_type": "code",
   "execution_count": null,
   "id": "9d071d0f",
   "metadata": {},
   "outputs": [],
   "source": [
    "#Plot the distribution of the number of elections per year\n",
    "ax = elect_features_df['year_election'].value_counts().sort_index().plot(kind='bar' , \n",
    "                                                                         color='teal', edgecolor='black')\n",
    "\n",
    "plt.grid(axis='y', linestyle='--', alpha=0.7)\n",
    "\n",
    "ax.set_xlabel('Year the election took place', fontsize=14)\n",
    "ax.set_ylabel('Number of occurrences', fontsize=14)\n",
    "\n",
    "plt.show()"
   ]
  },
  {
   "cell_type": "markdown",
   "id": "59c76dcf",
   "metadata": {},
   "source": [
    "We clearly have an imbalance number of elections through the years. We will analyse the trend over time of votting patterns, wether in specific years we had more elections with positiv outcome. "
   ]
  },
  {
   "cell_type": "code",
   "execution_count": null,
   "id": "308f65a1",
   "metadata": {
    "scrolled": false
   },
   "outputs": [],
   "source": [
    "# Assuming 'election_year' is of type int\n",
    "for year in sorted(elect_features_df['year_election'].unique()):\n",
    "    data_subset = elect_features_df[elect_features_df['year_election'] == year]\n",
    "    \n",
    "    sns.histplot(x='number_of_votes', data=data_subset, hue='result', log_scale=(False, False), \n",
    "                 color = 'skyblue', edgecolor='black' , palette= 'Set2')\n",
    "    plt.title(f'Histogram for Election Year {int(year)}')\n",
    "    plt.show()"
   ]
  },
  {
   "cell_type": "code",
   "execution_count": null,
   "id": "35ffb1ff",
   "metadata": {},
   "outputs": [],
   "source": [
    "sns.histplot(x = 'number_of_votes', data = elect_features_df , hue = 'result', log_scale= (True, False))\n",
    "plt.show()"
   ]
  },
  {
   "cell_type": "code",
   "execution_count": null,
   "id": "3838a994",
   "metadata": {},
   "outputs": [],
   "source": [
    "print(new_df.groupby([\"target\", \"result\"])[\"source\"].count().median())\n",
    "print(new_df.groupby([\"target\", \"result\"])[\"source\"].count().mean())"
   ]
  },
  {
   "cell_type": "markdown",
   "id": "0cb6bcea",
   "metadata": {},
   "source": [
    "We have a specific pattern that is quite common every years regarding the elections. We have a high proportion of elections that have a low number of votes and those elections most of the time end with a bad outcome (election being -1). The election that end with a positive outcome tend to rely on an important number of votes."
   ]
  },
  {
   "cell_type": "markdown",
   "id": "20863f43",
   "metadata": {},
   "source": [
    "# Communities Analysis <a class=\"anchor\" id=\"communities\"></a>"
   ]
  },
  {
   "cell_type": "markdown",
   "id": "b582de51",
   "metadata": {},
   "source": [
    "### Setup <a class=\"anchor\" id=\"communities_setup\"></a>"
   ]
  },
  {
   "cell_type": "markdown",
   "id": "50486b26",
   "metadata": {},
   "source": [
    "We process the Wikipedia Request for Adminship (RfA) dataset into a dataframe. We are using a [Wikipedia edit history dataset](https://snap.stanford.edu/data/wiki-meta.html) containing edit up to january 2008. Therefore we filter votes that aren't present in this timeframe."
   ]
  },
  {
   "cell_type": "code",
   "execution_count": null,
   "id": "91b09d6f",
   "metadata": {},
   "outputs": [],
   "source": [
    "df = pd.read_csv(\"../data/wiki-RfA-cleaned.csv\")\n",
    "\n",
    "# We filter out all the votations after 2008 as we do not have the edits for those dates\n",
    "df = df[df.year_election < 2009]\n",
    "\n",
    "#Set of users that are present in the adminship dataset\n",
    "admin_set = set(df['source'].to_list() + df['target'].to_list())"
   ]
  },
  {
   "cell_type": "code",
   "execution_count": null,
   "id": "98619c72",
   "metadata": {},
   "outputs": [],
   "source": [
    "print(f\"Number of users present in the adminship dataset : {len(admin_set)}\")"
   ]
  },
  {
   "cell_type": "markdown",
   "id": "bb11fc5b",
   "metadata": {},
   "source": [
    "### Interaction Graph <a class=\"anchor\" id=\"communities_interaction\"></a>"
   ]
  },
  {
   "cell_type": "markdown",
   "id": "0355f2d9",
   "metadata": {},
   "source": [
    "We consider an interaction between two users to be an edit from user A in the user talk page of user B. User talk page [\"normal use is for messages from, and discussion with, other editors\"](https://en.wikipedia.org/wiki/Wikipedia:User_pages). We filtered edits to keep only interactions from users that where present in the RfA dataset. Using those interactions we created an undirected graph where the weight is the number of interaction between the two users and each node is a user."
   ]
  },
  {
   "cell_type": "code",
   "execution_count": null,
   "id": "97a6b536",
   "metadata": {},
   "outputs": [],
   "source": [
    "G = create_interaction_graph()"
   ]
  },
  {
   "cell_type": "code",
   "execution_count": null,
   "id": "4871e51e",
   "metadata": {},
   "outputs": [],
   "source": [
    "print(f\"Number of nodes (users) in the graph : {len(G)}\")\n",
    "print(f\"Number of users in the RfA dataset : {len(admin_set)}\")\n",
    "print(f\"Percentage of users in the graph : {(len(G)/len(admin_set)):.2%}\")"
   ]
  },
  {
   "cell_type": "code",
   "execution_count": null,
   "id": "aa6e79d5",
   "metadata": {},
   "outputs": [],
   "source": [
    "interactions_df = df.copy(deep=True)\n",
    "interactions_df['vote'] = interactions_df['vote'].astype(int)\n",
    "\n",
    "def get_interaction_weight(graph, node1, node2):\n",
    "    try:\n",
    "        # Retrieve the weight attribute of the edge between node1 and node2\n",
    "        weight = graph[node1][node2].get('weight', 0)\n",
    "    except KeyError:\n",
    "        # If there's no edge between node1 and node2, the interaction count is 0\n",
    "        weight = 0\n",
    "    return weight\n",
    "\n",
    "# Apply the function to each row of the DataFrame\n",
    "interactions_df['interaction_count'] = interactions_df.apply(lambda row: get_interaction_weight(G, row['source'], row['target']), axis=1)\n",
    "\n",
    "interactions_df"
   ]
  },
  {
   "cell_type": "code",
   "execution_count": null,
   "id": "ec7687bc",
   "metadata": {},
   "outputs": [],
   "source": [
    "#Look at the distribution of the number of interactions per election\n",
    "plt.figure(figsize=(15, 10))\n",
    "\n",
    "ax = sns.histplot(interactions_df['interaction_count'], color='teal', log=True, bins=1000, edgecolor='black')\n",
    "\n",
    "ax.set_title('Distribution of Number of Interactions', fontsize=16)\n",
    "ax.set_xlabel('Number of Interactions', fontsize=14)\n",
    "ax.set_ylabel('Frequency (Log Scale)', fontsize=14)\n",
    "\n",
    "plt.xticks(rotation=45, fontsize=12)\n",
    "plt.yticks(fontsize=12)\n",
    "\n",
    "plt.grid(True, which=\"both\", ls=\"--\", linewidth=0.5)\n",
    "\n",
    "plt.show()"
   ]
  },
  {
   "cell_type": "markdown",
   "id": "e65c4b39",
   "metadata": {},
   "source": [
    "We will explore the influence of user interactions, as captured in our interaction graph, on their participation and choices in each other's voting processes. Specifically, we aim to analyze whether interactions between users impact both the likelihood of participating in one another's elections and the eventual voting decisions."
   ]
  },
  {
   "cell_type": "code",
   "execution_count": null,
   "id": "e0920e67",
   "metadata": {},
   "outputs": [],
   "source": [
    "edge_list = []\n",
    "\n",
    "for u, v, data in G.edges(data=True):\n",
    "    weight = data.get('weight', 0)\n",
    "    edge_list.append({'source': u, 'target': v, 'weight': weight})\n",
    "    edge_list.append({'source': v, 'target': u, 'weight': weight})  # Add reverse direction\n",
    "\n",
    "edges_df = pd.DataFrame(edge_list)\n",
    "\n",
    "edges_df"
   ]
  },
  {
   "cell_type": "code",
   "execution_count": null,
   "id": "fe5afc8a",
   "metadata": {},
   "outputs": [],
   "source": [
    "# Create different filters based on the weight column of edges_df\n",
    "weight_thresholds = np.linspace(5, 60, num= 12, endpoint=True)\n",
    "mean_ratios = []\n",
    "\n",
    "for threshold in weight_thresholds:\n",
    "    # Filter edges_df based on the current threshold\n",
    "    filtered_edges_df = edges_df[edges_df['weight'] >= threshold]\n",
    "    \n",
    "    # Recompute the grouped_interactions DataFrame with the new filter\n",
    "    filtered_grouped_interactions = filtered_edges_df.groupby('target').apply(\n",
    "        lambda x: pd.Series({\n",
    "            'number_of_distinct_interactions': filtered_edges_df[filtered_edges_df['target'] == x.name]['source'].nunique(),\n",
    "            'number_interactors_voting': sum(filtered_edges_df[filtered_edges_df['target'] == x.name]['source'].isin(interactions_df[interactions_df['target'] == x.name]['source']))\n",
    "        })\n",
    "    ).reset_index()\n",
    "    \n",
    "    filtered_grouped_interactions['ratio_interactors_voting'] = filtered_grouped_interactions['number_interactors_voting'] / filtered_grouped_interactions['number_of_distinct_interactions']\n",
    "    mean_ratio = filtered_grouped_interactions['ratio_interactors_voting'].mean()\n",
    "    mean_ratios.append(mean_ratio)\n",
    "\n",
    "# Plotting\n",
    "plt.plot(weight_thresholds, mean_ratios, marker='o')\n",
    "plt.xlabel('Minimum Interaction Weight Threshold')\n",
    "plt.ylabel('Mean Ratio of Interactors Voting')\n",
    "plt.title('Mean Ratio of Interactors Voting by Interaction Weight Threshold')\n",
    "plt.grid(True)\n",
    "plt.show()"
   ]
  },
  {
   "cell_type": "markdown",
   "id": "bb9df0be",
   "metadata": {},
   "source": [
    "There is a sharp increase in the mean ratio of interactors voting for the target as the minimum interaction weight threshold increases from the lowest value up to a certain point. This suggests that as you consider only those pairs with more significant interactions (a higher weight), there is a higher likelihood that they will participate in each other's elections. This part of the trend indicates a strong positive relationship between interaction intensity and voting participation.\n",
    "The increasing trend in the ratio of voters plateaus, which may imply that beyond a certain point, increasing the threshold for interaction weight does not significantly influence the likelihood of users participating in each other's votes. It can be inferred that there might be a saturation point beyond which the strength of interaction (as quantified by weight) does not have much additional impact on voting participation."
   ]
  },
  {
   "cell_type": "code",
   "execution_count": null,
   "id": "0812b99d",
   "metadata": {},
   "outputs": [],
   "source": [
    "interaction_df_plot = interactions_df.copy()\n",
    "interaction_df_plot.loc[interactions_df['vote'] != 1, 'vote'] = 0\n",
    "\n",
    "interaction_count_counts = interaction_df_plot['interaction_count'].value_counts()\n",
    "interaction_df_plot['count_per_interaction'] = interaction_df_plot['interaction_count'].map(interaction_count_counts)\n",
    "filtered_df = interaction_df_plot[interaction_df_plot['count_per_interaction'] >= 30].copy()\n",
    "\n",
    "plt.figure(figsize=(15, 10))\n",
    "ax = sns.lineplot(x='interaction_count',\n",
    "                  y='vote',\n",
    "                  data=filtered_df,\n",
    "                  color='teal',\n",
    "                  marker='o',\n",
    "                  markersize=10,\n",
    "                  markerfacecolor='skyblue',\n",
    "                  markeredgecolor='black',\n",
    "                  markeredgewidth=1,\n",
    "                  errorbar='ci')\n",
    "\n",
    "ax.set_title('Percentage of Positive Votes by Number of Interactions', fontsize=20, pad=20)\n",
    "ax.set_xlabel('Number of Interactions', fontsize=15)\n",
    "ax.set_ylabel('Percentage of Positive Votes', fontsize=15)\n",
    "ax.grid(True)  \n",
    "ax.set_xticks(filtered_df['interaction_count'].unique()) \n",
    "plt.xticks(fontsize=12)\n",
    "plt.yticks(fontsize=12)\n",
    "\n",
    "plt.show()"
   ]
  },
  {
   "cell_type": "markdown",
   "id": "4a2c4adf",
   "metadata": {},
   "source": [
    "Despite the variability, there seems to be a general trend where the percentage of positive votes tends to increase with the number of interactions, especially noticeable in the initial section of the plot. However, this trend is not consistent across the entire range of interaction counts."
   ]
  },
  {
   "cell_type": "markdown",
   "id": "494eb7b2",
   "metadata": {},
   "source": [
    "Here we will implement the logistic regression to analyse the factors that motivate participation following the method described in 1. "
   ]
  },
  {
   "cell_type": "code",
   "execution_count": null,
   "id": "a46a53de",
   "metadata": {},
   "outputs": [],
   "source": [
    "#We compute for each voter the number of election he voted for, using elect_dynamics_df\n",
    "elect_dynamics_df['number_of_elections_voted'] = elect_dynamics_df.groupby('source')['global_election_id'].transform('nunique')\n",
    "\n",
    "elect_dynamics_df"
   ]
  },
  {
   "cell_type": "code",
   "execution_count": null,
   "id": "88baa1c2",
   "metadata": {},
   "outputs": [],
   "source": [
    "def get_number_of_contacts(voter, election, df, edges_df):\n",
    "    list_contacts_voters = edges_df[edges_df['source'] == voter]['target'].values\n",
    "    voter_vote_index = df[(df['source'] == voter) & (df['global_election_id'] == election)]['vote_index_in_election']\n",
    "    \n",
    "    if voter_vote_index.empty:\n",
    "        number_of_contacts = 0\n",
    "    else:\n",
    "        number_of_contacts = df[(df['source'].isin(list_contacts_voters)) & \n",
    "                                (df['global_election_id'] == election) & \n",
    "                                (df['vote_index_in_election'] < voter_vote_index.values[0])\n",
    "                               ]['source'].nunique()\n",
    "\n",
    "    return number_of_contacts"
   ]
  },
  {
   "cell_type": "code",
   "execution_count": null,
   "id": "bc3d7890",
   "metadata": {},
   "outputs": [],
   "source": [
    "def get_number_interactions (voter, target , edges_df) : \n",
    "    #check wether the voter and the target have interacted before\n",
    "    if edges_df[(edges_df['source'] == voter ) & (edges_df['target'] == target)].empty : \n",
    "        return 0\n",
    "    else : \n",
    "        return edges_df[(edges_df['source'] == voter) & (edges_df['target'] == target)]['weight'].values[0]"
   ]
  },
  {
   "cell_type": "code",
   "execution_count": null,
   "id": "a1f01c81",
   "metadata": {},
   "outputs": [],
   "source": [
    "from tqdm import tqdm\n",
    "dataset = []\n",
    "\n",
    "# Pre-compute the number of elections each voter has voted in\n",
    "num_elections_voted = elect_dynamics_df.groupby('source')['global_election_id'].nunique()\n",
    "\n",
    "# Get unique voters\n",
    "unique_voters = edges_df['source'].unique()\n",
    "total_voters = len(unique_voters)\n",
    "\n",
    "# Calculate 10% of total voters for progress updates\n",
    "ten_percent_voters = total_voters // 10\n",
    "\n",
    "#We iterate over all the voter in the graph\n",
    "for index, voter in tqdm(enumerate(unique_voters)): \n",
    "\n",
    "    # Progress update every 10%\n",
    "    if index % ten_percent_voters == 0:\n",
    "        print(f\"Processed {index / total_voters * 100:.0f}% of voters\")\n",
    "\n",
    "    #We iterate over all the elections the voter has voted in\n",
    "    voter_elections = elect_dynamics_df[elect_dynamics_df['source'] == voter]['global_election_id'].unique()\n",
    "    for election in voter_elections: \n",
    "        #Check if the voter has vote_index_in_election > 2 \n",
    "        if elect_dynamics_df[(elect_dynamics_df['source'] == voter) & (elect_dynamics_df['global_election_id'] == election)]['vote_index_in_election'].values[0] > 2:\n",
    "            #We compute the number of elections the voter has voted in\n",
    "            number_of_elections_voted = num_elections_voted[voter]\n",
    "\n",
    "            similar_voters = elect_dynamics_df[\n",
    "                (elect_dynamics_df['number_of_elections_voted'] == number_of_elections_voted) &\n",
    "                (elect_dynamics_df['source'] != voter) &\n",
    "                (~elect_dynamics_df['global_election_id'].eq(election)) \n",
    "            ]['source'].unique()\n",
    "           \n",
    "            if len(similar_voters) > 0:\n",
    "                #Choose a random voter from the similar voters\n",
    "                similar_voter = np.random.choice(similar_voters)\n",
    "\n",
    "                #Get the number of contacts from the voter who voted before the voter\n",
    "                number_contacts_voter_voted_before = get_number_of_contacts(voter, election, elect_dynamics_df, edges_df)\n",
    "                number_contacts_similar_voter_voted_before = get_number_of_contacts(similar_voter, election, elect_dynamics_df, edges_df)\n",
    "\n",
    "                #Get the target of the election\n",
    "                target = elect_dynamics_df[(elect_dynamics_df['source'] == voter) & (elect_dynamics_df['global_election_id'] == election)]['target'].values[0]\n",
    "\n",
    "                dataset.append({\n",
    "                    'voter': voter,\n",
    "                    'voted': 1,\n",
    "                    'number_of_contacts_voter': number_contacts_voter_voted_before - number_contacts_similar_voter_voted_before, \n",
    "                    'number_interactions_voter_candidate': get_number_interactions(voter, target, edges_df)\n",
    "                })\n",
    "                dataset.append({\n",
    "                    'voter': similar_voter,\n",
    "                    'voted': 0,\n",
    "                    'number_of_contacts_voter': number_contacts_similar_voter_voted_before - number_contacts_voter_voted_before, \n",
    "                    'number_interactions_voter_candidate': get_number_interactions(similar_voter, target, edges_df)\n",
    "                })\n",
    "\n",
    "\n"
   ]
  },
  {
   "cell_type": "code",
   "execution_count": null,
   "id": "878795ce",
   "metadata": {},
   "outputs": [],
   "source": [
    "#create a dataframe from the list of dictionaries\n",
    "dataset_df = pd.DataFrame(dataset)\n",
    "dataset_df"
   ]
  },
  {
   "cell_type": "code",
   "execution_count": null,
   "id": "0136bce4",
   "metadata": {
    "lines_to_next_cell": 2
   },
   "outputs": [],
   "source": [
    "#Run a logistic regression on the dataset\n",
    "mod = smf.logit(formula='voted ~ number_of_contacts_voter + number_interactions_voter_candidate', data=dataset_df)\n",
    "res = mod.fit()\n",
    "print(res.summary())"
   ]
  },
  {
   "cell_type": "code",
   "execution_count": null,
   "id": "85e3ceae",
   "metadata": {},
   "outputs": [],
   "source": [
    "#Plot the distribution of the number of contacts per voter\n",
    "plt.figure(figsize=(15, 10))\n",
    "\n",
    "ax = sns.histplot(dataset_df['number_interactions_voter_candidate'], color='teal', log=True, bins=1000, edgecolor='black')\n",
    "\n",
    "ax.set_title('Distribution of Number of Contacts', fontsize=16)\n",
    "ax.set_xlabel('Number of Contacts', fontsize=14)\n",
    "ax.set_ylabel('Frequency (Log Scale)', fontsize=14)\n",
    "\n",
    "plt.xticks(rotation=45, fontsize=12)\n",
    "plt.yticks(fontsize=12)\n",
    "\n",
    "plt.grid(True, which=\"both\", ls=\"--\", linewidth=0.5)\n",
    "\n",
    "plt.show()"
   ]
  },
  {
   "cell_type": "code",
   "execution_count": null,
   "id": "28bfbcdb",
   "metadata": {},
   "outputs": [],
   "source": [
    "voters = analysis_df.groupby('source').apply(lambda x : pd.Series({\n",
    "    'number_of_votes' : len(x['target'])})).reset_index()\n",
    "voters[voters.source == 'Blnguyen']"
   ]
  },
  {
   "cell_type": "markdown",
   "id": "72837537",
   "metadata": {},
   "source": [
    "To have a better understanding of the interactions, we plot them in a graph. We also plot the degree rank plot and histogram. The degree of a node is the number of edges adjacents to the node. This plot helps us to better understand the distribution of the number of adjacent nodes. We can see that most of the nodes have a low degree."
   ]
  },
  {
   "cell_type": "code",
   "execution_count": null,
   "id": "9709885c",
   "metadata": {
    "scrolled": false
   },
   "outputs": [],
   "source": [
    "# We sort the nodes in the graph by their degree\n",
    "degree_sequence = sorted((d for n, d in G.degree()), reverse=True)\n",
    "unique_degree, counts = np.unique(degree_sequence, return_counts=True)\n",
    "\n",
    "# Degree histogram\n",
    "plt.bar(unique_degree, counts,width=10, color='b')\n",
    "plt.title(\"Degree histogram\")\n",
    "plt.xlabel(\"Degree\")\n",
    "plt.ylabel(\"# of Nodes\")\n",
    "\n",
    "plt.show()"
   ]
  },
  {
   "cell_type": "markdown",
   "id": "f60a92ff",
   "metadata": {},
   "source": [
    "### Communities <a class=\"anchor\" id=\"communities_communities\"></a>"
   ]
  },
  {
   "cell_type": "markdown",
   "id": "abc515a6",
   "metadata": {},
   "source": [
    "We explore the relationship between users by creating communities. Communities are created using Louvain algorithm that \"[works in 2 steps. On the first step it assigns every node to be in its own community and then for each node it tries to find the maximum positive modularity gain by moving each node to all of its neighbor communities. If no positive gain is achieved the node remains in its original community](https://networkx.org/documentation/stable/reference/algorithms/generated/networkx.algorithms.community.louvain.louvain_communities.html)\""
   ]
  },
  {
   "cell_type": "code",
   "execution_count": null,
   "id": "1eaf09d2",
   "metadata": {},
   "outputs": [],
   "source": [
    "#We create the communities\n",
    "\n",
    "communities = nx.community.louvain_communities(G, resolution=1.5, seed=2)"
   ]
  },
  {
   "cell_type": "code",
   "execution_count": null,
   "id": "43b0c0ba",
   "metadata": {},
   "outputs": [],
   "source": [
    "print(f\"Number of communities in graph of users with interactions : {len(communities)}\")"
   ]
  },
  {
   "cell_type": "code",
   "execution_count": null,
   "id": "4d9cf3fd",
   "metadata": {},
   "outputs": [],
   "source": [
    "for i, c in enumerate(communities):\n",
    "    print(f\"Community {i} has size {len(c)}\")"
   ]
  },
  {
   "cell_type": "markdown",
   "id": "000a9332",
   "metadata": {},
   "source": [
    "### Vote analysis <a class=\"anchor\" id=\"communities_vote\"></a>"
   ]
  },
  {
   "cell_type": "markdown",
   "id": "79f6eeb8",
   "metadata": {},
   "source": [
    "To understand the influence of communities, we compute the probability of vote to be within your community if it was voted at random."
   ]
  },
  {
   "cell_type": "code",
   "execution_count": null,
   "id": "67f8ec54",
   "metadata": {},
   "outputs": [],
   "source": [
    "n = len(G) # Number of nodes in the graph\n",
    "p_same_cluster = 0 # Probability that a random vote is an intra-cluster vote\n",
    "array_p_same_cluster = np.array([])\n",
    "\n",
    "# We compute the probability that a random vote is an intra-cluster vote\n",
    "for c in communities:\n",
    "    p_same_cluster += (len(c)/n)*((len(c)-1)/n)\n",
    "    array_p_same_cluster = np.append(array_p_same_cluster, (len(c)/n)*((len(c)-1)/n))\n",
    "print(f\"Probability that a random vote is an intra-cluster vote in interaction graph : {p_same_cluster:.2%}\")"
   ]
  },
  {
   "cell_type": "code",
   "execution_count": null,
   "id": "85af2d9d",
   "metadata": {},
   "outputs": [],
   "source": [
    "# Initialize a counter for votes within the same community\n",
    "intra_vote_count = np.zeros(len(communities))\n",
    "\n",
    "# Iterate through the dataframe\n",
    "for index, row in df.iterrows():\n",
    "    entity1 = row['source']\n",
    "    entity2 = row['target']\n",
    "\n",
    "    # Check if entities are in the same community\n",
    "    for count, community in enumerate(communities):\n",
    "        if entity1 in community and entity2 in community:\n",
    "            intra_vote_count[count] += 1\n",
    "\n",
    "# Print the result\n",
    "print(f\"Number of votes within the same community : {int(intra_vote_count.sum())}\")"
   ]
  },
  {
   "cell_type": "code",
   "execution_count": null,
   "id": "0a422fe4",
   "metadata": {},
   "outputs": [],
   "source": [
    "# Initialize a counter for votes in the graph\n",
    "votes_in_the_graph = 0\n",
    "\n",
    "# Iterate through the dataframe\n",
    "for index, row in df.iterrows():\n",
    "    entity1 = row['source']\n",
    "    entity2 = row['target']\n",
    "\n",
    "    # Check if entities are in the graph\n",
    "    if entity1 in G and entity2 in G:\n",
    "        votes_in_the_graph += 1\n",
    "\n",
    "# Print the result\n",
    "print(f\"Number of votes in the graph : {votes_in_the_graph}\")"
   ]
  },
  {
   "cell_type": "markdown",
   "id": "1b2380eb",
   "metadata": {},
   "source": [
    "We compare the probability of a random vote with what was observed. The goal is to assess whether the users vote is influenced by its community. We observe that we have a ~3x increase in probability to vote towards your own community."
   ]
  },
  {
   "cell_type": "code",
   "execution_count": null,
   "id": "faa038ee",
   "metadata": {},
   "outputs": [],
   "source": [
    "print(f\"Effective percentage of intra-cluster votes in G: {(intra_vote_count.sum()/votes_in_the_graph):.2%}\")"
   ]
  },
  {
   "cell_type": "markdown",
   "id": "c1f3789c",
   "metadata": {},
   "source": [
    "To understand the increase in votes, we compute the expected number of votes if voted at random. Then we make the ratio to derive the multiplicative coefficient from the expected number of votes to observed. "
   ]
  },
  {
   "cell_type": "code",
   "execution_count": null,
   "id": "7715cf86",
   "metadata": {},
   "outputs": [],
   "source": [
    "# expected number of intra-cluster votes\n",
    "expected_nb_votes = array_p_same_cluster * votes_in_the_graph"
   ]
  },
  {
   "cell_type": "code",
   "execution_count": null,
   "id": "8befd05c",
   "metadata": {},
   "outputs": [],
   "source": [
    "# ratio of effective intra-cluster votes over expected intra-cluster votes\n",
    "vote_gain = intra_vote_count / expected_nb_votes\n",
    "vote_gain"
   ]
  },
  {
   "cell_type": "markdown",
   "id": "b1d536b7",
   "metadata": {},
   "source": [
    "We want to understand the distribution of votes between communities. For that we plot the distribution of votes between communities"
   ]
  },
  {
   "cell_type": "code",
   "execution_count": null,
   "id": "2a352c9b",
   "metadata": {},
   "outputs": [],
   "source": [
    "# Number of votes across communities\n",
    "vote_count_matrix = np.zeros((len(communities), len(communities)))\n",
    "nb_community_votes = np.zeros(len(communities))"
   ]
  },
  {
   "cell_type": "code",
   "execution_count": null,
   "id": "545d61f4",
   "metadata": {},
   "outputs": [],
   "source": [
    "# Populate the vote count matrix\n",
    "for index, row in df.iterrows():\n",
    "    entity1 = row['source']\n",
    "    entity2 = row['target']\n",
    "    if entity1 in G and entity2 in G:\n",
    "        i_src = find_community(entity1, communities)\n",
    "        i_dst = find_community(entity2, communities)\n",
    "        vote_count_matrix[i_src][i_dst] += 1\n",
    "        nb_community_votes[i_src] += 1"
   ]
  },
  {
   "cell_type": "code",
   "execution_count": null,
   "id": "85524307",
   "metadata": {},
   "outputs": [],
   "source": [
    "fig, ax = plt.subplots(figsize=(10,10*len(communities)), nrows=len(communities), ncols=2)\n",
    "for i in range(len(communities)):\n",
    "    ax[i,0].set_title(f\"vote recv by community {i}\")\n",
    "    ax[i,0].pie(vote_count_matrix[i,:], labels=list(range(len(communities)))) \n",
    "    ax[i,1].set_title(f\"votes given by community {i}\")\n",
    "    ax[i,1].pie(vote_count_matrix[:,i],labels=list(range(len(communities))))  "
   ]
  },
  {
   "cell_type": "code",
   "execution_count": null,
   "id": "2e780189",
   "metadata": {},
   "outputs": [],
   "source": [
    "# We verify our computations and transform the vote count matrix into a ratio matrix\n",
    "np.testing.assert_array_equal(vote_count_matrix.sum(axis=1), nb_community_votes)\n",
    "ratio_vote_count_matrix = (vote_count_matrix / nb_community_votes[:, np.newaxis])*100 \n",
    "np.testing.assert_almost_equal(ratio_vote_count_matrix.sum(axis=1), np.ones(len(communities))*100)"
   ]
  },
  {
   "cell_type": "markdown",
   "id": "b5acfb6b",
   "metadata": {},
   "source": [
    "In the plot we observe that the destination communities that recieve most of the votes are the larger communities. This is explained by the fact that for large communities, more votation take place and therefore more votes are directed to them."
   ]
  },
  {
   "cell_type": "code",
   "execution_count": null,
   "id": "bc85cbfe",
   "metadata": {
    "scrolled": false
   },
   "outputs": [],
   "source": [
    "# Heatmap of the ratio of votes across communities\n",
    "plt.figure(figsize=(24, 12))\n",
    "sns.heatmap(ratio_vote_count_matrix, cmap=\"Blues\", annot=True, fmt=\".1f\", linewidths=.5, linecolor=\"black\")\n",
    "plt.title(\"Percentage of votes per communities in G\")\n",
    "plt.xlabel(\"Destination community\")\n",
    "plt.ylabel(\"Source community\")\n",
    "plt.show()"
   ]
  },
  {
   "cell_type": "markdown",
   "id": "1c235769",
   "metadata": {},
   "source": [
    "To mitigate this domination of the large communities, we scale the results by the probability of a vote between two communities given that the votes are random. We display the ratio of effective votes over expected votes for each pair of communities."
   ]
  },
  {
   "cell_type": "code",
   "execution_count": null,
   "id": "449253c5",
   "metadata": {},
   "outputs": [],
   "source": [
    "# Create matrix that represents the probability of a vote between two communities\n",
    "prob_vote_community_matrix = np.zeros((len(communities), len(communities)))\n",
    "for i_src in range(len(communities)):\n",
    "    for i_dst in range(len(communities)):\n",
    "        prob_vote_community_matrix[i_src][i_dst] = (len(communities[i_src])*len(communities[i_dst]))/(len(G)**2)\n",
    "# create matrix that represents the expected number of votes between two communities\n",
    "ratio_vote_expected_matrix = prob_vote_community_matrix * votes_in_the_graph"
   ]
  },
  {
   "cell_type": "code",
   "execution_count": null,
   "id": "32348889",
   "metadata": {
    "lines_to_next_cell": 2
   },
   "outputs": [],
   "source": [
    "# populate the matrix of votes\n",
    "vote_result_matrix = [[np.zeros(3) for i in range(len(communities))] for j in range(len(communities))]\n",
    "nb_result_votes = np.zeros((len(communities), len(communities)))\n",
    "for index, row in df.iterrows():\n",
    "    entity1 = row['source']\n",
    "    entity2 = row['target']\n",
    "    if entity1 in G and entity2 in G:\n",
    "        i_src = find_community(entity1, communities)\n",
    "        i_dst = find_community(entity2, communities)\n",
    "        if row['vote'] == 1:\n",
    "            vote_result_matrix[i_src][i_dst][2] += 1\n",
    "        elif row['vote'] == -1:\n",
    "            vote_result_matrix[i_src][i_dst][0] += 1\n",
    "        else:\n",
    "            vote_result_matrix[i_src][i_dst][1] += 1\n",
    "        nb_result_votes[i_src][i_dst] += 1"
   ]
  },
  {
   "cell_type": "code",
   "execution_count": null,
   "id": "471baa46",
   "metadata": {},
   "outputs": [],
   "source": [
    "gain_vote_expected_matrix = np.nan_to_num(nb_result_votes / ratio_vote_expected_matrix)"
   ]
  },
  {
   "cell_type": "code",
   "execution_count": null,
   "id": "5276bac0",
   "metadata": {},
   "outputs": [],
   "source": [
    "communities_name = [\"Pop Culture Mix\", \"Middle East & Religion\", \"Varied Interests\", \"USA Historical Figures\", \n",
    "              \"Australia\", \"Religion Debates & Controversies\", \"Controversial Pop Culture\", \n",
    "              \"Russia & Eastern Europe\", \"USA & east Asia mix\", \"New Zealand\", \"Military Aircraft\", \"Youth Pop Culture\", \n",
    "              \"India & South Asia\", \"Historical & Political mix\", \"People Mix\", \n",
    "              \"USA Varied Interest\", \"Science\", \"Historical Figures\", \n",
    "              \"UK & Ireland\", \"TV Series 'Lost'\", \"Sports\", \"Scientology\", \n",
    "              \"Canada & Ice Hockey\", \"Comics\", \"Balkans & Central Asia\", \n",
    "              \"Chemical Elements\", \"Wrestling\", \"Oregon\", \"Politics\"]"
   ]
  },
  {
   "cell_type": "code",
   "execution_count": null,
   "id": "d82953e8",
   "metadata": {},
   "outputs": [],
   "source": [
    "np.arange(0,29,1)"
   ]
  },
  {
   "cell_type": "code",
   "execution_count": null,
   "id": "bdc5654d",
   "metadata": {},
   "outputs": [],
   "source": [
    "# Heatmap of the gain from expected votes across communities\n",
    "# Couleurs sympas: 'PuBuGn', 'RdYlBu', 'coolwarm'\n",
    "plt.figure(figsize=(36, 12))\n",
    "sns.heatmap(gain_vote_expected_matrix, cmap='PuBuGn', annot=True, fmt=\".2f\", linewidths=.5, linecolor=\"black\")\n",
    "plt.title(\"Ratio of observed number of votes to expected number of votes\", size=15, fontweight='bold', y=1.02)\n",
    "plt.xlabel(\"Destination community\", size=15, fontweight='bold')\n",
    "plt.ylabel(\"Source community\", size=15, fontweight='bold')\n",
    "plt.xticks(ticks=np.arange(0.5, 29.5, 1),labels=communities_name, rotation=40, ha='right')\n",
    "plt.yticks(ticks=np.arange(0.5, 29.5, 1), labels=communities_name, rotation='horizontal')\n",
    "plt.savefig(\"shades_of_blue.png\")\n",
    "plt.show()"
   ]
  },
  {
   "cell_type": "markdown",
   "id": "a7dd1c0c",
   "metadata": {},
   "source": [
    "The diagonal of the matrix has significantly higher values. This indicates that people tend to vote more for the people part of their community. We recall that the communities have been created with the interactions between the users and not the votes."
   ]
  },
  {
   "cell_type": "markdown",
   "id": "6a8d193e",
   "metadata": {},
   "source": [
    "#### Can we find a rivalry between some communities? Maybe a community only vote negatively towards another community."
   ]
  },
  {
   "cell_type": "markdown",
   "id": "0bec1779",
   "metadata": {},
   "source": [
    "We want to know the voting habitudes of communities. For that we plot the result precentage per community"
   ]
  },
  {
   "cell_type": "code",
   "execution_count": null,
   "id": "e37eece7",
   "metadata": {},
   "outputs": [],
   "source": [
    "# populate the matrix of votes\n",
    "vote_result_matrix = [[np.zeros(3) for i in range(len(communities))] for j in range(len(communities))]\n",
    "nb_result_votes = np.zeros((len(communities), len(communities)))\n",
    "for index, row in df.iterrows():\n",
    "    entity1 = row['source']\n",
    "    entity2 = row['target']\n",
    "    if entity1 in G and entity2 in G:\n",
    "        i_src = find_community(entity1, communities)\n",
    "        i_dst = find_community(entity2, communities)\n",
    "        if row['vote'] == 1:\n",
    "            vote_result_matrix[i_src][i_dst][2] += 1\n",
    "        elif row['vote'] == -1:\n",
    "            vote_result_matrix[i_src][i_dst][0] += 1\n",
    "        else:\n",
    "            vote_result_matrix[i_src][i_dst][1] += 1\n",
    "        nb_result_votes[i_src][i_dst] += 1"
   ]
  },
  {
   "cell_type": "code",
   "execution_count": null,
   "id": "923763e9",
   "metadata": {},
   "outputs": [],
   "source": [
    "perc_result_matrix = np.nan_to_num((vote_result_matrix / nb_result_votes[:,:,np.newaxis]))*100"
   ]
  },
  {
   "cell_type": "code",
   "execution_count": null,
   "id": "72701311",
   "metadata": {},
   "outputs": [],
   "source": [
    "for_ratio_result_matrix = perc_result_matrix[:,:,2]\n",
    "significance_matrix = [[[None]*3 for i in range(len(communities))] for j in range(len(communities))]\n",
    "for i in range(len(communities)):\n",
    "    for j in range(len(communities)):\n",
    "        if int(nb_result_votes[i][j]) != 0:\n",
    "            significance_matrix[i][j][0] = stats.binomtest(int(vote_result_matrix[i][j][2]), \n",
    "                                                         n=int(nb_result_votes[i][j]), \n",
    "                                                         p=value_perc_vote[1]/100,\n",
    "                                                          )\n",
    "plt.figure(figsize=(36, 12))\n",
    "sns.heatmap(for_ratio_result_matrix, cmap=\"Greens\", annot=True, fmt=\".1f\", linewidths=.5, linecolor=\"black\")\n",
    "for i in range(len(communities)):\n",
    "    for j in range(len(communities)):\n",
    "        if significance_matrix[i][j][0]!=None and significance_matrix[i][j][0].pvalue < 0.01:\n",
    "            plt.scatter(j+0.85, i+0.35, color='black', marker='*')\n",
    "plt.title(\"Percentage of votes \\\"for\\\" per communities in G\")\n",
    "plt.xlabel(\"Destination community\")\n",
    "plt.ylabel(\"Source community\")\n",
    "plt.show()"
   ]
  },
  {
   "cell_type": "code",
   "execution_count": null,
   "id": "b9862998",
   "metadata": {},
   "outputs": [],
   "source": [
    "neutral_ratio_result_matrix = perc_result_matrix[:,:,1]\n",
    "for i in range(len(communities)):\n",
    "    for j in range(len(communities)):\n",
    "        if int(nb_result_votes[i][j]) != 0:\n",
    "            significance_matrix[i][j][1] = stats.binomtest(int(vote_result_matrix[i][j][1]), \n",
    "                                                         n=int(nb_result_votes[i][j]), \n",
    "                                                         p=value_perc_vote[0]/100)\n",
    "        \n",
    "plt.figure(figsize=(36, 12))\n",
    "sns.heatmap(neutral_ratio_result_matrix, cmap=\"Greys\", annot=True, fmt=\".1f\", linewidths=.5, linecolor=\"black\")\n",
    "for i in range(len(communities)):\n",
    "    for j in range(len(communities)):\n",
    "        if significance_matrix[i][j][1]!=None and significance_matrix[i][j][1].pvalue < 0.01:\n",
    "            plt.scatter(j+0.85, i+0.35, color='black', marker='*')\n",
    "plt.title(\"Percentage of votes \\\"neutral\\\" per communities in G\")\n",
    "plt.xlabel(\"Destination community\")\n",
    "plt.ylabel(\"Source community\")\n",
    "plt.show()"
   ]
  },
  {
   "cell_type": "code",
   "execution_count": null,
   "id": "6b7d2d4f",
   "metadata": {},
   "outputs": [],
   "source": [
    "against_ratio_result_matrix = perc_result_matrix[:,:,0]\n",
    "for i in range(len(communities)):\n",
    "    for j in range(len(communities)):\n",
    "        if int(nb_result_votes[i][j]) != 0:\n",
    "            significance_matrix[i][j][2] = stats.binomtest(int(vote_result_matrix[i][j][0]), \n",
    "                                                         n=int(nb_result_votes[i][j]), \n",
    "                                                         p=value_perc_vote[-1]/100)\n",
    "plt.figure(figsize=(36, 12))\n",
    "sns.heatmap(against_ratio_result_matrix, cmap=\"Reds\", annot=True, fmt=\".1f\", linewidths=.5, linecolor=\"black\")\n",
    "for i in range(len(communities)):\n",
    "    for j in range(len(communities)):\n",
    "        if significance_matrix[i][j][2]!=None and significance_matrix[i][j][2].pvalue < 0.01:\n",
    "            plt.scatter(j+0.85, i+0.35, color='black', marker='*')\n",
    "plt.title(\"Percentage of votes \\\"against\\\" per communities in G\")\n",
    "plt.xlabel(\"Destination community\")\n",
    "plt.ylabel(\"Source community\")\n",
    "plt.show()"
   ]
  },
  {
   "cell_type": "code",
   "execution_count": null,
   "id": "019f2fa4",
   "metadata": {},
   "outputs": [],
   "source": [
    "size_plot = len(communities)\n",
    "fig, ax = plt.subplots(figsize=(size_plot, size_plot), nrows=len(communities), ncols=len(communities), layout='constrained')\n",
    "for i in range(len(communities)):\n",
    "    for j in range(len(communities)):\n",
    "        diff_for = perc_result_matrix[i][j][2] - value_perc_vote[1]\n",
    "        diff_neutral = perc_result_matrix[i][j][1] - value_perc_vote[0]\n",
    "        diff_against = perc_result_matrix[i][j][0] - value_perc_vote[-1]\n",
    "        ax[i,j].bar(x=['for', 'neutral', 'against'], height=[diff_for, diff_neutral, diff_against], color=['green', 'grey', 'red'])\n",
    "        ax[i,j].set_xticks([])\n",
    "        ax[i,j].set_ylim(-70, 70)\n",
    "        for k in range(3):\n",
    "            if significance_matrix[i][j][k]!=None and significance_matrix[i][j][k].pvalue < 0.01:\n",
    "                ax[i,j].scatter(x=[k], y=[60], marker='*', color='black')\n",
    "\n",
    "for i, ax in enumerate(fig.get_axes()):\n",
    "    if i < len(communities):\n",
    "        ax.set_xlabel(f'{i%len(communities)}', size='large', fontweight='bold') \n",
    "        ax.xaxis.set_label_position('top')\n",
    "    if i%len(communities) == 0 :\n",
    "        ax.set_ylabel(f'{i//len(communities)}', size='large', fontweight='bold')\n",
    "    else :\n",
    "        ax.label_outer()\n",
    "    if i//len(communities) == len(communities)-1:\n",
    "        ax.set_xlabel(f'{i%len(communities)}', size='large', fontweight='bold') \n",
    "fig.suptitle(\"Difference between observed and mean percentage of votes per communities in G\", size='x-large', fontweight='bold')\n",
    "fig.supxlabel(\"Destination community\", size='x-large', fontweight='bold')\n",
    "fig.supylabel(\"Source community\", size='x-large', fontweight='bold')\n",
    "plt.show()"
   ]
  },
  {
   "cell_type": "markdown",
   "id": "6b69298a",
   "metadata": {},
   "source": [
    "We can observe that some communities display either a positive or negative bias in their voting preferences. If votes were at random and participation uniform accross communities, we would have expected that the portion of votes \"for\", \"against\" and \"neutral\" to have to same proportion between communities. Suspicious results could help us to inspect further the relationship between the two communities involved."
   ]
  },
  {
   "cell_type": "code",
   "execution_count": null,
   "id": "f32282c3",
   "metadata": {},
   "outputs": [],
   "source": [
    "import gravis as gv"
   ]
  },
  {
   "cell_type": "code",
   "execution_count": null,
   "id": "dbc79e3a",
   "metadata": {},
   "outputs": [],
   "source": []
  },
  {
   "cell_type": "code",
   "execution_count": null,
   "id": "db0b6ed7",
   "metadata": {},
   "outputs": [],
   "source": [
    "G = nx.DiGraph()\n",
    "\n",
    "for i, c in enumerate(communities):\n",
    "    G.add_node(i)\n",
    "    G.nodes[i]['size'] = len(c)\n",
    "    G.nodes[i]['name'] = communities_name[i]\n",
    "pos = nx.circular_layout(G, scale=700)\n",
    "for i in range(len(communities)):\n",
    "    G.nodes[i]['x'] = pos[i][0]\n",
    "    G.nodes[i]['y'] = pos[i][1]\n",
    "baseline = value_perc_vote[1]\n",
    "for src in range(len(communities)):\n",
    "    for dst in range(len(communities)):\n",
    "        if significance_matrix[src][dst][0]!=None and significance_matrix[src][dst][0].pvalue < 0.01:\n",
    "            ci = significance_matrix[src][dst][0].proportion_ci(confidence_level=0.99)\n",
    "            diff_for = ci.low*100 - baseline if ci.low*100 > baseline  else baseline - ci.high*100\n",
    "            G.add_edge(src,dst, weight=diff_for)\n",
    "            color = \"green\" if ci.low > 0.7 else \"red\"\n",
    "            nx.set_edge_attributes(G, {(src,dst):{\"color\":color}})\n",
    "\n",
    "gv.vis(G, show_menu_toggle_button = False, show_details_toggle_button = False, layout_algorithm_active=False, use_node_size_normalization=True, node_size_normalization_max=60, node_size_normalization_min=7, node_hover_neighborhood=True, node_label_size_factor=2.0, node_label_data_source='name', edge_size_data_source='weight', edge_size_factor=0.5)"
   ]
  },
  {
   "cell_type": "markdown",
   "id": "3132353d",
   "metadata": {},
   "source": [
    "# Content of edits analysis <a class=\"anchor\" id=\"edits\"></a>"
   ]
  },
  {
   "cell_type": "markdown",
   "id": "260c01ce",
   "metadata": {},
   "source": [
    "This section explores the relationship between the topics of Wikipedia pages edited by users and the occurrence of votes between two users. The goal is to identify potential correlations and patterns that would show that editing similar topics has an influence in the motivation to cast a vote."
   ]
  },
  {
   "cell_type": "markdown",
   "id": "4996553f",
   "metadata": {},
   "source": [
    "### Setup <a class=\"anchor\" id=\"edits_setup\"></a>"
   ]
  },
  {
   "cell_type": "code",
   "execution_count": null,
   "id": "c9cd55c0",
   "metadata": {},
   "outputs": [],
   "source": [
    "# The original dataset can be found here (https://snap.stanford.edu/data/wiki-meta.html). \n",
    "# The version that we use here has already been modified so that we get each user and \n",
    "# the page they modified with the number of edits\n",
    "\n",
    "edits_df = pd.read_csv(\"../data/interactions_edits_grouped.zip\", index_col=0, compression='zip')\n",
    "edits_df"
   ]
  },
  {
   "cell_type": "code",
   "execution_count": null,
   "id": "0701b445",
   "metadata": {},
   "outputs": [],
   "source": [
    "# We create a list of Wikipedia pages modified by each users\n",
    "user_indices = edits_df.groupby('username').apply(lambda x: x.index.tolist()).reset_index(name='Indices')\n",
    "user_indices"
   ]
  },
  {
   "cell_type": "code",
   "execution_count": null,
   "id": "f5ebe56b",
   "metadata": {},
   "outputs": [],
   "source": [
    "# Create a list of all users present in the edits dataset\n",
    "users = set(edits_df['username'].tolist())"
   ]
  },
  {
   "cell_type": "markdown",
   "id": "7c2bd1f9",
   "metadata": {},
   "source": [
    "Create a matrix with the Jaccard index (on the the lists of modified pages) for all pairs of users. Jaccard index \"[is a statistic used for gauging the similarity and diversity of sample sets](https://en.wikipedia.org/wiki/Jaccard_index)\". It will be used to understand the similarity of edited pages between pairs of users."
   ]
  },
  {
   "cell_type": "raw",
   "id": "fc63c646",
   "metadata": {},
   "source": [
    "# Initialization of the matrix\n",
    "matrix_similarity = pd.DataFrame(index=list(users), columns=list(users))\n",
    "matrix_similarity"
   ]
  },
  {
   "cell_type": "raw",
   "id": "37dde92e",
   "metadata": {},
   "source": [
    "# Calculate Jaccard index between each pair of users\n",
    "# Takes a few hours to run...\n",
    "for i, user_tuple in enumerate(combinations(list(users), 2)):\n",
    "\n",
    "    pages1 = user_indices[user_indices['username'] == user_tuple[0]]['Indices'].iloc[0]\n",
    "    pages2 = user_indices[user_indices['username'] == user_tuple[1]]['Indices'].iloc[0]\n",
    "    \n",
    "    jaccard_index = jaccard_similarity(set(pages1), set(pages2))\n",
    "\n",
    "    matrix_similarity.at[user_tuple[0], user_tuple[1]] = jaccard_index\n",
    "    matrix_similarity.at[user_tuple[1], user_tuple[0]] = jaccard_index\n",
    "\n",
    "# Fill diagonal with 1 since the Jaccard index with oneself is always 1\n",
    "matrix_similarity = matrix_similarity.fillna(1.0)\n",
    "\n",
    "print(matrix)"
   ]
  },
  {
   "cell_type": "raw",
   "id": "69ce3921",
   "metadata": {},
   "source": [
    "matrix_similarity.to_csv('jaccard.csv', index=True)"
   ]
  },
  {
   "cell_type": "code",
   "execution_count": null,
   "id": "cd7dfcab",
   "metadata": {},
   "outputs": [],
   "source": [
    "matrix_similarity = pd.read_csv(\"../data/jaccard.csv.zip\", index_col=0, compression='zip')\n",
    "matrix_similarity"
   ]
  },
  {
   "cell_type": "markdown",
   "id": "bef159bb",
   "metadata": {},
   "source": [
    "Create a DataFrame with all pairs of users and a binary variable that indicates if a vote exists for each pair. It will be helpful to computes the correlation between similarity in edited pages and voting interaction between two users."
   ]
  },
  {
   "cell_type": "raw",
   "id": "de410d9d",
   "metadata": {},
   "source": [
    "similarity_and_vote = pd.DataFrame(index=list(combinations(list(users), 2)), columns=['vote', 'jaccard'])"
   ]
  },
  {
   "cell_type": "raw",
   "id": "065298a8",
   "metadata": {},
   "source": [
    "# Fill in the new similarity_and_vote with the values from matrix_similarity\n",
    "# Takes 30 minutes to run...\n",
    "for i, index_row in enumerate(similarity_and_vote.iterrows()):\n",
    "    similarity_and_vote.at[index_row[0], 'jaccard'] = matrix_similarity.at[index_row[0][0], index_row[0][1]]"
   ]
  },
  {
   "cell_type": "raw",
   "id": "2aaaf9f9",
   "metadata": {},
   "source": [
    "# Fill in the new similarity_and_vote with the binary values that indicate the presence of the votes\n",
    "list_users = list(matrix_similarity.index)\n",
    "\n",
    "for index, row in df.iterrows():\n",
    "    if (row['source'] in list_users) & (row['target'] in list_users):\n",
    "        if (row['source'], row['target']) in similarity_and_vote.index:\n",
    "            similarity_and_vote.at[(row['source'], row['target']), 'vote'] = 1\n",
    "        elif (row['target'], row['source']) in similarity_and_vote.index:\n",
    "            similarity_and_vote.at[(row['target'], row['source']), 'vote'] = 1\n",
    "similarity_and_vote = similarity_and_vote.fillna(0)"
   ]
  },
  {
   "cell_type": "raw",
   "id": "2dc5acdf",
   "metadata": {},
   "source": [
    "similarity_and_vote.to_csv('jaccard_and_votes.csv', index=True)"
   ]
  },
  {
   "cell_type": "code",
   "execution_count": null,
   "id": "3731a684",
   "metadata": {},
   "outputs": [],
   "source": [
    "similarity_and_vote = pd.read_csv(\"../data/jaccard_and_votes.csv.zip\", index_col=0, compression='zip')\n",
    "similarity_and_vote"
   ]
  },
  {
   "cell_type": "markdown",
   "id": "14a01a6c",
   "metadata": {},
   "source": [
    "### Statistics <a class=\"anchor\" id=\"edits_statistics\"></a>"
   ]
  },
  {
   "cell_type": "markdown",
   "id": "678c9040",
   "metadata": {},
   "source": [
    "Now we will compute some statistics on this data."
   ]
  },
  {
   "cell_type": "code",
   "execution_count": null,
   "id": "25a45209",
   "metadata": {},
   "outputs": [],
   "source": [
    "pearsonr(similarity_and_vote['vote'], similarity_and_vote['jaccard'])"
   ]
  },
  {
   "cell_type": "markdown",
   "id": "fa9df37a",
   "metadata": {},
   "source": [
    "The correlation between similarity score on edited pages and the votes is not very strong but positive with high significance."
   ]
  },
  {
   "cell_type": "code",
   "execution_count": null,
   "id": "6bfa4436",
   "metadata": {},
   "outputs": [],
   "source": [
    "# Mean similarity between all pairs of users\n",
    "mean_sim_all = similarity_and_vote['jaccard'].mean()\n",
    "mean_sim_all"
   ]
  },
  {
   "cell_type": "code",
   "execution_count": null,
   "id": "585a53f8",
   "metadata": {},
   "outputs": [],
   "source": [
    "# Mean similarity between pairs of users that are linked by a vote\n",
    "mean_sim_vote = similarity_and_vote[similarity_and_vote['vote'] == 1]['jaccard'].mean()\n",
    "mean_sim_vote"
   ]
  },
  {
   "cell_type": "code",
   "execution_count": null,
   "id": "ac938950",
   "metadata": {},
   "outputs": [],
   "source": [
    "print(f\"People that are linked by a vote have {mean_sim_vote / mean_sim_all:.2f} \"\n",
    "      f\"times more common edited pages than the average.\")"
   ]
  },
  {
   "cell_type": "markdown",
   "id": "3b3a02cc",
   "metadata": {},
   "source": [
    "### Investigation of most edited pages <a class=\"anchor\" id=\"edits_investigation\"></a>"
   ]
  },
  {
   "cell_type": "markdown",
   "id": "509b7775",
   "metadata": {},
   "source": [
    "We investigate most edited pages per community. The goal is to find a common topic that could define community's interest."
   ]
  },
  {
   "cell_type": "code",
   "execution_count": null,
   "id": "3ddffbb0",
   "metadata": {
    "scrolled": false
   },
   "outputs": [],
   "source": [
    "for count, community in enumerate(communities):\n",
    "    community_to_check = community\n",
    "    \n",
    "    user_list = list(user_indices['username'])\n",
    "    all_subject = set()\n",
    "    for user in community_to_check:\n",
    "        if user in user_list:\n",
    "            all_subject = (set(user_indices[user_indices['username'] == user]['Indices'].iloc[0])\n",
    "                           .union(all_subject))\n",
    "            \n",
    "    data = pd.DataFrame(index=list(all_subject), columns=['count'])\n",
    "    data = data.fillna(0)\n",
    "    \n",
    "    for user in community_to_check:\n",
    "        if user in user_list:\n",
    "            subjects = user_indices[user_indices['username'] == user]['Indices'].iloc[0]\n",
    "            for s in subjects:\n",
    "                data.at[s, 'count'] += 1\n",
    "    print(f\"\\nCommunity {count}:\")            \n",
    "    print(data.sort_values('count', ascending = False).head(20))"
   ]
  },
  {
   "cell_type": "markdown",
   "id": "cd72ed80",
   "metadata": {},
   "source": [
    "### Fake accounts or bots"
   ]
  },
  {
   "cell_type": "code",
   "execution_count": 169,
   "id": "9ff38efb",
   "metadata": {},
   "outputs": [
    {
     "data": {
      "text/html": [
       "<div>\n",
       "<style scoped>\n",
       "    .dataframe tbody tr th:only-of-type {\n",
       "        vertical-align: middle;\n",
       "    }\n",
       "\n",
       "    .dataframe tbody tr th {\n",
       "        vertical-align: top;\n",
       "    }\n",
       "\n",
       "    .dataframe thead th {\n",
       "        text-align: right;\n",
       "    }\n",
       "</style>\n",
       "<table border=\"1\" class=\"dataframe\">\n",
       "  <thead>\n",
       "    <tr style=\"text-align: right;\">\n",
       "      <th></th>\n",
       "      <th>username</th>\n",
       "      <th>counts</th>\n",
       "    </tr>\n",
       "    <tr>\n",
       "      <th>article_title</th>\n",
       "      <th></th>\n",
       "      <th></th>\n",
       "    </tr>\n",
       "  </thead>\n",
       "  <tbody>\n",
       "    <tr>\n",
       "      <th>!</th>\n",
       "      <td>MPerel</td>\n",
       "      <td>1</td>\n",
       "    </tr>\n",
       "    <tr>\n",
       "      <th>!!</th>\n",
       "      <td>Gracenotes</td>\n",
       "      <td>1</td>\n",
       "    </tr>\n",
       "    <tr>\n",
       "      <th>!!</th>\n",
       "      <td>Gwern</td>\n",
       "      <td>1</td>\n",
       "    </tr>\n",
       "    <tr>\n",
       "      <th>!!</th>\n",
       "      <td>JHunterJ</td>\n",
       "      <td>8</td>\n",
       "    </tr>\n",
       "    <tr>\n",
       "      <th>!!</th>\n",
       "      <td>Kane5187</td>\n",
       "      <td>1</td>\n",
       "    </tr>\n",
       "    <tr>\n",
       "      <th>...</th>\n",
       "      <td>...</td>\n",
       "      <td>...</td>\n",
       "    </tr>\n",
       "    <tr>\n",
       "      <th>ﻲ</th>\n",
       "      <td>Dbenbenn</td>\n",
       "      <td>1</td>\n",
       "    </tr>\n",
       "    <tr>\n",
       "      <th>ﻳ</th>\n",
       "      <td>Dbenbenn</td>\n",
       "      <td>1</td>\n",
       "    </tr>\n",
       "    <tr>\n",
       "      <th>ﻴ</th>\n",
       "      <td>Dbenbenn</td>\n",
       "      <td>1</td>\n",
       "    </tr>\n",
       "    <tr>\n",
       "      <th>﻿</th>\n",
       "      <td>Glen</td>\n",
       "      <td>1</td>\n",
       "    </tr>\n",
       "    <tr>\n",
       "      <th>！</th>\n",
       "      <td>Merovingian</td>\n",
       "      <td>1</td>\n",
       "    </tr>\n",
       "  </tbody>\n",
       "</table>\n",
       "<p>10279996 rows × 2 columns</p>\n",
       "</div>"
      ],
      "text/plain": [
       "                  username  counts\n",
       "article_title                     \n",
       "!                   MPerel       1\n",
       "!!              Gracenotes       1\n",
       "!!                   Gwern       1\n",
       "!!                JHunterJ       8\n",
       "!!                Kane5187       1\n",
       "...                    ...     ...\n",
       "ﻲ                 Dbenbenn       1\n",
       "ﻳ                 Dbenbenn       1\n",
       "ﻴ                 Dbenbenn       1\n",
       "﻿                     Glen       1\n",
       "！              Merovingian       1\n",
       "\n",
       "[10279996 rows x 2 columns]"
      ]
     },
     "execution_count": 169,
     "metadata": {},
     "output_type": "execute_result"
    }
   ],
   "source": [
    "edits_df"
   ]
  },
  {
   "cell_type": "code",
   "execution_count": 170,
   "id": "48f30ed0",
   "metadata": {},
   "outputs": [
    {
     "data": {
      "text/html": [
       "<div>\n",
       "<style scoped>\n",
       "    .dataframe tbody tr th:only-of-type {\n",
       "        vertical-align: middle;\n",
       "    }\n",
       "\n",
       "    .dataframe tbody tr th {\n",
       "        vertical-align: top;\n",
       "    }\n",
       "\n",
       "    .dataframe thead th {\n",
       "        text-align: right;\n",
       "    }\n",
       "</style>\n",
       "<table border=\"1\" class=\"dataframe\">\n",
       "  <thead>\n",
       "    <tr style=\"text-align: right;\">\n",
       "      <th></th>\n",
       "      <th>username</th>\n",
       "      <th>counts</th>\n",
       "    </tr>\n",
       "  </thead>\n",
       "  <tbody>\n",
       "    <tr>\n",
       "      <th>0</th>\n",
       "      <td>'sed</td>\n",
       "      <td>6</td>\n",
       "    </tr>\n",
       "    <tr>\n",
       "      <th>1</th>\n",
       "      <td>(.Y.)</td>\n",
       "      <td>6</td>\n",
       "    </tr>\n",
       "    <tr>\n",
       "      <th>2</th>\n",
       "      <td>(:Julien:)</td>\n",
       "      <td>1047</td>\n",
       "    </tr>\n",
       "    <tr>\n",
       "      <th>3</th>\n",
       "      <td>(aeropagitica)</td>\n",
       "      <td>3360</td>\n",
       "    </tr>\n",
       "    <tr>\n",
       "      <th>4</th>\n",
       "      <td>*Kat*</td>\n",
       "      <td>1746</td>\n",
       "    </tr>\n",
       "    <tr>\n",
       "      <th>...</th>\n",
       "      <td>...</td>\n",
       "      <td>...</td>\n",
       "    </tr>\n",
       "    <tr>\n",
       "      <th>6586</th>\n",
       "      <td>^demon</td>\n",
       "      <td>6824</td>\n",
       "    </tr>\n",
       "    <tr>\n",
       "      <th>6587</th>\n",
       "      <td>~K</td>\n",
       "      <td>1742</td>\n",
       "    </tr>\n",
       "    <tr>\n",
       "      <th>6588</th>\n",
       "      <td>Вasil</td>\n",
       "      <td>1605</td>\n",
       "    </tr>\n",
       "    <tr>\n",
       "      <th>6589</th>\n",
       "      <td>Еdit</td>\n",
       "      <td>111</td>\n",
       "    </tr>\n",
       "    <tr>\n",
       "      <th>6590</th>\n",
       "      <td>ברוקולי</td>\n",
       "      <td>4</td>\n",
       "    </tr>\n",
       "  </tbody>\n",
       "</table>\n",
       "<p>6591 rows × 2 columns</p>\n",
       "</div>"
      ],
      "text/plain": [
       "            username  counts\n",
       "0               'sed       6\n",
       "1              (.Y.)       6\n",
       "2         (:Julien:)    1047\n",
       "3     (aeropagitica)    3360\n",
       "4              *Kat*    1746\n",
       "...              ...     ...\n",
       "6586          ^demon    6824\n",
       "6587              ~K    1742\n",
       "6588           Вasil    1605\n",
       "6589            Еdit     111\n",
       "6590         ברוקולי       4\n",
       "\n",
       "[6591 rows x 2 columns]"
      ]
     },
     "execution_count": 170,
     "metadata": {},
     "output_type": "execute_result"
    }
   ],
   "source": [
    "user_edits_count = edits_df.groupby('username')['counts'].sum().reset_index()\n",
    "user_edits_count"
   ]
  },
  {
   "cell_type": "code",
   "execution_count": 171,
   "id": "e8ba4b9d",
   "metadata": {},
   "outputs": [
    {
     "data": {
      "text/html": [
       "<div>\n",
       "<style scoped>\n",
       "    .dataframe tbody tr th:only-of-type {\n",
       "        vertical-align: middle;\n",
       "    }\n",
       "\n",
       "    .dataframe tbody tr th {\n",
       "        vertical-align: top;\n",
       "    }\n",
       "\n",
       "    .dataframe thead th {\n",
       "        text-align: right;\n",
       "    }\n",
       "</style>\n",
       "<table border=\"1\" class=\"dataframe\">\n",
       "  <thead>\n",
       "    <tr style=\"text-align: right;\">\n",
       "      <th></th>\n",
       "      <th>source</th>\n",
       "      <th>target</th>\n",
       "      <th>vote</th>\n",
       "      <th>result</th>\n",
       "      <th>year_election</th>\n",
       "      <th>date_vote</th>\n",
       "      <th>comment</th>\n",
       "    </tr>\n",
       "  </thead>\n",
       "  <tbody>\n",
       "    <tr>\n",
       "      <th>0</th>\n",
       "      <td>Steel1943</td>\n",
       "      <td>BDD</td>\n",
       "      <td>1</td>\n",
       "      <td>1</td>\n",
       "      <td>2013</td>\n",
       "      <td>23:13, 19 April 2013</td>\n",
       "      <td>'''Support''' as co-nom.</td>\n",
       "    </tr>\n",
       "    <tr>\n",
       "      <th>1</th>\n",
       "      <td>Cuchullain</td>\n",
       "      <td>BDD</td>\n",
       "      <td>1</td>\n",
       "      <td>1</td>\n",
       "      <td>2013</td>\n",
       "      <td>01:04, 20 April 2013</td>\n",
       "      <td>'''Support''' as nominator.--</td>\n",
       "    </tr>\n",
       "    <tr>\n",
       "      <th>2</th>\n",
       "      <td>INeverCry</td>\n",
       "      <td>BDD</td>\n",
       "      <td>1</td>\n",
       "      <td>1</td>\n",
       "      <td>2013</td>\n",
       "      <td>23:43, 19 April 2013</td>\n",
       "      <td>'''Support''' per noms.</td>\n",
       "    </tr>\n",
       "    <tr>\n",
       "      <th>3</th>\n",
       "      <td>Cncmaster</td>\n",
       "      <td>BDD</td>\n",
       "      <td>1</td>\n",
       "      <td>1</td>\n",
       "      <td>2013</td>\n",
       "      <td>00:11, 20 April 2013</td>\n",
       "      <td>'''Support''' per noms. BDD is a strong contri...</td>\n",
       "    </tr>\n",
       "    <tr>\n",
       "      <th>4</th>\n",
       "      <td>Miniapolis</td>\n",
       "      <td>BDD</td>\n",
       "      <td>1</td>\n",
       "      <td>1</td>\n",
       "      <td>2013</td>\n",
       "      <td>00:56, 20 April 2013</td>\n",
       "      <td>'''Support''', with great pleasure. I work wit...</td>\n",
       "    </tr>\n",
       "    <tr>\n",
       "      <th>...</th>\n",
       "      <td>...</td>\n",
       "      <td>...</td>\n",
       "      <td>...</td>\n",
       "      <td>...</td>\n",
       "      <td>...</td>\n",
       "      <td>...</td>\n",
       "      <td>...</td>\n",
       "    </tr>\n",
       "    <tr>\n",
       "      <th>198270</th>\n",
       "      <td>172</td>\n",
       "      <td>Vancouverguy</td>\n",
       "      <td>1</td>\n",
       "      <td>1</td>\n",
       "      <td>2003</td>\n",
       "      <td>02:51, 2 Sep 2003</td>\n",
       "      <td>Support</td>\n",
       "    </tr>\n",
       "    <tr>\n",
       "      <th>198271</th>\n",
       "      <td>Angela</td>\n",
       "      <td>WhisperToMe</td>\n",
       "      <td>1</td>\n",
       "      <td>1</td>\n",
       "      <td>2003</td>\n",
       "      <td>23:45, 26 Nov 2003</td>\n",
       "      <td>Support.</td>\n",
       "    </tr>\n",
       "    <tr>\n",
       "      <th>198272</th>\n",
       "      <td>Jiang</td>\n",
       "      <td>WhisperToMe</td>\n",
       "      <td>1</td>\n",
       "      <td>1</td>\n",
       "      <td>2003</td>\n",
       "      <td></td>\n",
       "      <td>Support. --</td>\n",
       "    </tr>\n",
       "    <tr>\n",
       "      <th>198273</th>\n",
       "      <td>Pakaran</td>\n",
       "      <td>WhisperToMe</td>\n",
       "      <td>1</td>\n",
       "      <td>1</td>\n",
       "      <td>2003</td>\n",
       "      <td>05:38, 5 Dec 2003</td>\n",
       "      <td>Support.  Age has nothing to do with maturity....</td>\n",
       "    </tr>\n",
       "    <tr>\n",
       "      <th>198274</th>\n",
       "      <td>Jimregan</td>\n",
       "      <td>Zanimum</td>\n",
       "      <td>1</td>\n",
       "      <td>1</td>\n",
       "      <td>2003</td>\n",
       "      <td></td>\n",
       "      <td>Support - anyone who can write so much, and so...</td>\n",
       "    </tr>\n",
       "  </tbody>\n",
       "</table>\n",
       "<p>196614 rows × 7 columns</p>\n",
       "</div>"
      ],
      "text/plain": [
       "            source        target vote result year_election  \\\n",
       "0        Steel1943           BDD    1      1          2013   \n",
       "1       Cuchullain           BDD    1      1          2013   \n",
       "2        INeverCry           BDD    1      1          2013   \n",
       "3        Cncmaster           BDD    1      1          2013   \n",
       "4       Miniapolis           BDD    1      1          2013   \n",
       "...            ...           ...  ...    ...           ...   \n",
       "198270         172  Vancouverguy    1      1          2003   \n",
       "198271      Angela   WhisperToMe    1      1          2003   \n",
       "198272       Jiang   WhisperToMe    1      1          2003   \n",
       "198273     Pakaran   WhisperToMe    1      1          2003   \n",
       "198274    Jimregan       Zanimum    1      1          2003   \n",
       "\n",
       "                   date_vote  \\\n",
       "0       23:13, 19 April 2013   \n",
       "1       01:04, 20 April 2013   \n",
       "2       23:43, 19 April 2013   \n",
       "3       00:11, 20 April 2013   \n",
       "4       00:56, 20 April 2013   \n",
       "...                      ...   \n",
       "198270     02:51, 2 Sep 2003   \n",
       "198271    23:45, 26 Nov 2003   \n",
       "198272                         \n",
       "198273     05:38, 5 Dec 2003   \n",
       "198274                         \n",
       "\n",
       "                                                  comment  \n",
       "0                                '''Support''' as co-nom.  \n",
       "1                           '''Support''' as nominator.--  \n",
       "2                                 '''Support''' per noms.  \n",
       "3       '''Support''' per noms. BDD is a strong contri...  \n",
       "4       '''Support''', with great pleasure. I work wit...  \n",
       "...                                                   ...  \n",
       "198270                                            Support  \n",
       "198271                                           Support.  \n",
       "198272                                        Support. --  \n",
       "198273  Support.  Age has nothing to do with maturity....  \n",
       "198274  Support - anyone who can write so much, and so...  \n",
       "\n",
       "[196614 rows x 7 columns]"
      ]
     },
     "execution_count": 171,
     "metadata": {},
     "output_type": "execute_result"
    }
   ],
   "source": [
    "df_clean = df[df['source'] != '']\n",
    "df_clean"
   ]
  },
  {
   "cell_type": "code",
   "execution_count": 172,
   "id": "8de7eefb",
   "metadata": {},
   "outputs": [
    {
     "data": {
      "text/html": [
       "<div>\n",
       "<style scoped>\n",
       "    .dataframe tbody tr th:only-of-type {\n",
       "        vertical-align: middle;\n",
       "    }\n",
       "\n",
       "    .dataframe tbody tr th {\n",
       "        vertical-align: top;\n",
       "    }\n",
       "\n",
       "    .dataframe thead th {\n",
       "        text-align: right;\n",
       "    }\n",
       "</style>\n",
       "<table border=\"1\" class=\"dataframe\">\n",
       "  <thead>\n",
       "    <tr style=\"text-align: right;\">\n",
       "      <th></th>\n",
       "      <th>nb_votes</th>\n",
       "    </tr>\n",
       "    <tr>\n",
       "      <th>source</th>\n",
       "      <th></th>\n",
       "    </tr>\n",
       "  </thead>\n",
       "  <tbody>\n",
       "    <tr>\n",
       "      <th>!---slappdash---!</th>\n",
       "      <td>1</td>\n",
       "    </tr>\n",
       "    <tr>\n",
       "      <th>%D0%90</th>\n",
       "      <td>13</td>\n",
       "    </tr>\n",
       "    <tr>\n",
       "      <th>'sed</th>\n",
       "      <td>3</td>\n",
       "    </tr>\n",
       "    <tr>\n",
       "      <th>(.Y.)</th>\n",
       "      <td>1</td>\n",
       "    </tr>\n",
       "    <tr>\n",
       "      <th>(:Julien:)</th>\n",
       "      <td>1</td>\n",
       "    </tr>\n",
       "    <tr>\n",
       "      <th>...</th>\n",
       "      <td>...</td>\n",
       "    </tr>\n",
       "    <tr>\n",
       "      <th>とある白い猫</th>\n",
       "      <td>1</td>\n",
       "    </tr>\n",
       "    <tr>\n",
       "      <th>シ</th>\n",
       "      <td>6</td>\n",
       "    </tr>\n",
       "    <tr>\n",
       "      <th>石</th>\n",
       "      <td>1</td>\n",
       "    </tr>\n",
       "    <tr>\n",
       "      <th>龗</th>\n",
       "      <td>2</td>\n",
       "    </tr>\n",
       "    <tr>\n",
       "      <th>완젬스</th>\n",
       "      <td>1</td>\n",
       "    </tr>\n",
       "  </tbody>\n",
       "</table>\n",
       "<p>10416 rows × 1 columns</p>\n",
       "</div>"
      ],
      "text/plain": [
       "                   nb_votes\n",
       "source                     \n",
       "!---slappdash---!         1\n",
       "%D0%90                   13\n",
       "'sed                      3\n",
       "(.Y.)                     1\n",
       "(:Julien:)                1\n",
       "...                     ...\n",
       "とある白い猫                    1\n",
       "シ                         6\n",
       "石                         1\n",
       "龗                         2\n",
       "완젬스                       1\n",
       "\n",
       "[10416 rows x 1 columns]"
      ]
     },
     "execution_count": 172,
     "metadata": {},
     "output_type": "execute_result"
    }
   ],
   "source": [
    "nb_votes = df_clean.groupby(['source'])[['target']].count().rename(columns={'target': 'nb_votes'})\n",
    "nb_votes"
   ]
  },
  {
   "cell_type": "code",
   "execution_count": 173,
   "id": "7e7ad223",
   "metadata": {},
   "outputs": [
    {
     "data": {
      "text/html": [
       "<div>\n",
       "<style scoped>\n",
       "    .dataframe tbody tr th:only-of-type {\n",
       "        vertical-align: middle;\n",
       "    }\n",
       "\n",
       "    .dataframe tbody tr th {\n",
       "        vertical-align: top;\n",
       "    }\n",
       "\n",
       "    .dataframe thead th {\n",
       "        text-align: right;\n",
       "    }\n",
       "</style>\n",
       "<table border=\"1\" class=\"dataframe\">\n",
       "  <thead>\n",
       "    <tr style=\"text-align: right;\">\n",
       "      <th></th>\n",
       "      <th>username</th>\n",
       "      <th>edits_count</th>\n",
       "      <th>nb_votes</th>\n",
       "    </tr>\n",
       "  </thead>\n",
       "  <tbody>\n",
       "    <tr>\n",
       "      <th>0</th>\n",
       "      <td>!---slappdash---!</td>\n",
       "      <td>0.0</td>\n",
       "      <td>1</td>\n",
       "    </tr>\n",
       "    <tr>\n",
       "      <th>1</th>\n",
       "      <td>%D0%90</td>\n",
       "      <td>0.0</td>\n",
       "      <td>13</td>\n",
       "    </tr>\n",
       "    <tr>\n",
       "      <th>2</th>\n",
       "      <td>'sed</td>\n",
       "      <td>6.0</td>\n",
       "      <td>3</td>\n",
       "    </tr>\n",
       "    <tr>\n",
       "      <th>3</th>\n",
       "      <td>(.Y.)</td>\n",
       "      <td>6.0</td>\n",
       "      <td>1</td>\n",
       "    </tr>\n",
       "    <tr>\n",
       "      <th>4</th>\n",
       "      <td>(:Julien:)</td>\n",
       "      <td>1047.0</td>\n",
       "      <td>1</td>\n",
       "    </tr>\n",
       "    <tr>\n",
       "      <th>...</th>\n",
       "      <td>...</td>\n",
       "      <td>...</td>\n",
       "      <td>...</td>\n",
       "    </tr>\n",
       "    <tr>\n",
       "      <th>10411</th>\n",
       "      <td>とある白い猫</td>\n",
       "      <td>0.0</td>\n",
       "      <td>1</td>\n",
       "    </tr>\n",
       "    <tr>\n",
       "      <th>10412</th>\n",
       "      <td>シ</td>\n",
       "      <td>0.0</td>\n",
       "      <td>6</td>\n",
       "    </tr>\n",
       "    <tr>\n",
       "      <th>10413</th>\n",
       "      <td>石</td>\n",
       "      <td>0.0</td>\n",
       "      <td>1</td>\n",
       "    </tr>\n",
       "    <tr>\n",
       "      <th>10414</th>\n",
       "      <td>龗</td>\n",
       "      <td>0.0</td>\n",
       "      <td>2</td>\n",
       "    </tr>\n",
       "    <tr>\n",
       "      <th>10415</th>\n",
       "      <td>완젬스</td>\n",
       "      <td>0.0</td>\n",
       "      <td>1</td>\n",
       "    </tr>\n",
       "  </tbody>\n",
       "</table>\n",
       "<p>10416 rows × 3 columns</p>\n",
       "</div>"
      ],
      "text/plain": [
       "                username  edits_count  nb_votes\n",
       "0      !---slappdash---!          0.0         1\n",
       "1                 %D0%90          0.0        13\n",
       "2                   'sed          6.0         3\n",
       "3                  (.Y.)          6.0         1\n",
       "4             (:Julien:)       1047.0         1\n",
       "...                  ...          ...       ...\n",
       "10411             とある白い猫          0.0         1\n",
       "10412                  シ          0.0         6\n",
       "10413                  石          0.0         1\n",
       "10414                  龗          0.0         2\n",
       "10415                완젬스          0.0         1\n",
       "\n",
       "[10416 rows x 3 columns]"
      ]
     },
     "execution_count": 173,
     "metadata": {},
     "output_type": "execute_result"
    }
   ],
   "source": [
    "votes_and_edits = nb_votes.merge(user_edits_count, how='left', left_index=True, right_on='username').reset_index().fillna(0)[['username', 'counts', 'nb_votes']]\n",
    "votes_and_edits.rename(columns={'counts': 'edits_count'}, inplace=True)\n",
    "votes_and_edits"
   ]
  },
  {
   "cell_type": "code",
   "execution_count": 174,
   "id": "2469636d",
   "metadata": {},
   "outputs": [
    {
     "name": "stdout",
     "output_type": "stream",
     "text": [
      "                            OLS Regression Results                            \n",
      "==============================================================================\n",
      "Dep. Variable:               nb_votes   R-squared:                       0.023\n",
      "Model:                            OLS   Adj. R-squared:                  0.023\n",
      "Method:                 Least Squares   F-statistic:                     247.4\n",
      "Date:                Thu, 21 Dec 2023   Prob (F-statistic):           4.10e-55\n",
      "Time:                        15:05:38   Log-Likelihood:                -55509.\n",
      "No. Observations:               10416   AIC:                         1.110e+05\n",
      "Df Residuals:                   10414   BIC:                         1.110e+05\n",
      "Df Model:                           1                                         \n",
      "Covariance Type:            nonrobust                                         \n",
      "===============================================================================\n",
      "                  coef    std err          t      P>|t|      [0.025      0.975]\n",
      "-------------------------------------------------------------------------------\n",
      "Intercept      16.0730      0.521     30.878      0.000      15.053      17.093\n",
      "edits_count     0.0014   9.08e-05     15.729      0.000       0.001       0.002\n",
      "==============================================================================\n",
      "Omnibus:                    13922.720   Durbin-Watson:                   1.963\n",
      "Prob(Omnibus):                  0.000   Jarque-Bera (JB):          4181885.728\n",
      "Skew:                           7.513   Prob(JB):                         0.00\n",
      "Kurtosis:                     100.005   Cond. No.                     6.10e+03\n",
      "==============================================================================\n",
      "\n",
      "Notes:\n",
      "[1] Standard Errors assume that the covariance matrix of the errors is correctly specified.\n",
      "[2] The condition number is large, 6.1e+03. This might indicate that there are\n",
      "strong multicollinearity or other numerical problems.\n"
     ]
    }
   ],
   "source": [
    "#Run a logistic regression on the dataset\n",
    "mod = smf.ols(formula='nb_votes ~ edits_count', data=votes_and_edits)\n",
    "res = mod.fit()\n",
    "print(res.summary())"
   ]
  },
  {
   "cell_type": "code",
   "execution_count": 175,
   "id": "33350e4a",
   "metadata": {},
   "outputs": [
    {
     "data": {
      "text/html": [
       "<div>\n",
       "<style scoped>\n",
       "    .dataframe tbody tr th:only-of-type {\n",
       "        vertical-align: middle;\n",
       "    }\n",
       "\n",
       "    .dataframe tbody tr th {\n",
       "        vertical-align: top;\n",
       "    }\n",
       "\n",
       "    .dataframe thead th {\n",
       "        text-align: right;\n",
       "    }\n",
       "</style>\n",
       "<table border=\"1\" class=\"dataframe\">\n",
       "  <thead>\n",
       "    <tr style=\"text-align: right;\">\n",
       "      <th></th>\n",
       "      <th>username</th>\n",
       "      <th>edits_count</th>\n",
       "      <th>nb_votes</th>\n",
       "    </tr>\n",
       "  </thead>\n",
       "  <tbody>\n",
       "    <tr>\n",
       "      <th>0</th>\n",
       "      <td>!---slappdash---!</td>\n",
       "      <td>0.0</td>\n",
       "      <td>1</td>\n",
       "    </tr>\n",
       "    <tr>\n",
       "      <th>1</th>\n",
       "      <td>%D0%90</td>\n",
       "      <td>0.0</td>\n",
       "      <td>13</td>\n",
       "    </tr>\n",
       "    <tr>\n",
       "      <th>7</th>\n",
       "      <td>*Spark*</td>\n",
       "      <td>0.0</td>\n",
       "      <td>1</td>\n",
       "    </tr>\n",
       "    <tr>\n",
       "      <th>11</th>\n",
       "      <td>-Slash-</td>\n",
       "      <td>0.0</td>\n",
       "      <td>1</td>\n",
       "    </tr>\n",
       "    <tr>\n",
       "      <th>12</th>\n",
       "      <td>-The Bold Guy-</td>\n",
       "      <td>0.0</td>\n",
       "      <td>1</td>\n",
       "    </tr>\n",
       "    <tr>\n",
       "      <th>...</th>\n",
       "      <td>...</td>\n",
       "      <td>...</td>\n",
       "      <td>...</td>\n",
       "    </tr>\n",
       "    <tr>\n",
       "      <th>10411</th>\n",
       "      <td>とある白い猫</td>\n",
       "      <td>0.0</td>\n",
       "      <td>1</td>\n",
       "    </tr>\n",
       "    <tr>\n",
       "      <th>10412</th>\n",
       "      <td>シ</td>\n",
       "      <td>0.0</td>\n",
       "      <td>6</td>\n",
       "    </tr>\n",
       "    <tr>\n",
       "      <th>10413</th>\n",
       "      <td>石</td>\n",
       "      <td>0.0</td>\n",
       "      <td>1</td>\n",
       "    </tr>\n",
       "    <tr>\n",
       "      <th>10414</th>\n",
       "      <td>龗</td>\n",
       "      <td>0.0</td>\n",
       "      <td>2</td>\n",
       "    </tr>\n",
       "    <tr>\n",
       "      <th>10415</th>\n",
       "      <td>완젬스</td>\n",
       "      <td>0.0</td>\n",
       "      <td>1</td>\n",
       "    </tr>\n",
       "  </tbody>\n",
       "</table>\n",
       "<p>4318 rows × 3 columns</p>\n",
       "</div>"
      ],
      "text/plain": [
       "                username  edits_count  nb_votes\n",
       "0      !---slappdash---!          0.0         1\n",
       "1                 %D0%90          0.0        13\n",
       "7                *Spark*          0.0         1\n",
       "11               -Slash-          0.0         1\n",
       "12        -The Bold Guy-          0.0         1\n",
       "...                  ...          ...       ...\n",
       "10411             とある白い猫          0.0         1\n",
       "10412                  シ          0.0         6\n",
       "10413                  石          0.0         1\n",
       "10414                  龗          0.0         2\n",
       "10415                완젬스          0.0         1\n",
       "\n",
       "[4318 rows x 3 columns]"
      ]
     },
     "execution_count": 175,
     "metadata": {},
     "output_type": "execute_result"
    }
   ],
   "source": [
    "no_edits = votes_and_edits[votes_and_edits['edits_count'] == 0]\n",
    "no_edits"
   ]
  },
  {
   "cell_type": "code",
   "execution_count": 176,
   "id": "fa99bea0",
   "metadata": {},
   "outputs": [
    {
     "data": {
      "text/plain": [
       "array(['Sodabottle', 'I Jethrobot', 'Ginbot86', 'Pickbothmanlol',\n",
       "       'Inkbottle', 'RiseRobotRise', 'Werdnabot', 'Lordkinbote',\n",
       "       'IMeowbot', 'D-bot', 'Fuelbottle'], dtype=object)"
      ]
     },
     "execution_count": 176,
     "metadata": {},
     "output_type": "execute_result"
    }
   ],
   "source": [
    "df_clean[df_clean['source'].str.contains('bot')]['source'].unique()\n"
   ]
  },
  {
   "cell_type": "code",
   "execution_count": 177,
   "id": "e89479a3",
   "metadata": {},
   "outputs": [],
   "source": [
    "suspects = no_edits[no_edits['nb_votes'] == 1]['username'].unique()"
   ]
  },
  {
   "cell_type": "code",
   "execution_count": 178,
   "id": "955e5586",
   "metadata": {},
   "outputs": [
    {
     "data": {
      "text/html": [
       "<div>\n",
       "<style scoped>\n",
       "    .dataframe tbody tr th:only-of-type {\n",
       "        vertical-align: middle;\n",
       "    }\n",
       "\n",
       "    .dataframe tbody tr th {\n",
       "        vertical-align: top;\n",
       "    }\n",
       "\n",
       "    .dataframe thead th {\n",
       "        text-align: right;\n",
       "    }\n",
       "</style>\n",
       "<table border=\"1\" class=\"dataframe\">\n",
       "  <thead>\n",
       "    <tr style=\"text-align: right;\">\n",
       "      <th></th>\n",
       "      <th>source</th>\n",
       "      <th>target</th>\n",
       "      <th>vote</th>\n",
       "      <th>result</th>\n",
       "      <th>year_election</th>\n",
       "      <th>date_vote</th>\n",
       "      <th>comment</th>\n",
       "    </tr>\n",
       "  </thead>\n",
       "  <tbody>\n",
       "    <tr>\n",
       "      <th>19</th>\n",
       "      <td>Film at 11</td>\n",
       "      <td>BDD</td>\n",
       "      <td>1</td>\n",
       "      <td>1</td>\n",
       "      <td>2013</td>\n",
       "      <td>15:27, 20 April 2013</td>\n",
       "      <td>'''Support''' looks like a great candidate for...</td>\n",
       "    </tr>\n",
       "    <tr>\n",
       "      <th>82</th>\n",
       "      <td>Angelo1345</td>\n",
       "      <td>BDD</td>\n",
       "      <td>1</td>\n",
       "      <td>1</td>\n",
       "      <td>2013</td>\n",
       "      <td>19:20, 23 April 2013</td>\n",
       "      <td>'''Support''' High edit-counts and nice answer...</td>\n",
       "    </tr>\n",
       "    <tr>\n",
       "      <th>162</th>\n",
       "      <td>Wangxuan8331800</td>\n",
       "      <td>Bilby</td>\n",
       "      <td>1</td>\n",
       "      <td>1</td>\n",
       "      <td>2013</td>\n",
       "      <td>11:28, 25 May 2013</td>\n",
       "      <td>'''Good''' --</td>\n",
       "    </tr>\n",
       "    <tr>\n",
       "      <th>175</th>\n",
       "      <td>JennKR</td>\n",
       "      <td>Bilby</td>\n",
       "      <td>1</td>\n",
       "      <td>1</td>\n",
       "      <td>2013</td>\n",
       "      <td>19:15, 25 May 2013</td>\n",
       "      <td>'''Support''' - Great work on improving articl...</td>\n",
       "    </tr>\n",
       "    <tr>\n",
       "      <th>198</th>\n",
       "      <td>Theonesean</td>\n",
       "      <td>Bilby</td>\n",
       "      <td>1</td>\n",
       "      <td>1</td>\n",
       "      <td>2013</td>\n",
       "      <td>18:54, 26 May 2013</td>\n",
       "      <td>'''Support''' - He seems like a strong contrib...</td>\n",
       "    </tr>\n",
       "    <tr>\n",
       "      <th>...</th>\n",
       "      <td>...</td>\n",
       "      <td>...</td>\n",
       "      <td>...</td>\n",
       "      <td>...</td>\n",
       "      <td>...</td>\n",
       "      <td>...</td>\n",
       "      <td>...</td>\n",
       "    </tr>\n",
       "    <tr>\n",
       "      <th>197968</th>\n",
       "      <td>High on a tree</td>\n",
       "      <td>Snowspinner</td>\n",
       "      <td>0</td>\n",
       "      <td>-1</td>\n",
       "      <td>2004</td>\n",
       "      <td>13:17, 5 Jun 2004</td>\n",
       "      <td></td>\n",
       "    </tr>\n",
       "    <tr>\n",
       "      <th>197969</th>\n",
       "      <td>Editing Saddam Hussein</td>\n",
       "      <td>Snowspinner</td>\n",
       "      <td>0</td>\n",
       "      <td>-1</td>\n",
       "      <td>2004</td>\n",
       "      <td></td>\n",
       "      <td></td>\n",
       "    </tr>\n",
       "    <tr>\n",
       "      <th>198095</th>\n",
       "      <td>Vicki Rosenzweig</td>\n",
       "      <td>Arwel Parry</td>\n",
       "      <td>1</td>\n",
       "      <td>1</td>\n",
       "      <td>2003</td>\n",
       "      <td>23:16, 9 Oct 2003</td>\n",
       "      <td>Support. I've known Arwel elsenet for quite a ...</td>\n",
       "    </tr>\n",
       "    <tr>\n",
       "      <th>198138</th>\n",
       "      <td>Next Paige</td>\n",
       "      <td>Dysprosia</td>\n",
       "      <td>1</td>\n",
       "      <td>1</td>\n",
       "      <td>2003</td>\n",
       "      <td>21:39, 27 Aug 2003</td>\n",
       "      <td>Support.  Good work editing, stays NPOV, polit...</td>\n",
       "    </tr>\n",
       "    <tr>\n",
       "      <th>198148</th>\n",
       "      <td>Drolsi Susej</td>\n",
       "      <td>Evil saltine</td>\n",
       "      <td>1</td>\n",
       "      <td>1</td>\n",
       "      <td>2003</td>\n",
       "      <td>03:12, 15 Oct 2003</td>\n",
       "      <td>Support. An excellent wikipedian who is not to...</td>\n",
       "    </tr>\n",
       "  </tbody>\n",
       "</table>\n",
       "<p>1619 rows × 7 columns</p>\n",
       "</div>"
      ],
      "text/plain": [
       "                        source        target vote result year_election  \\\n",
       "19                  Film at 11           BDD    1      1          2013   \n",
       "82                  Angelo1345           BDD    1      1          2013   \n",
       "162            Wangxuan8331800         Bilby    1      1          2013   \n",
       "175                     JennKR         Bilby    1      1          2013   \n",
       "198                 Theonesean         Bilby    1      1          2013   \n",
       "...                        ...           ...  ...    ...           ...   \n",
       "197968          High on a tree   Snowspinner    0     -1          2004   \n",
       "197969  Editing Saddam Hussein   Snowspinner    0     -1          2004   \n",
       "198095        Vicki Rosenzweig   Arwel Parry    1      1          2003   \n",
       "198138              Next Paige     Dysprosia    1      1          2003   \n",
       "198148            Drolsi Susej  Evil saltine    1      1          2003   \n",
       "\n",
       "                   date_vote  \\\n",
       "19      15:27, 20 April 2013   \n",
       "82      19:20, 23 April 2013   \n",
       "162       11:28, 25 May 2013   \n",
       "175       19:15, 25 May 2013   \n",
       "198       18:54, 26 May 2013   \n",
       "...                      ...   \n",
       "197968     13:17, 5 Jun 2004   \n",
       "197969                         \n",
       "198095     23:16, 9 Oct 2003   \n",
       "198138    21:39, 27 Aug 2003   \n",
       "198148    03:12, 15 Oct 2003   \n",
       "\n",
       "                                                  comment  \n",
       "19      '''Support''' looks like a great candidate for...  \n",
       "82      '''Support''' High edit-counts and nice answer...  \n",
       "162                                         '''Good''' --  \n",
       "175     '''Support''' - Great work on improving articl...  \n",
       "198     '''Support''' - He seems like a strong contrib...  \n",
       "...                                                   ...  \n",
       "197968                                                     \n",
       "197969                                                     \n",
       "198095  Support. I've known Arwel elsenet for quite a ...  \n",
       "198138  Support.  Good work editing, stays NPOV, polit...  \n",
       "198148  Support. An excellent wikipedian who is not to...  \n",
       "\n",
       "[1619 rows x 7 columns]"
      ]
     },
     "execution_count": 178,
     "metadata": {},
     "output_type": "execute_result"
    }
   ],
   "source": [
    "df_with_suspects = df_clean[df_clean['source'].isin(suspects)]\n",
    "df_with_suspects"
   ]
  },
  {
   "cell_type": "code",
   "execution_count": 179,
   "id": "57ae7d07",
   "metadata": {},
   "outputs": [
    {
     "data": {
      "text/html": [
       "<div>\n",
       "<style scoped>\n",
       "    .dataframe tbody tr th:only-of-type {\n",
       "        vertical-align: middle;\n",
       "    }\n",
       "\n",
       "    .dataframe tbody tr th {\n",
       "        vertical-align: top;\n",
       "    }\n",
       "\n",
       "    .dataframe thead th {\n",
       "        text-align: right;\n",
       "    }\n",
       "</style>\n",
       "<table border=\"1\" class=\"dataframe\">\n",
       "  <thead>\n",
       "    <tr style=\"text-align: right;\">\n",
       "      <th></th>\n",
       "      <th></th>\n",
       "      <th></th>\n",
       "      <th>source</th>\n",
       "    </tr>\n",
       "    <tr>\n",
       "      <th>target</th>\n",
       "      <th>year_election</th>\n",
       "      <th>result</th>\n",
       "      <th></th>\n",
       "    </tr>\n",
       "  </thead>\n",
       "  <tbody>\n",
       "    <tr>\n",
       "      <th>28bytes</th>\n",
       "      <th>2010</th>\n",
       "      <th>-1</th>\n",
       "      <td>1</td>\n",
       "    </tr>\n",
       "    <tr>\n",
       "      <th>Mollymoon</th>\n",
       "      <th>2009</th>\n",
       "      <th>-1</th>\n",
       "      <td>1</td>\n",
       "    </tr>\n",
       "    <tr>\n",
       "      <th>Moonriddengirl</th>\n",
       "      <th>2007</th>\n",
       "      <th>1</th>\n",
       "      <td>1</td>\n",
       "    </tr>\n",
       "    <tr>\n",
       "      <th>Morhange</th>\n",
       "      <th>2008</th>\n",
       "      <th>-1</th>\n",
       "      <td>1</td>\n",
       "    </tr>\n",
       "    <tr>\n",
       "      <th>Mr.Z-man</th>\n",
       "      <th>2007</th>\n",
       "      <th>1</th>\n",
       "      <td>1</td>\n",
       "    </tr>\n",
       "    <tr>\n",
       "      <th>...</th>\n",
       "      <th>...</th>\n",
       "      <th>...</th>\n",
       "      <td>...</td>\n",
       "    </tr>\n",
       "    <tr>\n",
       "      <th>Dabomb87</th>\n",
       "      <th>2010</th>\n",
       "      <th>1</th>\n",
       "      <td>8</td>\n",
       "    </tr>\n",
       "    <tr>\n",
       "      <th>Thumperward</th>\n",
       "      <th>2009</th>\n",
       "      <th>-1</th>\n",
       "      <td>8</td>\n",
       "    </tr>\n",
       "    <tr>\n",
       "      <th>SarekOfVulcan</th>\n",
       "      <th>2011</th>\n",
       "      <th>1</th>\n",
       "      <td>8</td>\n",
       "    </tr>\n",
       "    <tr>\n",
       "      <th>Piotrus</th>\n",
       "      <th>2013</th>\n",
       "      <th>-1</th>\n",
       "      <td>10</td>\n",
       "    </tr>\n",
       "    <tr>\n",
       "      <th>SarahStierch</th>\n",
       "      <th>2012</th>\n",
       "      <th>1</th>\n",
       "      <td>12</td>\n",
       "    </tr>\n",
       "  </tbody>\n",
       "</table>\n",
       "<p>977 rows × 1 columns</p>\n",
       "</div>"
      ],
      "text/plain": [
       "                                     source\n",
       "target         year_election result        \n",
       "28bytes        2010          -1           1\n",
       "Mollymoon      2009          -1           1\n",
       "Moonriddengirl 2007          1            1\n",
       "Morhange       2008          -1           1\n",
       "Mr.Z-man       2007          1            1\n",
       "...                                     ...\n",
       "Dabomb87       2010          1            8\n",
       "Thumperward    2009          -1           8\n",
       "SarekOfVulcan  2011          1            8\n",
       "Piotrus        2013          -1          10\n",
       "SarahStierch   2012          1           12\n",
       "\n",
       "[977 rows x 1 columns]"
      ]
     },
     "execution_count": 179,
     "metadata": {},
     "output_type": "execute_result"
    }
   ],
   "source": [
    "suspects_by_election = df_with_suspects.groupby(['target', 'year_election', 'result'])[['source']].count().sort_values('source')\n",
    "suspects_by_election"
   ]
  },
  {
   "cell_type": "code",
   "execution_count": 180,
   "id": "1b879c0e",
   "metadata": {},
   "outputs": [
    {
     "data": {
      "text/html": [
       "<div>\n",
       "<style scoped>\n",
       "    .dataframe tbody tr th:only-of-type {\n",
       "        vertical-align: middle;\n",
       "    }\n",
       "\n",
       "    .dataframe tbody tr th {\n",
       "        vertical-align: top;\n",
       "    }\n",
       "\n",
       "    .dataframe thead th {\n",
       "        text-align: right;\n",
       "    }\n",
       "</style>\n",
       "<table border=\"1\" class=\"dataframe\">\n",
       "  <thead>\n",
       "    <tr style=\"text-align: right;\">\n",
       "      <th></th>\n",
       "      <th></th>\n",
       "      <th></th>\n",
       "      <th>source</th>\n",
       "      <th>percentage</th>\n",
       "    </tr>\n",
       "    <tr>\n",
       "      <th>target</th>\n",
       "      <th>year_election</th>\n",
       "      <th>result</th>\n",
       "      <th></th>\n",
       "      <th></th>\n",
       "    </tr>\n",
       "  </thead>\n",
       "  <tbody>\n",
       "    <tr>\n",
       "      <th>28bytes</th>\n",
       "      <th>2010</th>\n",
       "      <th>-1</th>\n",
       "      <td>1</td>\n",
       "      <td>0.005319</td>\n",
       "    </tr>\n",
       "    <tr>\n",
       "      <th>Mollymoon</th>\n",
       "      <th>2009</th>\n",
       "      <th>-1</th>\n",
       "      <td>1</td>\n",
       "      <td>0.083333</td>\n",
       "    </tr>\n",
       "    <tr>\n",
       "      <th>Moonriddengirl</th>\n",
       "      <th>2007</th>\n",
       "      <th>1</th>\n",
       "      <td>1</td>\n",
       "      <td>0.012195</td>\n",
       "    </tr>\n",
       "    <tr>\n",
       "      <th>Morhange</th>\n",
       "      <th>2008</th>\n",
       "      <th>-1</th>\n",
       "      <td>1</td>\n",
       "      <td>0.012987</td>\n",
       "    </tr>\n",
       "    <tr>\n",
       "      <th>Mr.Z-man</th>\n",
       "      <th>2007</th>\n",
       "      <th>1</th>\n",
       "      <td>1</td>\n",
       "      <td>0.022222</td>\n",
       "    </tr>\n",
       "    <tr>\n",
       "      <th>...</th>\n",
       "      <th>...</th>\n",
       "      <th>...</th>\n",
       "      <td>...</td>\n",
       "      <td>...</td>\n",
       "    </tr>\n",
       "    <tr>\n",
       "      <th>Dabomb87</th>\n",
       "      <th>2010</th>\n",
       "      <th>1</th>\n",
       "      <td>8</td>\n",
       "      <td>0.042328</td>\n",
       "    </tr>\n",
       "    <tr>\n",
       "      <th>Thumperward</th>\n",
       "      <th>2009</th>\n",
       "      <th>-1</th>\n",
       "      <td>8</td>\n",
       "      <td>0.025890</td>\n",
       "    </tr>\n",
       "    <tr>\n",
       "      <th>SarekOfVulcan</th>\n",
       "      <th>2011</th>\n",
       "      <th>1</th>\n",
       "      <td>8</td>\n",
       "      <td>0.024465</td>\n",
       "    </tr>\n",
       "    <tr>\n",
       "      <th>Piotrus</th>\n",
       "      <th>2013</th>\n",
       "      <th>-1</th>\n",
       "      <td>10</td>\n",
       "      <td>0.062112</td>\n",
       "    </tr>\n",
       "    <tr>\n",
       "      <th>SarahStierch</th>\n",
       "      <th>2012</th>\n",
       "      <th>1</th>\n",
       "      <td>12</td>\n",
       "      <td>0.054795</td>\n",
       "    </tr>\n",
       "  </tbody>\n",
       "</table>\n",
       "<p>977 rows × 2 columns</p>\n",
       "</div>"
      ],
      "text/plain": [
       "                                     source  percentage\n",
       "target         year_election result                    \n",
       "28bytes        2010          -1           1    0.005319\n",
       "Mollymoon      2009          -1           1    0.083333\n",
       "Moonriddengirl 2007          1            1    0.012195\n",
       "Morhange       2008          -1           1    0.012987\n",
       "Mr.Z-man       2007          1            1    0.022222\n",
       "...                                     ...         ...\n",
       "Dabomb87       2010          1            8    0.042328\n",
       "Thumperward    2009          -1           8    0.025890\n",
       "SarekOfVulcan  2011          1            8    0.024465\n",
       "Piotrus        2013          -1          10    0.062112\n",
       "SarahStierch   2012          1           12    0.054795\n",
       "\n",
       "[977 rows x 2 columns]"
      ]
     },
     "execution_count": 180,
     "metadata": {},
     "output_type": "execute_result"
    }
   ],
   "source": [
    "suspects_by_election['percentage'] = suspects_by_election.apply(lambda r: r['source'] / len(df_clean[df_clean['target'] == r.name[0]]), axis=1)\n",
    "suspects_by_election"
   ]
  },
  {
   "cell_type": "code",
   "execution_count": 181,
   "id": "c0b1c959",
   "metadata": {},
   "outputs": [
    {
     "data": {
      "text/html": [
       "<div>\n",
       "<style scoped>\n",
       "    .dataframe tbody tr th:only-of-type {\n",
       "        vertical-align: middle;\n",
       "    }\n",
       "\n",
       "    .dataframe tbody tr th {\n",
       "        vertical-align: top;\n",
       "    }\n",
       "\n",
       "    .dataframe thead th {\n",
       "        text-align: right;\n",
       "    }\n",
       "</style>\n",
       "<table border=\"1\" class=\"dataframe\">\n",
       "  <thead>\n",
       "    <tr style=\"text-align: right;\">\n",
       "      <th></th>\n",
       "      <th></th>\n",
       "      <th></th>\n",
       "      <th>source</th>\n",
       "      <th>percentage</th>\n",
       "    </tr>\n",
       "    <tr>\n",
       "      <th>target</th>\n",
       "      <th>year_election</th>\n",
       "      <th>result</th>\n",
       "      <th></th>\n",
       "      <th></th>\n",
       "    </tr>\n",
       "  </thead>\n",
       "  <tbody>\n",
       "    <tr>\n",
       "      <th>Qwyrxian</th>\n",
       "      <th>2011</th>\n",
       "      <th>1</th>\n",
       "      <td>8</td>\n",
       "      <td>0.067227</td>\n",
       "    </tr>\n",
       "    <tr>\n",
       "      <th>Jmh649</th>\n",
       "      <th>2010</th>\n",
       "      <th>1</th>\n",
       "      <td>8</td>\n",
       "      <td>0.059701</td>\n",
       "    </tr>\n",
       "    <tr>\n",
       "      <th>Masamage</th>\n",
       "      <th>2007</th>\n",
       "      <th>1</th>\n",
       "      <td>2</td>\n",
       "      <td>0.058824</td>\n",
       "    </tr>\n",
       "    <tr>\n",
       "      <th>DerHexer</th>\n",
       "      <th>2007</th>\n",
       "      <th>1</th>\n",
       "      <td>7</td>\n",
       "      <td>0.058824</td>\n",
       "    </tr>\n",
       "    <tr>\n",
       "      <th>Redrose64</th>\n",
       "      <th>2011</th>\n",
       "      <th>1</th>\n",
       "      <td>6</td>\n",
       "      <td>0.058252</td>\n",
       "    </tr>\n",
       "    <tr>\n",
       "      <th>SarahStierch</th>\n",
       "      <th>2012</th>\n",
       "      <th>1</th>\n",
       "      <td>12</td>\n",
       "      <td>0.054795</td>\n",
       "    </tr>\n",
       "    <tr>\n",
       "      <th>Catfish Jim and the soapdish</th>\n",
       "      <th>2011</th>\n",
       "      <th>1</th>\n",
       "      <td>6</td>\n",
       "      <td>0.053571</td>\n",
       "    </tr>\n",
       "    <tr>\n",
       "      <th>TFOWR</th>\n",
       "      <th>2010</th>\n",
       "      <th>1</th>\n",
       "      <td>6</td>\n",
       "      <td>0.052632</td>\n",
       "    </tr>\n",
       "    <tr>\n",
       "      <th>Bilby</th>\n",
       "      <th>2013</th>\n",
       "      <th>1</th>\n",
       "      <td>7</td>\n",
       "      <td>0.051095</td>\n",
       "    </tr>\n",
       "    <tr>\n",
       "      <th>Martyman</th>\n",
       "      <th>2006</th>\n",
       "      <th>1</th>\n",
       "      <td>4</td>\n",
       "      <td>0.050000</td>\n",
       "    </tr>\n",
       "    <tr>\n",
       "      <th>Meno25</th>\n",
       "      <th>2007</th>\n",
       "      <th>1</th>\n",
       "      <td>2</td>\n",
       "      <td>0.050000</td>\n",
       "    </tr>\n",
       "    <tr>\n",
       "      <th>Somno</th>\n",
       "      <th>2009</th>\n",
       "      <th>1</th>\n",
       "      <td>5</td>\n",
       "      <td>0.050000</td>\n",
       "    </tr>\n",
       "    <tr>\n",
       "      <th>Patar knight</th>\n",
       "      <th>2009</th>\n",
       "      <th>1</th>\n",
       "      <td>3</td>\n",
       "      <td>0.050000</td>\n",
       "    </tr>\n",
       "    <tr>\n",
       "      <th>52 Pickup</th>\n",
       "      <th>2008</th>\n",
       "      <th>1</th>\n",
       "      <td>2</td>\n",
       "      <td>0.050000</td>\n",
       "    </tr>\n",
       "    <tr>\n",
       "      <th>Admiral Norton</th>\n",
       "      <th>2009</th>\n",
       "      <th>1</th>\n",
       "      <td>4</td>\n",
       "      <td>0.048193</td>\n",
       "    </tr>\n",
       "    <tr>\n",
       "      <th>Rannpháirtí anaithnid</th>\n",
       "      <th>2011</th>\n",
       "      <th>1</th>\n",
       "      <td>4</td>\n",
       "      <td>0.047059</td>\n",
       "    </tr>\n",
       "    <tr>\n",
       "      <th>Dabomb87</th>\n",
       "      <th>2010</th>\n",
       "      <th>1</th>\n",
       "      <td>8</td>\n",
       "      <td>0.042328</td>\n",
       "    </tr>\n",
       "    <tr>\n",
       "      <th>Nehrams2020</th>\n",
       "      <th>2007</th>\n",
       "      <th>1</th>\n",
       "      <td>2</td>\n",
       "      <td>0.041667</td>\n",
       "    </tr>\n",
       "    <tr>\n",
       "      <th>Ymblanter</th>\n",
       "      <th>2013</th>\n",
       "      <th>1</th>\n",
       "      <td>5</td>\n",
       "      <td>0.040000</td>\n",
       "    </tr>\n",
       "    <tr>\n",
       "      <th>Mattythewhite</th>\n",
       "      <th>2013</th>\n",
       "      <th>1</th>\n",
       "      <td>5</td>\n",
       "      <td>0.040000</td>\n",
       "    </tr>\n",
       "    <tr>\n",
       "      <th>Fluffernutter</th>\n",
       "      <th>2011</th>\n",
       "      <th>1</th>\n",
       "      <td>6</td>\n",
       "      <td>0.039474</td>\n",
       "    </tr>\n",
       "    <tr>\n",
       "      <th>KieferSkunk</th>\n",
       "      <th>2007</th>\n",
       "      <th>1</th>\n",
       "      <td>2</td>\n",
       "      <td>0.039216</td>\n",
       "    </tr>\n",
       "    <tr>\n",
       "      <th>Scottywong</th>\n",
       "      <th>2012</th>\n",
       "      <th>1</th>\n",
       "      <td>4</td>\n",
       "      <td>0.038835</td>\n",
       "    </tr>\n",
       "    <tr>\n",
       "      <th>Davemeistermoab</th>\n",
       "      <th>2009</th>\n",
       "      <th>1</th>\n",
       "      <td>4</td>\n",
       "      <td>0.037736</td>\n",
       "    </tr>\n",
       "    <tr>\n",
       "      <th>Buckshot06</th>\n",
       "      <th>2008</th>\n",
       "      <th>1</th>\n",
       "      <td>3</td>\n",
       "      <td>0.037500</td>\n",
       "    </tr>\n",
       "    <tr>\n",
       "      <th>Elockid</th>\n",
       "      <th>2010</th>\n",
       "      <th>1</th>\n",
       "      <td>4</td>\n",
       "      <td>0.037383</td>\n",
       "    </tr>\n",
       "    <tr>\n",
       "      <th>Nthep</th>\n",
       "      <th>2013</th>\n",
       "      <th>1</th>\n",
       "      <td>3</td>\n",
       "      <td>0.037037</td>\n",
       "    </tr>\n",
       "    <tr>\n",
       "      <th>Alex valavanis</th>\n",
       "      <th>2007</th>\n",
       "      <th>1</th>\n",
       "      <td>2</td>\n",
       "      <td>0.036364</td>\n",
       "    </tr>\n",
       "    <tr>\n",
       "      <th>Fayenatic london</th>\n",
       "      <th>2012</th>\n",
       "      <th>1</th>\n",
       "      <td>2</td>\n",
       "      <td>0.035714</td>\n",
       "    </tr>\n",
       "    <tr>\n",
       "      <th>Sgeureka</th>\n",
       "      <th>2008</th>\n",
       "      <th>1</th>\n",
       "      <td>4</td>\n",
       "      <td>0.035714</td>\n",
       "    </tr>\n",
       "    <tr>\n",
       "      <th>Dinoguy1000</th>\n",
       "      <th>2009</th>\n",
       "      <th>1</th>\n",
       "      <td>3</td>\n",
       "      <td>0.035294</td>\n",
       "    </tr>\n",
       "    <tr>\n",
       "      <th>Ddstretch</th>\n",
       "      <th>2008</th>\n",
       "      <th>1</th>\n",
       "      <td>3</td>\n",
       "      <td>0.034884</td>\n",
       "    </tr>\n",
       "    <tr>\n",
       "      <th>MikeLynch</th>\n",
       "      <th>2012</th>\n",
       "      <th>1</th>\n",
       "      <td>4</td>\n",
       "      <td>0.034783</td>\n",
       "    </tr>\n",
       "    <tr>\n",
       "      <th>Faithlessthewonderboy</th>\n",
       "      <th>2007</th>\n",
       "      <th>1</th>\n",
       "      <td>2</td>\n",
       "      <td>0.034483</td>\n",
       "    </tr>\n",
       "    <tr>\n",
       "      <th>Banno</th>\n",
       "      <th>2006</th>\n",
       "      <th>1</th>\n",
       "      <td>1</td>\n",
       "      <td>0.034483</td>\n",
       "    </tr>\n",
       "  </tbody>\n",
       "</table>\n",
       "</div>"
      ],
      "text/plain": [
       "                                                   source  percentage\n",
       "target                       year_election result                    \n",
       "Qwyrxian                     2011          1            8    0.067227\n",
       "Jmh649                       2010          1            8    0.059701\n",
       "Masamage                     2007          1            2    0.058824\n",
       "DerHexer                     2007          1            7    0.058824\n",
       "Redrose64                    2011          1            6    0.058252\n",
       "SarahStierch                 2012          1           12    0.054795\n",
       "Catfish Jim and the soapdish 2011          1            6    0.053571\n",
       "TFOWR                        2010          1            6    0.052632\n",
       "Bilby                        2013          1            7    0.051095\n",
       "Martyman                     2006          1            4    0.050000\n",
       "Meno25                       2007          1            2    0.050000\n",
       "Somno                        2009          1            5    0.050000\n",
       "Patar knight                 2009          1            3    0.050000\n",
       "52 Pickup                    2008          1            2    0.050000\n",
       "Admiral Norton               2009          1            4    0.048193\n",
       "Rannpháirtí anaithnid        2011          1            4    0.047059\n",
       "Dabomb87                     2010          1            8    0.042328\n",
       "Nehrams2020                  2007          1            2    0.041667\n",
       "Ymblanter                    2013          1            5    0.040000\n",
       "Mattythewhite                2013          1            5    0.040000\n",
       "Fluffernutter                2011          1            6    0.039474\n",
       "KieferSkunk                  2007          1            2    0.039216\n",
       "Scottywong                   2012          1            4    0.038835\n",
       "Davemeistermoab              2009          1            4    0.037736\n",
       "Buckshot06                   2008          1            3    0.037500\n",
       "Elockid                      2010          1            4    0.037383\n",
       "Nthep                        2013          1            3    0.037037\n",
       "Alex valavanis               2007          1            2    0.036364\n",
       "Fayenatic london             2012          1            2    0.035714\n",
       "Sgeureka                     2008          1            4    0.035714\n",
       "Dinoguy1000                  2009          1            3    0.035294\n",
       "Ddstretch                    2008          1            3    0.034884\n",
       "MikeLynch                    2012          1            4    0.034783\n",
       "Faithlessthewonderboy        2007          1            2    0.034483\n",
       "Banno                        2006          1            1    0.034483"
      ]
     },
     "execution_count": 181,
     "metadata": {},
     "output_type": "execute_result"
    }
   ],
   "source": [
    "suspects_by_election[(suspects_by_election.index.get_level_values(1).astype(int) > 2005) & (suspects_by_election.index.get_level_values(2) == '1')].sort_values('percentage', ascending=False)[:35]"
   ]
  },
  {
   "cell_type": "code",
   "execution_count": 182,
   "id": "1b237aff",
   "metadata": {},
   "outputs": [
    {
     "data": {
      "text/html": [
       "<div>\n",
       "<style scoped>\n",
       "    .dataframe tbody tr th:only-of-type {\n",
       "        vertical-align: middle;\n",
       "    }\n",
       "\n",
       "    .dataframe tbody tr th {\n",
       "        vertical-align: top;\n",
       "    }\n",
       "\n",
       "    .dataframe thead th {\n",
       "        text-align: right;\n",
       "    }\n",
       "</style>\n",
       "<table border=\"1\" class=\"dataframe\">\n",
       "  <thead>\n",
       "    <tr style=\"text-align: right;\">\n",
       "      <th></th>\n",
       "      <th>source</th>\n",
       "      <th>target</th>\n",
       "      <th>vote</th>\n",
       "      <th>result</th>\n",
       "      <th>year_election</th>\n",
       "      <th>date_vote</th>\n",
       "      <th>comment</th>\n",
       "    </tr>\n",
       "  </thead>\n",
       "  <tbody>\n",
       "    <tr>\n",
       "      <th>13756</th>\n",
       "      <td>Abstruce</td>\n",
       "      <td>Qwyrxian</td>\n",
       "      <td>1</td>\n",
       "      <td>1</td>\n",
       "      <td>2011</td>\n",
       "      <td>17:52, 19 July 2011</td>\n",
       "      <td>'''Support''': The effort this Gentleman puts ...</td>\n",
       "    </tr>\n",
       "    <tr>\n",
       "      <th>13774</th>\n",
       "      <td>CHAK 001</td>\n",
       "      <td>Qwyrxian</td>\n",
       "      <td>1</td>\n",
       "      <td>1</td>\n",
       "      <td>2011</td>\n",
       "      <td>08:02, 21 July 2011</td>\n",
       "      <td>'''Support'''. Despite a minor quarrel which c...</td>\n",
       "    </tr>\n",
       "    <tr>\n",
       "      <th>13790</th>\n",
       "      <td>Oda Mari</td>\n",
       "      <td>Qwyrxian</td>\n",
       "      <td>1</td>\n",
       "      <td>1</td>\n",
       "      <td>2011</td>\n",
       "      <td>09:52, 23 July 2011</td>\n",
       "      <td>'''Support''' per nom.</td>\n",
       "    </tr>\n",
       "    <tr>\n",
       "      <th>13809</th>\n",
       "      <td>Mann jess</td>\n",
       "      <td>Qwyrxian</td>\n",
       "      <td>1</td>\n",
       "      <td>1</td>\n",
       "      <td>2011</td>\n",
       "      <td>21:17, 24 July 2011</td>\n",
       "      <td>'''Support''' per reasons above. My interactio...</td>\n",
       "    </tr>\n",
       "    <tr>\n",
       "      <th>13820</th>\n",
       "      <td>Phoenix7777</td>\n",
       "      <td>Qwyrxian</td>\n",
       "      <td>1</td>\n",
       "      <td>1</td>\n",
       "      <td>2011</td>\n",
       "      <td>08:35, 25 July 2011</td>\n",
       "      <td>'''Support''' I am heavily involved with Qwyrx...</td>\n",
       "    </tr>\n",
       "    <tr>\n",
       "      <th>13841</th>\n",
       "      <td>Lvhis</td>\n",
       "      <td>Qwyrxian</td>\n",
       "      <td>-1</td>\n",
       "      <td>1</td>\n",
       "      <td>2011</td>\n",
       "      <td>19:58, 22 July 2011</td>\n",
       "      <td>'''Oppose'''. Qwyrxian has done a lot of contr...</td>\n",
       "    </tr>\n",
       "    <tr>\n",
       "      <th>13842</th>\n",
       "      <td>Diligent007</td>\n",
       "      <td>Qwyrxian</td>\n",
       "      <td>-1</td>\n",
       "      <td>1</td>\n",
       "      <td>2011</td>\n",
       "      <td>03:00, 23 July 2011</td>\n",
       "      <td>'''Oppose''' on the bases expressed by all oth...</td>\n",
       "    </tr>\n",
       "    <tr>\n",
       "      <th>13845</th>\n",
       "      <td>Wee Curry Monster</td>\n",
       "      <td>Qwyrxian</td>\n",
       "      <td>-1</td>\n",
       "      <td>1</td>\n",
       "      <td>2011</td>\n",
       "      <td>22:29, 24 July 2011</td>\n",
       "      <td>&lt;b&gt;Oppose&lt;/b&gt; I have very limited interaction ...</td>\n",
       "    </tr>\n",
       "  </tbody>\n",
       "</table>\n",
       "</div>"
      ],
      "text/plain": [
       "                  source    target vote result year_election  \\\n",
       "13756           Abstruce  Qwyrxian    1      1          2011   \n",
       "13774           CHAK 001  Qwyrxian    1      1          2011   \n",
       "13790           Oda Mari  Qwyrxian    1      1          2011   \n",
       "13809          Mann jess  Qwyrxian    1      1          2011   \n",
       "13820        Phoenix7777  Qwyrxian    1      1          2011   \n",
       "13841              Lvhis  Qwyrxian   -1      1          2011   \n",
       "13842        Diligent007  Qwyrxian   -1      1          2011   \n",
       "13845  Wee Curry Monster  Qwyrxian   -1      1          2011   \n",
       "\n",
       "                 date_vote                                            comment  \n",
       "13756  17:52, 19 July 2011  '''Support''': The effort this Gentleman puts ...  \n",
       "13774  08:02, 21 July 2011  '''Support'''. Despite a minor quarrel which c...  \n",
       "13790  09:52, 23 July 2011                             '''Support''' per nom.  \n",
       "13809  21:17, 24 July 2011  '''Support''' per reasons above. My interactio...  \n",
       "13820  08:35, 25 July 2011  '''Support''' I am heavily involved with Qwyrx...  \n",
       "13841  19:58, 22 July 2011  '''Oppose'''. Qwyrxian has done a lot of contr...  \n",
       "13842  03:00, 23 July 2011  '''Oppose''' on the bases expressed by all oth...  \n",
       "13845  22:29, 24 July 2011  <b>Oppose</b> I have very limited interaction ...  "
      ]
     },
     "execution_count": 182,
     "metadata": {},
     "output_type": "execute_result"
    }
   ],
   "source": [
    "df_with_suspects[(df_with_suspects['target'] == 'Qwyrxian') & (df_with_suspects['source'].isin(suspects))]"
   ]
  }
 ],
 "metadata": {
  "jupytext": {
   "formats": "ipynb,py:percent"
  },
  "kernelspec": {
   "display_name": "Python 3 (ipykernel)",
   "language": "python",
   "name": "python3"
  },
  "language_info": {
   "codemirror_mode": {
    "name": "ipython",
    "version": 3
   },
   "file_extension": ".py",
   "mimetype": "text/x-python",
   "name": "python",
   "nbconvert_exporter": "python",
   "pygments_lexer": "ipython3",
   "version": "3.10.0"
  }
 },
 "nbformat": 4,
 "nbformat_minor": 5
}
