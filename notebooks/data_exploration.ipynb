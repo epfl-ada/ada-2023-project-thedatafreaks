{
 "cells": [
  {
   "cell_type": "code",
   "execution_count": 133,
   "metadata": {},
   "outputs": [],
   "source": [
    "import gzip\n",
    "import pandas as pd\n",
    "import seaborn as sns\n",
    "import matplotlib.pyplot as plt"
   ]
  },
  {
   "cell_type": "markdown",
   "metadata": {},
   "source": [
    "## 1. Data loading"
   ]
  },
  {
   "cell_type": "code",
   "execution_count": 5,
   "metadata": {},
   "outputs": [],
   "source": [
    "with gzip.open('../data/wiki-RfA.txt.gz', 'rt', encoding='utf-8') as f:\n",
    "    blocks = f.read().strip().split('\\n\\n')  # Assuming each record is separated by a blank line\n",
    "\n",
    "data = []\n",
    "\n",
    "# Parse each block of text into a dictionary\n",
    "for block in blocks:\n",
    "    record = {}\n",
    "    for line in block.split('\\n'):\n",
    "        if line:\n",
    "            key, value = line.split(':', 1)  # Split on the first colon only\n",
    "            record[key.strip()] = value.strip()\n",
    "    data.append(record)\n",
    "\n",
    "# Create a DataFrame from the list of dictionaries\n",
    "df = pd.DataFrame(data)\n",
    "\n",
    "#Rename the columns\n",
    "df.columns = ['source', 'target', 'vote', 'result', 'year_election', 'date_vote', 'comment']"
   ]
  },
  {
   "cell_type": "code",
   "execution_count": 42,
   "metadata": {},
   "outputs": [
    {
     "data": {
      "text/html": [
       "<div>\n",
       "<style scoped>\n",
       "    .dataframe tbody tr th:only-of-type {\n",
       "        vertical-align: middle;\n",
       "    }\n",
       "\n",
       "    .dataframe tbody tr th {\n",
       "        vertical-align: top;\n",
       "    }\n",
       "\n",
       "    .dataframe thead th {\n",
       "        text-align: right;\n",
       "    }\n",
       "</style>\n",
       "<table border=\"1\" class=\"dataframe\">\n",
       "  <thead>\n",
       "    <tr style=\"text-align: right;\">\n",
       "      <th></th>\n",
       "      <th>source</th>\n",
       "      <th>target</th>\n",
       "      <th>vote</th>\n",
       "      <th>result</th>\n",
       "      <th>year_election</th>\n",
       "      <th>date_vote</th>\n",
       "      <th>comment</th>\n",
       "    </tr>\n",
       "  </thead>\n",
       "  <tbody>\n",
       "    <tr>\n",
       "      <th>0</th>\n",
       "      <td>Steel1943</td>\n",
       "      <td>BDD</td>\n",
       "      <td>1</td>\n",
       "      <td>1</td>\n",
       "      <td>2013</td>\n",
       "      <td>23:13, 19 April 2013</td>\n",
       "      <td>'''Support''' as co-nom.</td>\n",
       "    </tr>\n",
       "    <tr>\n",
       "      <th>1</th>\n",
       "      <td>Cuchullain</td>\n",
       "      <td>BDD</td>\n",
       "      <td>1</td>\n",
       "      <td>1</td>\n",
       "      <td>2013</td>\n",
       "      <td>01:04, 20 April 2013</td>\n",
       "      <td>'''Support''' as nominator.--</td>\n",
       "    </tr>\n",
       "    <tr>\n",
       "      <th>2</th>\n",
       "      <td>INeverCry</td>\n",
       "      <td>BDD</td>\n",
       "      <td>1</td>\n",
       "      <td>1</td>\n",
       "      <td>2013</td>\n",
       "      <td>23:43, 19 April 2013</td>\n",
       "      <td>'''Support''' per noms.</td>\n",
       "    </tr>\n",
       "    <tr>\n",
       "      <th>3</th>\n",
       "      <td>Cncmaster</td>\n",
       "      <td>BDD</td>\n",
       "      <td>1</td>\n",
       "      <td>1</td>\n",
       "      <td>2013</td>\n",
       "      <td>00:11, 20 April 2013</td>\n",
       "      <td>'''Support''' per noms. BDD is a strong contri...</td>\n",
       "    </tr>\n",
       "    <tr>\n",
       "      <th>4</th>\n",
       "      <td>Miniapolis</td>\n",
       "      <td>BDD</td>\n",
       "      <td>1</td>\n",
       "      <td>1</td>\n",
       "      <td>2013</td>\n",
       "      <td>00:56, 20 April 2013</td>\n",
       "      <td>'''Support''', with great pleasure. I work wit...</td>\n",
       "    </tr>\n",
       "    <tr>\n",
       "      <th>...</th>\n",
       "      <td>...</td>\n",
       "      <td>...</td>\n",
       "      <td>...</td>\n",
       "      <td>...</td>\n",
       "      <td>...</td>\n",
       "      <td>...</td>\n",
       "      <td>...</td>\n",
       "    </tr>\n",
       "    <tr>\n",
       "      <th>198270</th>\n",
       "      <td>172</td>\n",
       "      <td>Vancouverguy</td>\n",
       "      <td>1</td>\n",
       "      <td>1</td>\n",
       "      <td>2003</td>\n",
       "      <td>02:51, 2 Sep 2003</td>\n",
       "      <td>Support</td>\n",
       "    </tr>\n",
       "    <tr>\n",
       "      <th>198271</th>\n",
       "      <td>Angela</td>\n",
       "      <td>WhisperToMe</td>\n",
       "      <td>1</td>\n",
       "      <td>1</td>\n",
       "      <td>2003</td>\n",
       "      <td>23:45, 26 Nov 2003</td>\n",
       "      <td>Support.</td>\n",
       "    </tr>\n",
       "    <tr>\n",
       "      <th>198272</th>\n",
       "      <td>Jiang</td>\n",
       "      <td>WhisperToMe</td>\n",
       "      <td>1</td>\n",
       "      <td>1</td>\n",
       "      <td>2003</td>\n",
       "      <td></td>\n",
       "      <td>Support. --</td>\n",
       "    </tr>\n",
       "    <tr>\n",
       "      <th>198273</th>\n",
       "      <td>Pakaran</td>\n",
       "      <td>WhisperToMe</td>\n",
       "      <td>1</td>\n",
       "      <td>1</td>\n",
       "      <td>2003</td>\n",
       "      <td>05:38, 5 Dec 2003</td>\n",
       "      <td>Support.  Age has nothing to do with maturity....</td>\n",
       "    </tr>\n",
       "    <tr>\n",
       "      <th>198274</th>\n",
       "      <td>Jimregan</td>\n",
       "      <td>Zanimum</td>\n",
       "      <td>1</td>\n",
       "      <td>1</td>\n",
       "      <td>2003</td>\n",
       "      <td></td>\n",
       "      <td>Support - anyone who can write so much, and so...</td>\n",
       "    </tr>\n",
       "  </tbody>\n",
       "</table>\n",
       "<p>198275 rows × 7 columns</p>\n",
       "</div>"
      ],
      "text/plain": [
       "            source        target vote result year_election  \\\n",
       "0        Steel1943           BDD    1      1          2013   \n",
       "1       Cuchullain           BDD    1      1          2013   \n",
       "2        INeverCry           BDD    1      1          2013   \n",
       "3        Cncmaster           BDD    1      1          2013   \n",
       "4       Miniapolis           BDD    1      1          2013   \n",
       "...            ...           ...  ...    ...           ...   \n",
       "198270         172  Vancouverguy    1      1          2003   \n",
       "198271      Angela   WhisperToMe    1      1          2003   \n",
       "198272       Jiang   WhisperToMe    1      1          2003   \n",
       "198273     Pakaran   WhisperToMe    1      1          2003   \n",
       "198274    Jimregan       Zanimum    1      1          2003   \n",
       "\n",
       "                   date_vote  \\\n",
       "0       23:13, 19 April 2013   \n",
       "1       01:04, 20 April 2013   \n",
       "2       23:43, 19 April 2013   \n",
       "3       00:11, 20 April 2013   \n",
       "4       00:56, 20 April 2013   \n",
       "...                      ...   \n",
       "198270     02:51, 2 Sep 2003   \n",
       "198271    23:45, 26 Nov 2003   \n",
       "198272                         \n",
       "198273     05:38, 5 Dec 2003   \n",
       "198274                         \n",
       "\n",
       "                                                  comment  \n",
       "0                                '''Support''' as co-nom.  \n",
       "1                           '''Support''' as nominator.--  \n",
       "2                                 '''Support''' per noms.  \n",
       "3       '''Support''' per noms. BDD is a strong contri...  \n",
       "4       '''Support''', with great pleasure. I work wit...  \n",
       "...                                                   ...  \n",
       "198270                                            Support  \n",
       "198271                                           Support.  \n",
       "198272                                        Support. --  \n",
       "198273  Support.  Age has nothing to do with maturity....  \n",
       "198274  Support - anyone who can write so much, and so...  \n",
       "\n",
       "[198275 rows x 7 columns]"
      ]
     },
     "execution_count": 42,
     "metadata": {},
     "output_type": "execute_result"
    }
   ],
   "source": [
    "df"
   ]
  },
  {
   "cell_type": "markdown",
   "metadata": {},
   "source": [
    "## 2. Preliminary checks"
   ]
  },
  {
   "cell_type": "markdown",
   "metadata": {},
   "source": [
    "### 2.1 Check the date and time of votes : "
   ]
  },
  {
   "cell_type": "code",
   "execution_count": 69,
   "metadata": {},
   "outputs": [
    {
     "data": {
      "text/html": [
       "<div>\n",
       "<style scoped>\n",
       "    .dataframe tbody tr th:only-of-type {\n",
       "        vertical-align: middle;\n",
       "    }\n",
       "\n",
       "    .dataframe tbody tr th {\n",
       "        vertical-align: top;\n",
       "    }\n",
       "\n",
       "    .dataframe thead th {\n",
       "        text-align: right;\n",
       "    }\n",
       "</style>\n",
       "<table border=\"1\" class=\"dataframe\">\n",
       "  <thead>\n",
       "    <tr style=\"text-align: right;\">\n",
       "      <th></th>\n",
       "      <th>source</th>\n",
       "      <th>target</th>\n",
       "      <th>vote</th>\n",
       "      <th>result</th>\n",
       "      <th>year_election</th>\n",
       "      <th>date_vote</th>\n",
       "      <th>comment</th>\n",
       "      <th>hour</th>\n",
       "      <th>minute</th>\n",
       "      <th>day</th>\n",
       "      <th>month</th>\n",
       "      <th>year_vote</th>\n",
       "    </tr>\n",
       "  </thead>\n",
       "  <tbody>\n",
       "    <tr>\n",
       "      <th>0</th>\n",
       "      <td>Steel1943</td>\n",
       "      <td>BDD</td>\n",
       "      <td>1</td>\n",
       "      <td>1</td>\n",
       "      <td>2013</td>\n",
       "      <td>23:13, 19 April 2013</td>\n",
       "      <td>'''Support''' as co-nom.</td>\n",
       "      <td>23</td>\n",
       "      <td>13</td>\n",
       "      <td>19</td>\n",
       "      <td>April</td>\n",
       "      <td>2013</td>\n",
       "    </tr>\n",
       "    <tr>\n",
       "      <th>1</th>\n",
       "      <td>Cuchullain</td>\n",
       "      <td>BDD</td>\n",
       "      <td>1</td>\n",
       "      <td>1</td>\n",
       "      <td>2013</td>\n",
       "      <td>01:04, 20 April 2013</td>\n",
       "      <td>'''Support''' as nominator.--</td>\n",
       "      <td>01</td>\n",
       "      <td>04</td>\n",
       "      <td>20</td>\n",
       "      <td>April</td>\n",
       "      <td>2013</td>\n",
       "    </tr>\n",
       "    <tr>\n",
       "      <th>2</th>\n",
       "      <td>INeverCry</td>\n",
       "      <td>BDD</td>\n",
       "      <td>1</td>\n",
       "      <td>1</td>\n",
       "      <td>2013</td>\n",
       "      <td>23:43, 19 April 2013</td>\n",
       "      <td>'''Support''' per noms.</td>\n",
       "      <td>23</td>\n",
       "      <td>43</td>\n",
       "      <td>19</td>\n",
       "      <td>April</td>\n",
       "      <td>2013</td>\n",
       "    </tr>\n",
       "    <tr>\n",
       "      <th>3</th>\n",
       "      <td>Cncmaster</td>\n",
       "      <td>BDD</td>\n",
       "      <td>1</td>\n",
       "      <td>1</td>\n",
       "      <td>2013</td>\n",
       "      <td>00:11, 20 April 2013</td>\n",
       "      <td>'''Support''' per noms. BDD is a strong contri...</td>\n",
       "      <td>00</td>\n",
       "      <td>11</td>\n",
       "      <td>20</td>\n",
       "      <td>April</td>\n",
       "      <td>2013</td>\n",
       "    </tr>\n",
       "    <tr>\n",
       "      <th>4</th>\n",
       "      <td>Miniapolis</td>\n",
       "      <td>BDD</td>\n",
       "      <td>1</td>\n",
       "      <td>1</td>\n",
       "      <td>2013</td>\n",
       "      <td>00:56, 20 April 2013</td>\n",
       "      <td>'''Support''', with great pleasure. I work wit...</td>\n",
       "      <td>00</td>\n",
       "      <td>56</td>\n",
       "      <td>20</td>\n",
       "      <td>April</td>\n",
       "      <td>2013</td>\n",
       "    </tr>\n",
       "    <tr>\n",
       "      <th>...</th>\n",
       "      <td>...</td>\n",
       "      <td>...</td>\n",
       "      <td>...</td>\n",
       "      <td>...</td>\n",
       "      <td>...</td>\n",
       "      <td>...</td>\n",
       "      <td>...</td>\n",
       "      <td>...</td>\n",
       "      <td>...</td>\n",
       "      <td>...</td>\n",
       "      <td>...</td>\n",
       "      <td>...</td>\n",
       "    </tr>\n",
       "    <tr>\n",
       "      <th>198270</th>\n",
       "      <td>172</td>\n",
       "      <td>Vancouverguy</td>\n",
       "      <td>1</td>\n",
       "      <td>1</td>\n",
       "      <td>2003</td>\n",
       "      <td>02:51, 2 Sep 2003</td>\n",
       "      <td>Support</td>\n",
       "      <td>02</td>\n",
       "      <td>51</td>\n",
       "      <td>2</td>\n",
       "      <td>Sep</td>\n",
       "      <td>2003</td>\n",
       "    </tr>\n",
       "    <tr>\n",
       "      <th>198271</th>\n",
       "      <td>Angela</td>\n",
       "      <td>WhisperToMe</td>\n",
       "      <td>1</td>\n",
       "      <td>1</td>\n",
       "      <td>2003</td>\n",
       "      <td>23:45, 26 Nov 2003</td>\n",
       "      <td>Support.</td>\n",
       "      <td>23</td>\n",
       "      <td>45</td>\n",
       "      <td>26</td>\n",
       "      <td>Nov</td>\n",
       "      <td>2003</td>\n",
       "    </tr>\n",
       "    <tr>\n",
       "      <th>198272</th>\n",
       "      <td>Jiang</td>\n",
       "      <td>WhisperToMe</td>\n",
       "      <td>1</td>\n",
       "      <td>1</td>\n",
       "      <td>2003</td>\n",
       "      <td></td>\n",
       "      <td>Support. --</td>\n",
       "      <td>None</td>\n",
       "      <td>None</td>\n",
       "      <td>None</td>\n",
       "      <td>None</td>\n",
       "      <td>None</td>\n",
       "    </tr>\n",
       "    <tr>\n",
       "      <th>198273</th>\n",
       "      <td>Pakaran</td>\n",
       "      <td>WhisperToMe</td>\n",
       "      <td>1</td>\n",
       "      <td>1</td>\n",
       "      <td>2003</td>\n",
       "      <td>05:38, 5 Dec 2003</td>\n",
       "      <td>Support.  Age has nothing to do with maturity....</td>\n",
       "      <td>05</td>\n",
       "      <td>38</td>\n",
       "      <td>5</td>\n",
       "      <td>Dec</td>\n",
       "      <td>2003</td>\n",
       "    </tr>\n",
       "    <tr>\n",
       "      <th>198274</th>\n",
       "      <td>Jimregan</td>\n",
       "      <td>Zanimum</td>\n",
       "      <td>1</td>\n",
       "      <td>1</td>\n",
       "      <td>2003</td>\n",
       "      <td></td>\n",
       "      <td>Support - anyone who can write so much, and so...</td>\n",
       "      <td>None</td>\n",
       "      <td>None</td>\n",
       "      <td>None</td>\n",
       "      <td>None</td>\n",
       "      <td>None</td>\n",
       "    </tr>\n",
       "  </tbody>\n",
       "</table>\n",
       "<p>198275 rows × 12 columns</p>\n",
       "</div>"
      ],
      "text/plain": [
       "            source        target vote result year_election  \\\n",
       "0        Steel1943           BDD    1      1          2013   \n",
       "1       Cuchullain           BDD    1      1          2013   \n",
       "2        INeverCry           BDD    1      1          2013   \n",
       "3        Cncmaster           BDD    1      1          2013   \n",
       "4       Miniapolis           BDD    1      1          2013   \n",
       "...            ...           ...  ...    ...           ...   \n",
       "198270         172  Vancouverguy    1      1          2003   \n",
       "198271      Angela   WhisperToMe    1      1          2003   \n",
       "198272       Jiang   WhisperToMe    1      1          2003   \n",
       "198273     Pakaran   WhisperToMe    1      1          2003   \n",
       "198274    Jimregan       Zanimum    1      1          2003   \n",
       "\n",
       "                   date_vote  \\\n",
       "0       23:13, 19 April 2013   \n",
       "1       01:04, 20 April 2013   \n",
       "2       23:43, 19 April 2013   \n",
       "3       00:11, 20 April 2013   \n",
       "4       00:56, 20 April 2013   \n",
       "...                      ...   \n",
       "198270     02:51, 2 Sep 2003   \n",
       "198271    23:45, 26 Nov 2003   \n",
       "198272                         \n",
       "198273     05:38, 5 Dec 2003   \n",
       "198274                         \n",
       "\n",
       "                                                  comment  hour minute   day  \\\n",
       "0                                '''Support''' as co-nom.    23     13    19   \n",
       "1                           '''Support''' as nominator.--    01     04    20   \n",
       "2                                 '''Support''' per noms.    23     43    19   \n",
       "3       '''Support''' per noms. BDD is a strong contri...    00     11    20   \n",
       "4       '''Support''', with great pleasure. I work wit...    00     56    20   \n",
       "...                                                   ...   ...    ...   ...   \n",
       "198270                                            Support    02     51     2   \n",
       "198271                                           Support.    23     45    26   \n",
       "198272                                        Support. --  None   None  None   \n",
       "198273  Support.  Age has nothing to do with maturity....    05     38     5   \n",
       "198274  Support - anyone who can write so much, and so...  None   None  None   \n",
       "\n",
       "        month year_vote  \n",
       "0       April      2013  \n",
       "1       April      2013  \n",
       "2       April      2013  \n",
       "3       April      2013  \n",
       "4       April      2013  \n",
       "...       ...       ...  \n",
       "198270    Sep      2003  \n",
       "198271    Nov      2003  \n",
       "198272   None      None  \n",
       "198273    Dec      2003  \n",
       "198274   None      None  \n",
       "\n",
       "[198275 rows x 12 columns]"
      ]
     },
     "execution_count": 69,
     "metadata": {},
     "output_type": "execute_result"
    }
   ],
   "source": [
    "# Define a function to extract date components\n",
    "def extract_date_components(date_str):\n",
    "    try:\n",
    "        # Split the date string by the comma and space to separate time and date parts\n",
    "        time_part, date_part = date_str.split(', ')\n",
    "        # Split the time part by the colon to separate hours and minutes\n",
    "        hour, minute = time_part.split(':')\n",
    "        # Split the date part by space to separate day, month, and year\n",
    "        day, month, year = date_part.split(' ')\n",
    "        \n",
    "        return pd.Series({\n",
    "            \"hour\": hour,\n",
    "            \"minute\": minute,\n",
    "            \"day\": day,\n",
    "            \"month\": month,\n",
    "            \"year_vote\": year\n",
    "        })\n",
    "    except ValueError:\n",
    "        # If there is a ValueError, return None for each component\n",
    "        return pd.Series({\n",
    "            \"hour\": None,\n",
    "            \"minute\": None,\n",
    "            \"day\": None,\n",
    "            \"month\": None,\n",
    "            \"year_vote\": None\n",
    "        })\n",
    "\n",
    "# Apply the function to each row in the 'date' column\n",
    "date_components = df['date_vote'].apply(extract_date_components)\n",
    "\n",
    "# Concatenate the new DataFrame with the original one (if needed)\n",
    "new_df = pd.concat([df, date_components], axis=1)\n",
    "\n",
    "new_df"
   ]
  },
  {
   "cell_type": "code",
   "execution_count": 70,
   "metadata": {},
   "outputs": [
    {
     "data": {
      "image/png": "[encoded data removed]",
      "text/plain": [
       "<Figure size 640x480 with 1 Axes>"
      ]
     },
     "metadata": {},
     "output_type": "display_data"
    }
   ],
   "source": [
    "#Look at the distibution for the values of the hour with histogram and order the values\n",
    "new_df['hour'].value_counts().sort_index().plot(kind='bar')\n",
    "plt.xlabel('Hour the vote was cast')\n",
    "plt.ylabel('Number of votes cast')\n",
    "plt.title('Distribution of votes by hour of day')\n",
    "plt.show()"
   ]
  },
  {
   "cell_type": "markdown",
   "metadata": {},
   "source": [
    "We can see here that we have a voting date where the vote took place at the hour 31. "
   ]
  },
  {
   "cell_type": "code",
   "execution_count": 71,
   "metadata": {},
   "outputs": [
    {
     "data": {
      "image/png": "[encoded data removed]",
      "text/plain": [
       "<Figure size 1500x1000 with 1 Axes>"
      ]
     },
     "metadata": {},
     "output_type": "display_data"
    }
   ],
   "source": [
    "#Set the date to empty for the row where the hour is 31\n",
    "new_df.loc[new_df['hour'] == '31', 'hour'] = ''\n",
    "new_df[new_df['hour'] == '31']\n",
    "\n",
    "#Plot the distribution of the values for the minutes wuth histogram and order the values and augment the largeur of the figure\n",
    "new_df['minute'].value_counts().sort_index().plot(kind='bar' , figsize=(15,10))\n",
    "plt.show()\n"
   ]
  },
  {
   "cell_type": "markdown",
   "metadata": {},
   "source": [
    "All the values for the minutes look to be fine."
   ]
  },
  {
   "cell_type": "code",
   "execution_count": 72,
   "metadata": {},
   "outputs": [
    {
     "data": {
      "image/png": "[encoded data removed]",
      "text/plain": [
       "<Figure size 640x480 with 1 Axes>"
      ]
     },
     "metadata": {},
     "output_type": "display_data"
    }
   ],
   "source": [
    "#Look at the distribution of the values for the days with histogram and order the values\n",
    "new_df['day'].value_counts().sort_index().plot(kind='bar')\n",
    "plt.show()"
   ]
  },
  {
   "cell_type": "markdown",
   "metadata": {},
   "source": [
    "All values for the day look also to be ok "
   ]
  },
  {
   "cell_type": "code",
   "execution_count": 73,
   "metadata": {},
   "outputs": [
    {
     "data": {
      "image/png": "[encoded data removed]",
      "text/plain": [
       "<Figure size 640x480 with 1 Axes>"
      ]
     },
     "metadata": {},
     "output_type": "display_data"
    }
   ],
   "source": [
    "#Look at the distribution of the values for the months with histogram and order the values\n",
    "new_df['month'].value_counts().sort_index().plot(kind='bar')\n",
    "plt.show()\n"
   ]
  },
  {
   "cell_type": "markdown",
   "metadata": {},
   "source": [
    "We can see that for specific months different values appear in the dataset. For example, for July we have Jul, Julu, July ; for the October we have Oct, October. "
   ]
  },
  {
   "cell_type": "code",
   "execution_count": 74,
   "metadata": {},
   "outputs": [
    {
     "data": {
      "text/html": [
       "<div>\n",
       "<style scoped>\n",
       "    .dataframe tbody tr th:only-of-type {\n",
       "        vertical-align: middle;\n",
       "    }\n",
       "\n",
       "    .dataframe tbody tr th {\n",
       "        vertical-align: top;\n",
       "    }\n",
       "\n",
       "    .dataframe thead th {\n",
       "        text-align: right;\n",
       "    }\n",
       "</style>\n",
       "<table border=\"1\" class=\"dataframe\">\n",
       "  <thead>\n",
       "    <tr style=\"text-align: right;\">\n",
       "      <th></th>\n",
       "      <th>source</th>\n",
       "      <th>target</th>\n",
       "      <th>vote</th>\n",
       "      <th>result</th>\n",
       "      <th>year_election</th>\n",
       "      <th>date_vote</th>\n",
       "      <th>comment</th>\n",
       "      <th>hour</th>\n",
       "      <th>minute</th>\n",
       "      <th>day</th>\n",
       "      <th>month</th>\n",
       "      <th>year_vote</th>\n",
       "    </tr>\n",
       "  </thead>\n",
       "  <tbody>\n",
       "    <tr>\n",
       "      <th>0</th>\n",
       "      <td>Steel1943</td>\n",
       "      <td>BDD</td>\n",
       "      <td>1</td>\n",
       "      <td>1</td>\n",
       "      <td>2013</td>\n",
       "      <td>23:13, 19 April 2013</td>\n",
       "      <td>'''Support''' as co-nom.</td>\n",
       "      <td>23</td>\n",
       "      <td>13</td>\n",
       "      <td>19</td>\n",
       "      <td>April</td>\n",
       "      <td>2013</td>\n",
       "    </tr>\n",
       "    <tr>\n",
       "      <th>1</th>\n",
       "      <td>Cuchullain</td>\n",
       "      <td>BDD</td>\n",
       "      <td>1</td>\n",
       "      <td>1</td>\n",
       "      <td>2013</td>\n",
       "      <td>01:04, 20 April 2013</td>\n",
       "      <td>'''Support''' as nominator.--</td>\n",
       "      <td>01</td>\n",
       "      <td>04</td>\n",
       "      <td>20</td>\n",
       "      <td>April</td>\n",
       "      <td>2013</td>\n",
       "    </tr>\n",
       "    <tr>\n",
       "      <th>2</th>\n",
       "      <td>INeverCry</td>\n",
       "      <td>BDD</td>\n",
       "      <td>1</td>\n",
       "      <td>1</td>\n",
       "      <td>2013</td>\n",
       "      <td>23:43, 19 April 2013</td>\n",
       "      <td>'''Support''' per noms.</td>\n",
       "      <td>23</td>\n",
       "      <td>43</td>\n",
       "      <td>19</td>\n",
       "      <td>April</td>\n",
       "      <td>2013</td>\n",
       "    </tr>\n",
       "    <tr>\n",
       "      <th>3</th>\n",
       "      <td>Cncmaster</td>\n",
       "      <td>BDD</td>\n",
       "      <td>1</td>\n",
       "      <td>1</td>\n",
       "      <td>2013</td>\n",
       "      <td>00:11, 20 April 2013</td>\n",
       "      <td>'''Support''' per noms. BDD is a strong contri...</td>\n",
       "      <td>00</td>\n",
       "      <td>11</td>\n",
       "      <td>20</td>\n",
       "      <td>April</td>\n",
       "      <td>2013</td>\n",
       "    </tr>\n",
       "    <tr>\n",
       "      <th>4</th>\n",
       "      <td>Miniapolis</td>\n",
       "      <td>BDD</td>\n",
       "      <td>1</td>\n",
       "      <td>1</td>\n",
       "      <td>2013</td>\n",
       "      <td>00:56, 20 April 2013</td>\n",
       "      <td>'''Support''', with great pleasure. I work wit...</td>\n",
       "      <td>00</td>\n",
       "      <td>56</td>\n",
       "      <td>20</td>\n",
       "      <td>April</td>\n",
       "      <td>2013</td>\n",
       "    </tr>\n",
       "    <tr>\n",
       "      <th>...</th>\n",
       "      <td>...</td>\n",
       "      <td>...</td>\n",
       "      <td>...</td>\n",
       "      <td>...</td>\n",
       "      <td>...</td>\n",
       "      <td>...</td>\n",
       "      <td>...</td>\n",
       "      <td>...</td>\n",
       "      <td>...</td>\n",
       "      <td>...</td>\n",
       "      <td>...</td>\n",
       "      <td>...</td>\n",
       "    </tr>\n",
       "    <tr>\n",
       "      <th>198270</th>\n",
       "      <td>172</td>\n",
       "      <td>Vancouverguy</td>\n",
       "      <td>1</td>\n",
       "      <td>1</td>\n",
       "      <td>2003</td>\n",
       "      <td>02:51, 2 Sep 2003</td>\n",
       "      <td>Support</td>\n",
       "      <td>02</td>\n",
       "      <td>51</td>\n",
       "      <td>2</td>\n",
       "      <td>September</td>\n",
       "      <td>2003</td>\n",
       "    </tr>\n",
       "    <tr>\n",
       "      <th>198271</th>\n",
       "      <td>Angela</td>\n",
       "      <td>WhisperToMe</td>\n",
       "      <td>1</td>\n",
       "      <td>1</td>\n",
       "      <td>2003</td>\n",
       "      <td>23:45, 26 Nov 2003</td>\n",
       "      <td>Support.</td>\n",
       "      <td>23</td>\n",
       "      <td>45</td>\n",
       "      <td>26</td>\n",
       "      <td>November</td>\n",
       "      <td>2003</td>\n",
       "    </tr>\n",
       "    <tr>\n",
       "      <th>198272</th>\n",
       "      <td>Jiang</td>\n",
       "      <td>WhisperToMe</td>\n",
       "      <td>1</td>\n",
       "      <td>1</td>\n",
       "      <td>2003</td>\n",
       "      <td></td>\n",
       "      <td>Support. --</td>\n",
       "      <td>None</td>\n",
       "      <td>None</td>\n",
       "      <td>None</td>\n",
       "      <td>None</td>\n",
       "      <td>None</td>\n",
       "    </tr>\n",
       "    <tr>\n",
       "      <th>198273</th>\n",
       "      <td>Pakaran</td>\n",
       "      <td>WhisperToMe</td>\n",
       "      <td>1</td>\n",
       "      <td>1</td>\n",
       "      <td>2003</td>\n",
       "      <td>05:38, 5 Dec 2003</td>\n",
       "      <td>Support.  Age has nothing to do with maturity....</td>\n",
       "      <td>05</td>\n",
       "      <td>38</td>\n",
       "      <td>5</td>\n",
       "      <td>December</td>\n",
       "      <td>2003</td>\n",
       "    </tr>\n",
       "    <tr>\n",
       "      <th>198274</th>\n",
       "      <td>Jimregan</td>\n",
       "      <td>Zanimum</td>\n",
       "      <td>1</td>\n",
       "      <td>1</td>\n",
       "      <td>2003</td>\n",
       "      <td></td>\n",
       "      <td>Support - anyone who can write so much, and so...</td>\n",
       "      <td>None</td>\n",
       "      <td>None</td>\n",
       "      <td>None</td>\n",
       "      <td>None</td>\n",
       "      <td>None</td>\n",
       "    </tr>\n",
       "  </tbody>\n",
       "</table>\n",
       "<p>198275 rows × 12 columns</p>\n",
       "</div>"
      ],
      "text/plain": [
       "            source        target vote result year_election  \\\n",
       "0        Steel1943           BDD    1      1          2013   \n",
       "1       Cuchullain           BDD    1      1          2013   \n",
       "2        INeverCry           BDD    1      1          2013   \n",
       "3        Cncmaster           BDD    1      1          2013   \n",
       "4       Miniapolis           BDD    1      1          2013   \n",
       "...            ...           ...  ...    ...           ...   \n",
       "198270         172  Vancouverguy    1      1          2003   \n",
       "198271      Angela   WhisperToMe    1      1          2003   \n",
       "198272       Jiang   WhisperToMe    1      1          2003   \n",
       "198273     Pakaran   WhisperToMe    1      1          2003   \n",
       "198274    Jimregan       Zanimum    1      1          2003   \n",
       "\n",
       "                   date_vote  \\\n",
       "0       23:13, 19 April 2013   \n",
       "1       01:04, 20 April 2013   \n",
       "2       23:43, 19 April 2013   \n",
       "3       00:11, 20 April 2013   \n",
       "4       00:56, 20 April 2013   \n",
       "...                      ...   \n",
       "198270     02:51, 2 Sep 2003   \n",
       "198271    23:45, 26 Nov 2003   \n",
       "198272                         \n",
       "198273     05:38, 5 Dec 2003   \n",
       "198274                         \n",
       "\n",
       "                                                  comment  hour minute   day  \\\n",
       "0                                '''Support''' as co-nom.    23     13    19   \n",
       "1                           '''Support''' as nominator.--    01     04    20   \n",
       "2                                 '''Support''' per noms.    23     43    19   \n",
       "3       '''Support''' per noms. BDD is a strong contri...    00     11    20   \n",
       "4       '''Support''', with great pleasure. I work wit...    00     56    20   \n",
       "...                                                   ...   ...    ...   ...   \n",
       "198270                                            Support    02     51     2   \n",
       "198271                                           Support.    23     45    26   \n",
       "198272                                        Support. --  None   None  None   \n",
       "198273  Support.  Age has nothing to do with maturity....    05     38     5   \n",
       "198274  Support - anyone who can write so much, and so...  None   None  None   \n",
       "\n",
       "            month year_vote  \n",
       "0           April      2013  \n",
       "1           April      2013  \n",
       "2           April      2013  \n",
       "3           April      2013  \n",
       "4           April      2013  \n",
       "...           ...       ...  \n",
       "198270  September      2003  \n",
       "198271   November      2003  \n",
       "198272       None      None  \n",
       "198273   December      2003  \n",
       "198274       None      None  \n",
       "\n",
       "[198275 rows x 12 columns]"
      ]
     },
     "execution_count": 74,
     "metadata": {},
     "output_type": "execute_result"
    }
   ],
   "source": [
    "#Map the values of the months to the full name of the month\n",
    "month_map = { \n",
    "    \"Apr\" : \"April\",\n",
    "    \"April\" : \"April\",\n",
    "    \"Aug\" : \"August\",\n",
    "    \"August\" : \"August\",\n",
    "    \"Dec\" : \"December\",\n",
    "    \"December\" : \"December\",\n",
    "    \"Feb\" : \"February\",\n",
    "    \"February\" : \"February\",\n",
    "    \"Jan\" : \"January\",\n",
    "    \"Janry\" : \"January\",\n",
    "    \"January\" : \"January\",\n",
    "    \"Jul\" : \"July\",\n",
    "    \"Julu\" : \"July\",\n",
    "    \"July\" : \"July\",\n",
    "    \"Jun\" : \"June\",\n",
    "    \"June\" : \"June\",\n",
    "    \"Mar\" : \"March\",\n",
    "    \"March\" : \"March\",\n",
    "    \"May\" : \"May\",\n",
    "    \"Mya\" : \"May\",\n",
    "    \"Nov\" : \"November\",\n",
    "    \"November\" : \"November\",\n",
    "    \"Oct\" : \"October\",\n",
    "    \"October\" : \"October\",\n",
    "    \"Sep\" : \"September\",\n",
    "    \"September\" : \"September\"\n",
    "}\n",
    "\n",
    "def correction_month (month) : \n",
    "    return month_map.get(month, month)\n",
    "\n",
    "new_df['month'] = new_df['month'].apply(correction_month)\n",
    "new_df"
   ]
  },
  {
   "cell_type": "code",
   "execution_count": 75,
   "metadata": {},
   "outputs": [
    {
     "data": {
      "text/plain": [
       "<Axes: xlabel='year_vote'>"
      ]
     },
     "execution_count": 75,
     "metadata": {},
     "output_type": "execute_result"
    },
    {
     "data": {
      "image/png": "[encoded data removed]",
      "text/plain": [
       "<Figure size 640x480 with 1 Axes>"
      ]
     },
     "metadata": {},
     "output_type": "display_data"
    }
   ],
   "source": [
    "#Look at the distribution of the values for the years with histogram and order the values\n",
    "new_df['year_vote'].value_counts().sort_index().plot(kind='bar')"
   ]
  },
  {
   "cell_type": "markdown",
   "metadata": {},
   "source": [
    "The values for the years seems also to be ok. "
   ]
  },
  {
   "cell_type": "code",
   "execution_count": 77,
   "metadata": {},
   "outputs": [
    {
     "data": {
      "text/html": [
       "<div>\n",
       "<style scoped>\n",
       "    .dataframe tbody tr th:only-of-type {\n",
       "        vertical-align: middle;\n",
       "    }\n",
       "\n",
       "    .dataframe tbody tr th {\n",
       "        vertical-align: top;\n",
       "    }\n",
       "\n",
       "    .dataframe thead th {\n",
       "        text-align: right;\n",
       "    }\n",
       "</style>\n",
       "<table border=\"1\" class=\"dataframe\">\n",
       "  <thead>\n",
       "    <tr style=\"text-align: right;\">\n",
       "      <th></th>\n",
       "      <th>source</th>\n",
       "      <th>target</th>\n",
       "      <th>vote</th>\n",
       "      <th>result</th>\n",
       "      <th>year_election</th>\n",
       "      <th>date_vote</th>\n",
       "      <th>comment</th>\n",
       "    </tr>\n",
       "  </thead>\n",
       "  <tbody>\n",
       "    <tr>\n",
       "      <th>0</th>\n",
       "      <td>Steel1943</td>\n",
       "      <td>BDD</td>\n",
       "      <td>1</td>\n",
       "      <td>1</td>\n",
       "      <td>2013</td>\n",
       "      <td>2013-04-19 23:13:00</td>\n",
       "      <td>'''Support''' as co-nom.</td>\n",
       "    </tr>\n",
       "    <tr>\n",
       "      <th>1</th>\n",
       "      <td>Cuchullain</td>\n",
       "      <td>BDD</td>\n",
       "      <td>1</td>\n",
       "      <td>1</td>\n",
       "      <td>2013</td>\n",
       "      <td>2013-04-20 01:04:00</td>\n",
       "      <td>'''Support''' as nominator.--</td>\n",
       "    </tr>\n",
       "    <tr>\n",
       "      <th>2</th>\n",
       "      <td>INeverCry</td>\n",
       "      <td>BDD</td>\n",
       "      <td>1</td>\n",
       "      <td>1</td>\n",
       "      <td>2013</td>\n",
       "      <td>2013-04-19 23:43:00</td>\n",
       "      <td>'''Support''' per noms.</td>\n",
       "    </tr>\n",
       "    <tr>\n",
       "      <th>3</th>\n",
       "      <td>Cncmaster</td>\n",
       "      <td>BDD</td>\n",
       "      <td>1</td>\n",
       "      <td>1</td>\n",
       "      <td>2013</td>\n",
       "      <td>2013-04-20 00:11:00</td>\n",
       "      <td>'''Support''' per noms. BDD is a strong contri...</td>\n",
       "    </tr>\n",
       "    <tr>\n",
       "      <th>4</th>\n",
       "      <td>Miniapolis</td>\n",
       "      <td>BDD</td>\n",
       "      <td>1</td>\n",
       "      <td>1</td>\n",
       "      <td>2013</td>\n",
       "      <td>2013-04-20 00:56:00</td>\n",
       "      <td>'''Support''', with great pleasure. I work wit...</td>\n",
       "    </tr>\n",
       "    <tr>\n",
       "      <th>...</th>\n",
       "      <td>...</td>\n",
       "      <td>...</td>\n",
       "      <td>...</td>\n",
       "      <td>...</td>\n",
       "      <td>...</td>\n",
       "      <td>...</td>\n",
       "      <td>...</td>\n",
       "    </tr>\n",
       "    <tr>\n",
       "      <th>198270</th>\n",
       "      <td>172</td>\n",
       "      <td>Vancouverguy</td>\n",
       "      <td>1</td>\n",
       "      <td>1</td>\n",
       "      <td>2003</td>\n",
       "      <td>2003-09-02 02:51:00</td>\n",
       "      <td>Support</td>\n",
       "    </tr>\n",
       "    <tr>\n",
       "      <th>198271</th>\n",
       "      <td>Angela</td>\n",
       "      <td>WhisperToMe</td>\n",
       "      <td>1</td>\n",
       "      <td>1</td>\n",
       "      <td>2003</td>\n",
       "      <td>2003-11-26 23:45:00</td>\n",
       "      <td>Support.</td>\n",
       "    </tr>\n",
       "    <tr>\n",
       "      <th>198272</th>\n",
       "      <td>Jiang</td>\n",
       "      <td>WhisperToMe</td>\n",
       "      <td>1</td>\n",
       "      <td>1</td>\n",
       "      <td>2003</td>\n",
       "      <td>NaT</td>\n",
       "      <td>Support. --</td>\n",
       "    </tr>\n",
       "    <tr>\n",
       "      <th>198273</th>\n",
       "      <td>Pakaran</td>\n",
       "      <td>WhisperToMe</td>\n",
       "      <td>1</td>\n",
       "      <td>1</td>\n",
       "      <td>2003</td>\n",
       "      <td>2003-12-05 05:38:00</td>\n",
       "      <td>Support.  Age has nothing to do with maturity....</td>\n",
       "    </tr>\n",
       "    <tr>\n",
       "      <th>198274</th>\n",
       "      <td>Jimregan</td>\n",
       "      <td>Zanimum</td>\n",
       "      <td>1</td>\n",
       "      <td>1</td>\n",
       "      <td>2003</td>\n",
       "      <td>NaT</td>\n",
       "      <td>Support - anyone who can write so much, and so...</td>\n",
       "    </tr>\n",
       "  </tbody>\n",
       "</table>\n",
       "<p>198275 rows × 7 columns</p>\n",
       "</div>"
      ],
      "text/plain": [
       "            source        target vote result year_election  \\\n",
       "0        Steel1943           BDD    1      1          2013   \n",
       "1       Cuchullain           BDD    1      1          2013   \n",
       "2        INeverCry           BDD    1      1          2013   \n",
       "3        Cncmaster           BDD    1      1          2013   \n",
       "4       Miniapolis           BDD    1      1          2013   \n",
       "...            ...           ...  ...    ...           ...   \n",
       "198270         172  Vancouverguy    1      1          2003   \n",
       "198271      Angela   WhisperToMe    1      1          2003   \n",
       "198272       Jiang   WhisperToMe    1      1          2003   \n",
       "198273     Pakaran   WhisperToMe    1      1          2003   \n",
       "198274    Jimregan       Zanimum    1      1          2003   \n",
       "\n",
       "                 date_vote                                            comment  \n",
       "0      2013-04-19 23:13:00                           '''Support''' as co-nom.  \n",
       "1      2013-04-20 01:04:00                      '''Support''' as nominator.--  \n",
       "2      2013-04-19 23:43:00                            '''Support''' per noms.  \n",
       "3      2013-04-20 00:11:00  '''Support''' per noms. BDD is a strong contri...  \n",
       "4      2013-04-20 00:56:00  '''Support''', with great pleasure. I work wit...  \n",
       "...                    ...                                                ...  \n",
       "198270 2003-09-02 02:51:00                                            Support  \n",
       "198271 2003-11-26 23:45:00                                           Support.  \n",
       "198272                 NaT                                        Support. --  \n",
       "198273 2003-12-05 05:38:00  Support.  Age has nothing to do with maturity....  \n",
       "198274                 NaT  Support - anyone who can write so much, and so...  \n",
       "\n",
       "[198275 rows x 7 columns]"
      ]
     },
     "execution_count": 77,
     "metadata": {},
     "output_type": "execute_result"
    }
   ],
   "source": [
    "new_df['date_vote'] = pd.to_datetime(new_df['day'].astype(str) + ' ' +\n",
    "                            new_df['month'] + ' ' +\n",
    "                            new_df['year_vote'].astype(str) + ' ' +\n",
    "                            new_df['hour'].astype(str) + ':' +\n",
    "                            new_df['minute'].astype(str),\n",
    "                            format='%d %B %Y %H:%M' , errors = 'coerce')\n",
    "\n",
    "new_df.drop(['hour', 'minute', 'day', 'month', 'year_vote'], axis=1, inplace=True)\n",
    "new_df"
   ]
  },
  {
   "cell_type": "code",
   "execution_count": 78,
   "metadata": {},
   "outputs": [
    {
     "name": "stdout",
     "output_type": "stream",
     "text": [
      "The number of votes for which the date is missing or incorrect is 9368\n"
     ]
    }
   ],
   "source": [
    "#Look at the number of missing dates of votes\n",
    "non_date_votes = new_df['date_vote'].isnull().sum()\n",
    "print(f'The number of votes for which the date is missing or incorrect is {non_date_votes}')\n"
   ]
  },
  {
   "cell_type": "markdown",
   "metadata": {},
   "source": [
    "### 2.2 Dive into user name source"
   ]
  },
  {
   "cell_type": "code",
   "execution_count": 80,
   "metadata": {},
   "outputs": [],
   "source": [
    "#Transform the source column to string\n",
    "new_df['source'] = new_df['source'].astype(str)"
   ]
  },
  {
   "cell_type": "code",
   "execution_count": 85,
   "metadata": {},
   "outputs": [
    {
     "name": "stdout",
     "output_type": "stream",
     "text": [
      "The number of unique voters is 10417\n",
      "The number of voters without tags is 0\n"
     ]
    }
   ],
   "source": [
    "#Look at the number of unique source users\n",
    "unique_voters = new_df['source'].nunique()\n",
    "print(f'The number of unique voters is {unique_voters}')\n",
    "\n",
    "#Look at the number of null values for the source\n",
    "nan_source = new_df['source'].isnull().sum()\n",
    "print(f'The number of voters without tags is {nan_source}')"
   ]
  },
  {
   "cell_type": "markdown",
   "metadata": {},
   "source": [
    "### 2.3 Dive into target user name "
   ]
  },
  {
   "cell_type": "code",
   "execution_count": 99,
   "metadata": {},
   "outputs": [],
   "source": [
    "#Transform the source column to string\n",
    "new_df['target'] = new_df['target'].astype(str)\n",
    "new_df['source'] = new_df['target'].astype(str)"
   ]
  },
  {
   "cell_type": "code",
   "execution_count": 86,
   "metadata": {},
   "outputs": [
    {
     "name": "stdout",
     "output_type": "stream",
     "text": [
      "The number of unique users running for election is 3497\n",
      "The number of nan values for the source is 0\n"
     ]
    }
   ],
   "source": [
    "#Look at the number of unique source users\n",
    "unique_electives = new_df['target'].nunique()\n",
    "print(f'The number of unique users running for election is {unique_electives}')\n",
    "\n",
    "#Look at the number of null values for the source\n",
    "nan_target = new_df['target'].isnull().sum()\n",
    "print(f'The number of nan values for the source is {nan_target}')"
   ]
  },
  {
   "cell_type": "markdown",
   "metadata": {},
   "source": [
    "### 2.4 Dive into the year_election values"
   ]
  },
  {
   "cell_type": "code",
   "execution_count": 90,
   "metadata": {},
   "outputs": [
    {
     "name": "stdout",
     "output_type": "stream",
     "text": [
      "count     198275\n",
      "unique        11\n",
      "top         2006\n",
      "freq       45325\n",
      "Name: year_election, dtype: object\n"
     ]
    },
    {
     "data": {
      "image/png": "[encoded data removed]",
      "text/plain": [
       "<Figure size 640x480 with 1 Axes>"
      ]
     },
     "metadata": {},
     "output_type": "display_data"
    }
   ],
   "source": [
    "#Look at the distribution of the values for year_election\n",
    "print(new_df['year_election'].describe())\n",
    "new_df['year_election'].value_counts().sort_index().plot(kind='bar')\n",
    "plt.show()"
   ]
  },
  {
   "cell_type": "markdown",
   "metadata": {},
   "source": [
    "### 2.5 Dive into the vote and results values\n"
   ]
  },
  {
   "cell_type": "code",
   "execution_count": 91,
   "metadata": {},
   "outputs": [
    {
     "name": "stdout",
     "output_type": "stream",
     "text": [
      "count     198275\n",
      "unique         3\n",
      "top            1\n",
      "freq      144451\n",
      "Name: vote, dtype: object\n"
     ]
    },
    {
     "data": {
      "image/png": "[encoded data removed]",
      "text/plain": [
       "<Figure size 640x480 with 1 Axes>"
      ]
     },
     "metadata": {},
     "output_type": "display_data"
    }
   ],
   "source": [
    "#Look at the distribution of the values for the vote\n",
    "print(new_df['vote'].describe())\n",
    "new_df['vote'].value_counts().sort_index().plot(kind='bar')\n",
    "plt.show()"
   ]
  },
  {
   "cell_type": "code",
   "execution_count": 92,
   "metadata": {},
   "outputs": [
    {
     "name": "stdout",
     "output_type": "stream",
     "text": [
      "count     198275\n",
      "unique         2\n",
      "top            1\n",
      "freq      123288\n",
      "Name: result, dtype: object\n"
     ]
    },
    {
     "data": {
      "image/png": "[encoded data removed]",
      "text/plain": [
       "<Figure size 640x480 with 1 Axes>"
      ]
     },
     "metadata": {},
     "output_type": "display_data"
    }
   ],
   "source": [
    "#Look at the distribution of the values for the result\n",
    "print(new_df['result'].describe())\n",
    "new_df['result'].value_counts().sort_index().plot(kind='bar')\n",
    "plt.show()\n"
   ]
  },
  {
   "cell_type": "markdown",
   "metadata": {},
   "source": [
    "## 3. Voting results analysis"
   ]
  },
  {
   "cell_type": "code",
   "execution_count": 126,
   "metadata": {},
   "outputs": [],
   "source": [
    "cleaned_df = new_df.copy(deep=True)\n",
    "\n",
    "cleaned_df['vote'] = cleaned_df['vote'].astype(int)\n",
    "cleaned_df['result'] = cleaned_df['result'].astype(int)\n",
    "cleaned_df['year_election'] = cleaned_df['year_election'].astype(int)"
   ]
  },
  {
   "cell_type": "code",
   "execution_count": 146,
   "metadata": {},
   "outputs": [
    {
     "data": {
      "text/plain": [
       "array([2013, 2012, 2011, 2010, 2009, 2008, 2007, 2006, 2005, 2004, 2003])"
      ]
     },
     "execution_count": 146,
     "metadata": {},
     "output_type": "execute_result"
    }
   ],
   "source": [
    "cleaned_df['year_election'].unique()"
   ]
  },
  {
   "cell_type": "code",
   "execution_count": null,
   "metadata": {},
   "outputs": [],
   "source": [
    "#We know that "
   ]
  },
  {
   "cell_type": "code",
   "execution_count": 158,
   "metadata": {},
   "outputs": [],
   "source": [
    "#We compute here different statistics\n",
    "multiple_elections = cleaned_df.groupby(['target' , 'result']).apply(lambda x : pd.Series({\n",
    "    'number_of_votes' : len(x['source']), \n",
    "    'ratio_positive_votes' : x[x.vote == 1]['vote'].sum() / len(x.source), \n",
    "    'average_comment_length' : x['comment'].str.len().mean(),\n",
    "    'election_year' : x['year_election'].unique()\n",
    "})).reset_index()"
   ]
  },
  {
   "cell_type": "code",
   "execution_count": 162,
   "metadata": {},
   "outputs": [
    {
     "data": {
      "text/plain": [
       "<Axes: xlabel='result', ylabel='ratio_positive_votes'>"
      ]
     },
     "execution_count": 162,
     "metadata": {},
     "output_type": "execute_result"
    },
    {
     "data": {
      "image/png": "[encoded data removed]",
      "text/plain": [
       "<Figure size 640x480 with 1 Axes>"
      ]
     },
     "metadata": {},
     "output_type": "display_data"
    }
   ],
   "source": [
    "sns.barplot( x= 'result' , y = 'ratio_positive_votes' , data = multiple_elections)"
   ]
  },
  {
   "cell_type": "code",
   "execution_count": 141,
   "metadata": {},
   "outputs": [
    {
     "data": {
      "text/plain": [
       "-0.606264657433226"
      ]
     },
     "execution_count": 141,
     "metadata": {},
     "output_type": "execute_result"
    }
   ],
   "source": [
    "#Compute the correlation between the outcome of the vote and the ratio of positive votes\n",
    "multiple_elections['result'].corr(multiple_elections['ratio_positive_votes'])\n",
    "\n",
    "#Compute the correlation between the outcome of the vote and the average length of the comment\n",
    "multiple_elections['result'].corr(multiple_elections['average_comment_length'])\n"
   ]
  },
  {
   "cell_type": "code",
   "execution_count": null,
   "metadata": {},
   "outputs": [],
   "source": []
  }
 ],
 "metadata": {
  "kernelspec": {
   "display_name": "ada",
   "language": "python",
   "name": "python3"
  },
  "language_info": {
   "codemirror_mode": {
    "name": "ipython",
    "version": 3
   },
   "file_extension": ".py",
   "mimetype": "text/x-python",
   "name": "python",
   "nbconvert_exporter": "python",
   "pygments_lexer": "ipython3",
   "version": "3.9.7"
  },
  "orig_nbformat": 4
 },
 "nbformat": 4,
 "nbformat_minor": 2
}
